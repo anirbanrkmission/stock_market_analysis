{
 "cells": [
  {
   "cell_type": "code",
   "execution_count": 1,
   "metadata": {},
   "outputs": [],
   "source": [
    "import pandas as pd\n",
    "import matplotlib.pyplot as plt\n",
    "import numpy as np\n",
    "from sklearn.naive_bayes import GaussianNB"
   ]
  },
  {
   "cell_type": "code",
   "execution_count": 2,
   "metadata": {
    "scrolled": false
   },
   "outputs": [
    {
     "data": {
      "text/html": [
       "<div>\n",
       "<style scoped>\n",
       "    .dataframe tbody tr th:only-of-type {\n",
       "        vertical-align: middle;\n",
       "    }\n",
       "\n",
       "    .dataframe tbody tr th {\n",
       "        vertical-align: top;\n",
       "    }\n",
       "\n",
       "    .dataframe thead th {\n",
       "        text-align: right;\n",
       "    }\n",
       "</style>\n",
       "<table border=\"1\" class=\"dataframe\">\n",
       "  <thead>\n",
       "    <tr style=\"text-align: right;\">\n",
       "      <th></th>\n",
       "      <th>Year</th>\n",
       "      <th>Open Price</th>\n",
       "      <th>High Price</th>\n",
       "      <th>Low Price</th>\n",
       "      <th>Close Price</th>\n",
       "      <th>No.of Shares</th>\n",
       "      <th>No. of Trades</th>\n",
       "      <th>Total Turnover (Rs.)</th>\n",
       "      <th>Deliverable Quantity</th>\n",
       "      <th>% Deli. Qty to Traded Qty</th>\n",
       "      <th>Spread High-Low</th>\n",
       "      <th>Spread Close-Open</th>\n",
       "      <th>DematFlagExist</th>\n",
       "    </tr>\n",
       "  </thead>\n",
       "  <tbody>\n",
       "    <tr>\n",
       "      <th>0</th>\n",
       "      <td>2004</td>\n",
       "      <td>1076.00</td>\n",
       "      <td>1338.00</td>\n",
       "      <td>958.55</td>\n",
       "      <td>1335.50</td>\n",
       "      <td>47397004</td>\n",
       "      <td>1162694</td>\n",
       "      <td>51266914295</td>\n",
       "      <td>12109331</td>\n",
       "      <td>25.55</td>\n",
       "      <td>379.45</td>\n",
       "      <td>259.50</td>\n",
       "      <td>NaN</td>\n",
       "    </tr>\n",
       "    <tr>\n",
       "      <th>1</th>\n",
       "      <td>2005</td>\n",
       "      <td>1349.80</td>\n",
       "      <td>1750.85</td>\n",
       "      <td>1091.00</td>\n",
       "      <td>1702.45</td>\n",
       "      <td>63160750</td>\n",
       "      <td>1422277</td>\n",
       "      <td>84809899203</td>\n",
       "      <td>20531913</td>\n",
       "      <td>32.51</td>\n",
       "      <td>659.85</td>\n",
       "      <td>352.65</td>\n",
       "      <td>NaN</td>\n",
       "    </tr>\n",
       "    <tr>\n",
       "      <th>2</th>\n",
       "      <td>2006</td>\n",
       "      <td>1707.00</td>\n",
       "      <td>2099.00</td>\n",
       "      <td>900.00</td>\n",
       "      <td>1218.60</td>\n",
       "      <td>57116956</td>\n",
       "      <td>1640999</td>\n",
       "      <td>79851718555</td>\n",
       "      <td>29973413</td>\n",
       "      <td>52.48</td>\n",
       "      <td>1199.00</td>\n",
       "      <td>-488.40</td>\n",
       "      <td>NaN</td>\n",
       "    </tr>\n",
       "    <tr>\n",
       "      <th>3</th>\n",
       "      <td>2007</td>\n",
       "      <td>1250.00</td>\n",
       "      <td>1399.00</td>\n",
       "      <td>935.00</td>\n",
       "      <td>1083.35</td>\n",
       "      <td>79522052</td>\n",
       "      <td>1747807</td>\n",
       "      <td>92570784422</td>\n",
       "      <td>50158624</td>\n",
       "      <td>63.08</td>\n",
       "      <td>464.00</td>\n",
       "      <td>-166.65</td>\n",
       "      <td>NaN</td>\n",
       "    </tr>\n",
       "    <tr>\n",
       "      <th>4</th>\n",
       "      <td>2008</td>\n",
       "      <td>1065.10</td>\n",
       "      <td>1078.00</td>\n",
       "      <td>418.00</td>\n",
       "      <td>478.10</td>\n",
       "      <td>75871717</td>\n",
       "      <td>2106962</td>\n",
       "      <td>56944484110</td>\n",
       "      <td>28717825</td>\n",
       "      <td>37.85</td>\n",
       "      <td>660.00</td>\n",
       "      <td>-587.00</td>\n",
       "      <td>NaN</td>\n",
       "    </tr>\n",
       "    <tr>\n",
       "      <th>5</th>\n",
       "      <td>2009</td>\n",
       "      <td>485.00</td>\n",
       "      <td>805.00</td>\n",
       "      <td>355.25</td>\n",
       "      <td>749.75</td>\n",
       "      <td>108462189</td>\n",
       "      <td>2084765</td>\n",
       "      <td>60476861965</td>\n",
       "      <td>39724991</td>\n",
       "      <td>36.63</td>\n",
       "      <td>449.75</td>\n",
       "      <td>264.75</td>\n",
       "      <td>NaN</td>\n",
       "    </tr>\n",
       "    <tr>\n",
       "      <th>6</th>\n",
       "      <td>2010</td>\n",
       "      <td>750.70</td>\n",
       "      <td>1179.00</td>\n",
       "      <td>692.00</td>\n",
       "      <td>1165.05</td>\n",
       "      <td>62694021</td>\n",
       "      <td>1396016</td>\n",
       "      <td>53121079184</td>\n",
       "      <td>26982541</td>\n",
       "      <td>43.04</td>\n",
       "      <td>487.00</td>\n",
       "      <td>414.35</td>\n",
       "      <td>NaN</td>\n",
       "    </tr>\n",
       "    <tr>\n",
       "      <th>7</th>\n",
       "      <td>2011</td>\n",
       "      <td>1165.00</td>\n",
       "      <td>1247.00</td>\n",
       "      <td>902.90</td>\n",
       "      <td>1161.25</td>\n",
       "      <td>50122536</td>\n",
       "      <td>1903284</td>\n",
       "      <td>55627676107</td>\n",
       "      <td>16354716</td>\n",
       "      <td>32.63</td>\n",
       "      <td>344.10</td>\n",
       "      <td>-3.75</td>\n",
       "      <td>NaN</td>\n",
       "    </tr>\n",
       "    <tr>\n",
       "      <th>8</th>\n",
       "      <td>2012</td>\n",
       "      <td>1155.15</td>\n",
       "      <td>1438.00</td>\n",
       "      <td>1046.55</td>\n",
       "      <td>1258.55</td>\n",
       "      <td>35695684</td>\n",
       "      <td>1362552</td>\n",
       "      <td>43607787115</td>\n",
       "      <td>14942552</td>\n",
       "      <td>41.86</td>\n",
       "      <td>391.45</td>\n",
       "      <td>103.40</td>\n",
       "      <td>NaN</td>\n",
       "    </tr>\n",
       "    <tr>\n",
       "      <th>9</th>\n",
       "      <td>2013</td>\n",
       "      <td>1268.00</td>\n",
       "      <td>2258.05</td>\n",
       "      <td>1255.00</td>\n",
       "      <td>2170.95</td>\n",
       "      <td>31269625</td>\n",
       "      <td>1672640</td>\n",
       "      <td>52925555188</td>\n",
       "      <td>12284320</td>\n",
       "      <td>39.29</td>\n",
       "      <td>1003.05</td>\n",
       "      <td>902.95</td>\n",
       "      <td>NaN</td>\n",
       "    </tr>\n",
       "    <tr>\n",
       "      <th>10</th>\n",
       "      <td>2014</td>\n",
       "      <td>2180.00</td>\n",
       "      <td>2834.00</td>\n",
       "      <td>2000.50</td>\n",
       "      <td>2554.70</td>\n",
       "      <td>23589135</td>\n",
       "      <td>2149541</td>\n",
       "      <td>54854681400</td>\n",
       "      <td>9657691</td>\n",
       "      <td>40.94</td>\n",
       "      <td>833.50</td>\n",
       "      <td>374.70</td>\n",
       "      <td>NaN</td>\n",
       "    </tr>\n",
       "    <tr>\n",
       "      <th>11</th>\n",
       "      <td>2015</td>\n",
       "      <td>2554.35</td>\n",
       "      <td>2810.00</td>\n",
       "      <td>2316.65</td>\n",
       "      <td>2433.35</td>\n",
       "      <td>19807559</td>\n",
       "      <td>1589117</td>\n",
       "      <td>50096845044</td>\n",
       "      <td>9375982</td>\n",
       "      <td>47.34</td>\n",
       "      <td>493.35</td>\n",
       "      <td>-121.00</td>\n",
       "      <td>NaN</td>\n",
       "    </tr>\n",
       "    <tr>\n",
       "      <th>12</th>\n",
       "      <td>2016</td>\n",
       "      <td>2432.10</td>\n",
       "      <td>2740.00</td>\n",
       "      <td>2054.70</td>\n",
       "      <td>2361.95</td>\n",
       "      <td>22454635</td>\n",
       "      <td>1091505</td>\n",
       "      <td>53619879421</td>\n",
       "      <td>12977264</td>\n",
       "      <td>57.79</td>\n",
       "      <td>685.30</td>\n",
       "      <td>-70.15</td>\n",
       "      <td>NaN</td>\n",
       "    </tr>\n",
       "    <tr>\n",
       "      <th>13</th>\n",
       "      <td>2017</td>\n",
       "      <td>2365.00</td>\n",
       "      <td>2774.00</td>\n",
       "      <td>2154.30</td>\n",
       "      <td>2700.40</td>\n",
       "      <td>20975708</td>\n",
       "      <td>846470</td>\n",
       "      <td>51317289605</td>\n",
       "      <td>11384382</td>\n",
       "      <td>54.27</td>\n",
       "      <td>619.70</td>\n",
       "      <td>335.40</td>\n",
       "      <td>NaN</td>\n",
       "    </tr>\n",
       "    <tr>\n",
       "      <th>14</th>\n",
       "      <td>2018</td>\n",
       "      <td>2689.80</td>\n",
       "      <td>3674.00</td>\n",
       "      <td>1712.90</td>\n",
       "      <td>2078.20</td>\n",
       "      <td>31859005</td>\n",
       "      <td>1042613</td>\n",
       "      <td>79924019721</td>\n",
       "      <td>15541703</td>\n",
       "      <td>48.78</td>\n",
       "      <td>1961.10</td>\n",
       "      <td>-611.60</td>\n",
       "      <td>NaN</td>\n",
       "    </tr>\n",
       "  </tbody>\n",
       "</table>\n",
       "</div>"
      ],
      "text/plain": [
       "    Year  Open Price  High Price  Low Price  Close Price  No.of Shares  \\\n",
       "0   2004     1076.00     1338.00     958.55      1335.50      47397004   \n",
       "1   2005     1349.80     1750.85    1091.00      1702.45      63160750   \n",
       "2   2006     1707.00     2099.00     900.00      1218.60      57116956   \n",
       "3   2007     1250.00     1399.00     935.00      1083.35      79522052   \n",
       "4   2008     1065.10     1078.00     418.00       478.10      75871717   \n",
       "5   2009      485.00      805.00     355.25       749.75     108462189   \n",
       "6   2010      750.70     1179.00     692.00      1165.05      62694021   \n",
       "7   2011     1165.00     1247.00     902.90      1161.25      50122536   \n",
       "8   2012     1155.15     1438.00    1046.55      1258.55      35695684   \n",
       "9   2013     1268.00     2258.05    1255.00      2170.95      31269625   \n",
       "10  2014     2180.00     2834.00    2000.50      2554.70      23589135   \n",
       "11  2015     2554.35     2810.00    2316.65      2433.35      19807559   \n",
       "12  2016     2432.10     2740.00    2054.70      2361.95      22454635   \n",
       "13  2017     2365.00     2774.00    2154.30      2700.40      20975708   \n",
       "14  2018     2689.80     3674.00    1712.90      2078.20      31859005   \n",
       "\n",
       "    No. of Trades  Total Turnover (Rs.)  Deliverable Quantity  \\\n",
       "0         1162694           51266914295              12109331   \n",
       "1         1422277           84809899203              20531913   \n",
       "2         1640999           79851718555              29973413   \n",
       "3         1747807           92570784422              50158624   \n",
       "4         2106962           56944484110              28717825   \n",
       "5         2084765           60476861965              39724991   \n",
       "6         1396016           53121079184              26982541   \n",
       "7         1903284           55627676107              16354716   \n",
       "8         1362552           43607787115              14942552   \n",
       "9         1672640           52925555188              12284320   \n",
       "10        2149541           54854681400               9657691   \n",
       "11        1589117           50096845044               9375982   \n",
       "12        1091505           53619879421              12977264   \n",
       "13         846470           51317289605              11384382   \n",
       "14        1042613           79924019721              15541703   \n",
       "\n",
       "    % Deli. Qty to Traded Qty  Spread High-Low  Spread Close-Open  \\\n",
       "0                       25.55           379.45             259.50   \n",
       "1                       32.51           659.85             352.65   \n",
       "2                       52.48          1199.00            -488.40   \n",
       "3                       63.08           464.00            -166.65   \n",
       "4                       37.85           660.00            -587.00   \n",
       "5                       36.63           449.75             264.75   \n",
       "6                       43.04           487.00             414.35   \n",
       "7                       32.63           344.10              -3.75   \n",
       "8                       41.86           391.45             103.40   \n",
       "9                       39.29          1003.05             902.95   \n",
       "10                      40.94           833.50             374.70   \n",
       "11                      47.34           493.35            -121.00   \n",
       "12                      57.79           685.30             -70.15   \n",
       "13                      54.27           619.70             335.40   \n",
       "14                      48.78          1961.10            -611.60   \n",
       "\n",
       "    DematFlagExist  \n",
       "0              NaN  \n",
       "1              NaN  \n",
       "2              NaN  \n",
       "3              NaN  \n",
       "4              NaN  \n",
       "5              NaN  \n",
       "6              NaN  \n",
       "7              NaN  \n",
       "8              NaN  \n",
       "9              NaN  \n",
       "10             NaN  \n",
       "11             NaN  \n",
       "12             NaN  \n",
       "13             NaN  \n",
       "14             NaN  "
      ]
     },
     "execution_count": 2,
     "metadata": {},
     "output_type": "execute_result"
    }
   ],
   "source": [
    "data_year_all = pd.read_csv(\"D:/Data-Analysis/Stock Market/TCS_YEAR_ALL.csv\")\n",
    "data_year_all"
   ]
  },
  {
   "cell_type": "code",
   "execution_count": 3,
   "metadata": {},
   "outputs": [],
   "source": [
    "data_year_loss = data_year_all[data_year_all['Spread Close-Open']<0]"
   ]
  },
  {
   "cell_type": "code",
   "execution_count": 4,
   "metadata": {},
   "outputs": [
    {
     "name": "stdout",
     "output_type": "stream",
     "text": [
      "[4.73946419e+07 6.31556844e+07 5.71139729e+07 7.95158909e+07\n",
      " 7.58727213e+07 1.08449334e+08 6.26917774e+07 5.01217162e+07\n",
      " 3.56964931e+07 3.12657674e+07 2.35898657e+07 1.98056232e+07\n",
      " 2.24558989e+07 2.09773024e+07 3.18608098e+07]\n"
     ]
    }
   ],
   "source": [
    "del_qty = np.array(data_year_all['Deliverable Quantity'])\n",
    "del_qt_pr = np.array(data_year_all['% Deli. Qty to Traded Qty'])\n",
    "\n",
    "traded_qty = (del_qty/del_qt_pr)*100\n",
    "print(traded_qty)"
   ]
  },
  {
   "cell_type": "code",
   "execution_count": 5,
   "metadata": {},
   "outputs": [
    {
     "data": {
      "text/plain": [
       "[<matplotlib.lines.Line2D at 0x5686588>]"
      ]
     },
     "execution_count": 5,
     "metadata": {},
     "output_type": "execute_result"
    },
    {
     "data": {
      "image/png": "[encoded data removed]",
      "text/plain": [
       "<Figure size 432x288 with 1 Axes>"
      ]
     },
     "metadata": {},
     "output_type": "display_data"
    }
   ],
   "source": [
    "plt.plot(data_year_all['High Price'], \"-g\")\n",
    "plt.plot(data_year_all['Low Price'], \"-r\")\n",
    "plt.plot(data_year_all['Open Price'], \"-b\")"
   ]
  },
  {
   "cell_type": "code",
   "execution_count": 43,
   "metadata": {},
   "outputs": [
    {
     "data": {
      "text/plain": [
       "[<matplotlib.lines.Line2D at 0xb7da080>,\n",
       " <matplotlib.lines.Line2D at 0xb7da550>]"
      ]
     },
     "execution_count": 43,
     "metadata": {},
     "output_type": "execute_result"
    },
    {
     "data": {
      "image/png": "[encoded data removed]",
      "text/plain": [
       "<Figure size 432x288 with 1 Axes>"
      ]
     },
     "metadata": {},
     "output_type": "display_data"
    }
   ],
   "source": [
    "x = np.array([i for i in range(-600,900,100)])\n",
    "plt.plot(x, \"-b\", data_year_all['Spread Close-Open'], \"+r\")"
   ]
  },
  {
   "cell_type": "code",
   "execution_count": 44,
   "metadata": {},
   "outputs": [
    {
     "data": {
      "text/plain": [
       "LinearRegression(copy_X=True, fit_intercept=True, n_jobs=1, normalize=False)"
      ]
     },
     "execution_count": 44,
     "metadata": {},
     "output_type": "execute_result"
    }
   ],
   "source": [
    "#ftr_op_cl = GaussianNB()\n",
    "#pred_op_cl = ftr_op_cl.fit(np.array(data_year_all['Year']).reshape(-1, 1), np.array(data_year_all['Spread Close-Open']))\n",
    "\n",
    "from sklearn import linear_model\n",
    "regr = linear_model.LinearRegression()\n",
    "train_year = np.array(data_year_all['Year'])\n",
    "train_c_o = np.array(data_year_all['Spread Close-Open'])\n",
    "regr.fit(train_year.reshape(-1, 1), train_c_o)"
   ]
  },
  {
   "cell_type": "code",
   "execution_count": 45,
   "metadata": {},
   "outputs": [],
   "source": [
    "coef = regr.coef_\n",
    "incpt = regr.intercept_"
   ]
  },
  {
   "cell_type": "code",
   "execution_count": 50,
   "metadata": {},
   "outputs": [
    {
     "name": "stdout",
     "output_type": "stream",
     "text": [
      "[2019 2020 2021 2022 2023 2024 2025 2026 2027 2028 2029 2030 2031 2032\n",
      " 2033]\n",
      "[]\n"
     ]
    }
   ],
   "source": [
    "test_year = np.array([i for i in range(2019,2034)])\n",
    "test_c_o = np.array([])\n",
    "print(test_year, test_c_o, sep=\"\\n\")"
   ]
  },
  {
   "cell_type": "code",
   "execution_count": 51,
   "metadata": {},
   "outputs": [
    {
     "name": "stdout",
     "output_type": "stream",
     "text": [
      "[61.74904762 61.4747619  61.20047619 60.92619048 60.65190476 60.37761905\n",
      " 60.10333333 59.82904762 59.5547619  59.28047619 59.00619048 58.73190476\n",
      " 58.45761905 58.18333333 57.90904762]\n"
     ]
    },
    {
     "data": {
      "text/plain": [
       "[<matplotlib.lines.Line2D at 0xb85fe80>]"
      ]
     },
     "execution_count": 51,
     "metadata": {},
     "output_type": "execute_result"
    },
    {
     "data": {
      "image/png": "[encoded data removed]",
      "text/plain": [
       "<Figure size 432x288 with 1 Axes>"
      ]
     },
     "metadata": {},
     "output_type": "display_data"
    }
   ],
   "source": [
    "test_c_o = coef*test_year + incpt\n",
    "print(test_c_o)\n",
    "plt.grid()\n",
    "plt.plot(test_year, test_c_o)"
   ]
  },
  {
   "cell_type": "code",
   "execution_count": 52,
   "metadata": {},
   "outputs": [
    {
     "name": "stdout",
     "output_type": "stream",
     "text": [
      "450120.67177418957\n",
      "1.0\n"
     ]
    }
   ],
   "source": [
    "mean_err = np.mean((regr.predict(test_c_o.reshape(-1,1)) - train_c_o)**2)\n",
    "score = regr.score(test_year.reshape(-1,1), test_c_o.reshape(-1,1))\n",
    "\n",
    "print(mean_err, score, sep=\"\\n\")"
   ]
  },
  {
   "cell_type": "code",
   "execution_count": 61,
   "metadata": {},
   "outputs": [
    {
     "name": "stdout",
     "output_type": "stream",
     "text": [
      "[ True  True False False False  True  True False  True  True  True False\n",
      " False  True False]\n"
     ]
    },
    {
     "name": "stderr",
     "output_type": "stream",
     "text": [
      "C:\\Users\\Anirban\\Anaconda3\\lib\\site-packages\\sklearn\\utils\\validation.py:578: DataConversionWarning: A column-vector y was passed when a 1d array was expected. Please change the shape of y to (n_samples, ), for example using ravel().\n",
      "  y = column_or_1d(y, warn=True)\n"
     ]
    },
    {
     "data": {
      "text/plain": [
       "LogisticRegression(C=100000.0, class_weight=None, dual=False,\n",
       "          fit_intercept=True, intercept_scaling=1, max_iter=100,\n",
       "          multi_class='ovr', n_jobs=1, penalty='l2', random_state=None,\n",
       "          solver='liblinear', tol=0.0001, verbose=0, warm_start=False)"
      ]
     },
     "execution_count": 61,
     "metadata": {},
     "output_type": "execute_result"
    }
   ],
   "source": [
    "log_train_c_o = np.array(list(map(lambda x: x>0, train_c_o)))\n",
    "print(log_train_c_o)\n",
    "\n",
    "logistic = linear_model.LogisticRegression(C=1e5)\n",
    "logistic.fit(train_year.reshape(-1,1), log_train_c_o.reshape(-1,1))"
   ]
  },
  {
   "cell_type": "code",
   "execution_count": 64,
   "metadata": {},
   "outputs": [
    {
     "name": "stdout",
     "output_type": "stream",
     "text": [
      "[[6.61352427e-05]]\n",
      "[3.31497886e-08]\n"
     ]
    }
   ],
   "source": [
    "log_coef = logistic.coef_\n",
    "log_incpt = logistic.intercept_\n",
    "\n",
    "print(log_coef, log_incpt, sep=\"\\n\")"
   ]
  },
  {
   "cell_type": "code",
   "execution_count": 68,
   "metadata": {},
   "outputs": [
    {
     "name": "stdout",
     "output_type": "stream",
     "text": [
      "[[0.53333229]\n",
      " [0.53334875]\n",
      " [0.53336521]\n",
      " [0.53338167]\n",
      " [0.53339813]\n",
      " [0.53341459]\n",
      " [0.53343105]\n",
      " [0.53344751]\n",
      " [0.53346397]\n",
      " [0.53348043]\n",
      " [0.53349689]\n",
      " [0.53351335]\n",
      " [0.53352981]\n",
      " [0.53354627]\n",
      " [0.53356272]]\n"
     ]
    },
    {
     "data": {
      "text/plain": [
       "[<matplotlib.lines.Line2D at 0xca2cba8>]"
      ]
     },
     "execution_count": 68,
     "metadata": {},
     "output_type": "execute_result"
    },
    {
     "data": {
      "image/png": "[encoded data removed]",
      "text/plain": [
       "<Figure size 432x288 with 1 Axes>"
      ]
     },
     "metadata": {},
     "output_type": "display_data"
    }
   ],
   "source": [
    "import math\n",
    "\n",
    "def sigmoid(x):\n",
    "    return 1 / (1 + math.exp(-x))\n",
    "\n",
    "test_c_o = np.array(list(map(lambda x: sigmoid(log_coef*x)+log_incpt , test_year)))\n",
    "print(test_c_o)\n",
    "plt.grid()\n",
    "plt.plot(test_year, test_c_o)\n",
    "\n"
   ]
  },
  {
   "cell_type": "code",
   "execution_count": null,
   "metadata": {},
   "outputs": [],
   "source": []
  }
 ],
 "metadata": {
  "kernelspec": {
   "display_name": "Python 3",
   "language": "python",
   "name": "python3"
  },
  "language_info": {
   "codemirror_mode": {
    "name": "ipython",
    "version": 3
   },
   "file_extension": ".py",
   "mimetype": "text/x-python",
   "name": "python",
   "nbconvert_exporter": "python",
   "pygments_lexer": "ipython3",
   "version": "3.6.5"
  }
 },
 "nbformat": 4,
 "nbformat_minor": 2
}
