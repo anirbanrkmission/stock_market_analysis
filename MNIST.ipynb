{
  "nbformat": 4,
  "nbformat_minor": 0,
  "metadata": {
    "colab": {
      "name": "MNIST.ipynb",
      "version": "0.3.2",
      "provenance": [],
      "collapsed_sections": []
    },
    "kernelspec": {
      "name": "python3",
      "display_name": "Python 3"
    }
  },
  "cells": [
    {
      "metadata": {
        "id": "2Yc_YkBS1f7M",
        "colab_type": "code",
        "colab": {}
      },
      "cell_type": "code",
      "source": [
        "import tensorflow as tf"
      ],
      "execution_count": 0,
      "outputs": []
    },
    {
      "metadata": {
        "id": "3_NoGvBC2Zr5",
        "colab_type": "code",
        "colab": {}
      },
      "cell_type": "code",
      "source": [
        "import matplotlib.pyplot as plt\n",
        "import numpy as np"
      ],
      "execution_count": 0,
      "outputs": []
    },
    {
      "metadata": {
        "id": "UmJM7t1m1kv2",
        "colab_type": "code",
        "colab": {
          "base_uri": "https://localhost:8080/",
          "height": 273
        },
        "outputId": "63d79780-dd24-4fa3-8685-d8ecaaaab60a"
      },
      "cell_type": "code",
      "source": [
        ""
      ],
      "execution_count": 2,
      "outputs": [
        {
          "output_type": "stream",
          "text": [
            "Downloading data from https://storage.googleapis.com/tensorflow/tf-keras-datasets/mnist.npz\n",
            "11493376/11490434 [==============================] - 0s 0us/step\n",
            "Epoch 1/5\n",
            "60000/60000 [==============================] - 17s 291us/step - loss: 0.2212 - acc: 0.9345\n",
            "Epoch 2/5\n",
            "60000/60000 [==============================] - 17s 282us/step - loss: 0.0980 - acc: 0.9704\n",
            "Epoch 3/5\n",
            "60000/60000 [==============================] - 17s 282us/step - loss: 0.0694 - acc: 0.9781\n",
            "Epoch 4/5\n",
            "60000/60000 [==============================] - 17s 278us/step - loss: 0.0537 - acc: 0.9830\n",
            "Epoch 5/5\n",
            "60000/60000 [==============================] - 17s 279us/step - loss: 0.0434 - acc: 0.9862\n",
            "10000/10000 [==============================] - 1s 52us/step\n"
          ],
          "name": "stdout"
        },
        {
          "output_type": "execute_result",
          "data": {
            "text/plain": [
              "[0.06575950870180386, 0.9802]"
            ]
          },
          "metadata": {
            "tags": []
          },
          "execution_count": 2
        }
      ]
    },
    {
      "metadata": {
        "id": "zFlzK59I16xe",
        "colab_type": "code",
        "colab": {
          "base_uri": "https://localhost:8080/",
          "height": 35
        },
        "outputId": "f9e2d53a-ab3b-4cf8-a1bb-165b098e7f3e"
      },
      "cell_type": "code",
      "source": [
        "print(tf.__version__)"
      ],
      "execution_count": 3,
      "outputs": [
        {
          "output_type": "stream",
          "text": [
            "1.10.1\n"
          ],
          "name": "stdout"
        }
      ]
    },
    {
      "metadata": {
        "id": "QyjvOeypB8zf",
        "colab_type": "code",
        "colab": {
          "base_uri": "https://localhost:8080/",
          "height": 163
        },
        "outputId": "8b0ff697-788a-4b0c-f6d0-48ca1e440359"
      },
      "cell_type": "code",
      "source": [
        "mnist = tf.keras.datasets.fashion_mnist\n",
        "(train_img, train_lab), (test_img, test_lab) = mnist.load_data()\n"
      ],
      "execution_count": 4,
      "outputs": [
        {
          "output_type": "stream",
          "text": [
            "Downloading data from https://storage.googleapis.com/tensorflow/tf-keras-datasets/train-labels-idx1-ubyte.gz\n",
            "32768/29515 [=================================] - 0s 0us/step\n",
            "Downloading data from https://storage.googleapis.com/tensorflow/tf-keras-datasets/train-images-idx3-ubyte.gz\n",
            "26427392/26421880 [==============================] - 0s 0us/step\n",
            "Downloading data from https://storage.googleapis.com/tensorflow/tf-keras-datasets/t10k-labels-idx1-ubyte.gz\n",
            "8192/5148 [===============================================] - 0s 0us/step\n",
            "Downloading data from https://storage.googleapis.com/tensorflow/tf-keras-datasets/t10k-images-idx3-ubyte.gz\n",
            "4423680/4422102 [==============================] - 0s 0us/step\n"
          ],
          "name": "stdout"
        }
      ]
    },
    {
      "metadata": {
        "id": "WpWogYc3Ex3A",
        "colab_type": "code",
        "colab": {
          "base_uri": "https://localhost:8080/",
          "height": 35
        },
        "outputId": "ee4acdea-9bac-4ea7-fb0c-d6922e46714c"
      },
      "cell_type": "code",
      "source": [
        "print(train_img.shape)"
      ],
      "execution_count": 5,
      "outputs": [
        {
          "output_type": "stream",
          "text": [
            "(60000, 28, 28)\n"
          ],
          "name": "stdout"
        }
      ]
    },
    {
      "metadata": {
        "id": "-9orJeanClb1",
        "colab_type": "code",
        "colab": {}
      },
      "cell_type": "code",
      "source": [
        "class_names = ['T-shirt/top', 'Trouser', 'Pullover', 'Dress', 'Coat', \n",
        "               'Sandal', 'Shirt', 'Sneaker', 'Bag', 'Ankle boot']\n"
      ],
      "execution_count": 0,
      "outputs": []
    },
    {
      "metadata": {
        "id": "GzznwQ5kEATG",
        "colab_type": "code",
        "colab": {
          "base_uri": "https://localhost:8080/",
          "height": 365
        },
        "outputId": "ca54d0e4-b8d7-4032-d065-a630cf1bc085"
      },
      "cell_type": "code",
      "source": [
        "plt.imshow(train_img[0])\n",
        "plt.colorbar()"
      ],
      "execution_count": 7,
      "outputs": [
        {
          "output_type": "execute_result",
          "data": {
            "text/plain": [
              "<matplotlib.colorbar.Colorbar at 0x7f2d7466bb38>"
            ]
          },
          "metadata": {
            "tags": []
          },
          "execution_count": 7
        },
        {
          "output_type": "display_data",
          "data": {
            "image/png": "[encoded data removed]",
            "text/plain": [
              "<matplotlib.figure.Figure at 0x7f2d74b549e8>"
            ]
          },
          "metadata": {
            "tags": []
          }
        }
      ]
    },
    {
      "metadata": {
        "id": "r6Z6b9z_FFvk",
        "colab_type": "code",
        "colab": {}
      },
      "cell_type": "code",
      "source": [
        "train_img = train_img/255.0\n",
        "test_img=test_img/255.0"
      ],
      "execution_count": 0,
      "outputs": []
    },
    {
      "metadata": {
        "id": "0FAw8MdtMjFQ",
        "colab_type": "code",
        "colab": {}
      },
      "cell_type": "code",
      "source": [
        "model=tf.keras.Sequential([\n",
        "  tf.keras.layers.Flatten(input_shape=(28, 28)),\n",
        "  tf.keras.layers.Dense(128, activation=tf.nn.relu),\n",
        "  tf.keras.layers.Dense(10, activation=tf.nn.softmax)\n",
        "])"
      ],
      "execution_count": 0,
      "outputs": []
    },
    {
      "metadata": {
        "id": "3XurU9DTNjkU",
        "colab_type": "code",
        "colab": {}
      },
      "cell_type": "code",
      "source": [
        "model.compile(optimizer=tf.train.AdamOptimizer(), \n",
        "              loss='sparse_categorical_crossentropy',\n",
        "              metrics=['accuracy'])\n"
      ],
      "execution_count": 0,
      "outputs": []
    },
    {
      "metadata": {
        "id": "dOG0tF8gOM6J",
        "colab_type": "code",
        "colab": {
          "base_uri": "https://localhost:8080/",
          "height": 218
        },
        "outputId": "78c154f6-841d-48f5-97ef-c03794bf436b"
      },
      "cell_type": "code",
      "source": [
        "model.fit(train_img, train_lab, epochs=5)\n"
      ],
      "execution_count": 11,
      "outputs": [
        {
          "output_type": "stream",
          "text": [
            "Epoch 1/5\n",
            "60000/60000 [==============================] - 4s 65us/step - loss: 0.5004 - acc: 0.8253\n",
            "Epoch 2/5\n",
            "60000/60000 [==============================] - 4s 64us/step - loss: 0.3736 - acc: 0.8666\n",
            "Epoch 3/5\n",
            "60000/60000 [==============================] - 4s 63us/step - loss: 0.3364 - acc: 0.8784\n",
            "Epoch 4/5\n",
            "60000/60000 [==============================] - 4s 63us/step - loss: 0.3129 - acc: 0.8851\n",
            "Epoch 5/5\n",
            "60000/60000 [==============================] - 4s 65us/step - loss: 0.2944 - acc: 0.8899\n"
          ],
          "name": "stdout"
        },
        {
          "output_type": "execute_result",
          "data": {
            "text/plain": [
              "<tensorflow.python.keras.callbacks.History at 0x7f2d7464a518>"
            ]
          },
          "metadata": {
            "tags": []
          },
          "execution_count": 11
        }
      ]
    },
    {
      "metadata": {
        "id": "xh_MsRN1OqhA",
        "colab_type": "code",
        "colab": {
          "base_uri": "https://localhost:8080/",
          "height": 35
        },
        "outputId": "1f43fe93-6d91-4b3f-affe-ce77fbf8e5fd"
      },
      "cell_type": "code",
      "source": [
        "model_loss, test_acc = model.evaluate(test_img, test_lab)"
      ],
      "execution_count": 13,
      "outputs": [
        {
          "output_type": "stream",
          "text": [
            "10000/10000 [==============================] - 0s 25us/step\n"
          ],
          "name": "stdout"
        }
      ]
    },
    {
      "metadata": {
        "id": "WW7ul2yTFF_O",
        "colab_type": "code",
        "colab": {
          "base_uri": "https://localhost:8080/",
          "height": 35
        },
        "outputId": "0013a0ef-6b41-4625-9fb1-2bfaff91abad"
      },
      "cell_type": "code",
      "source": [
        "print(test_acc)"
      ],
      "execution_count": 14,
      "outputs": [
        {
          "output_type": "stream",
          "text": [
            "0.8758\n"
          ],
          "name": "stdout"
        }
      ]
    },
    {
      "metadata": {
        "id": "kCJN2YpaI45V",
        "colab_type": "code",
        "colab": {}
      },
      "cell_type": "code",
      "source": [
        "prd = model.predict(test_img)"
      ],
      "execution_count": 0,
      "outputs": []
    },
    {
      "metadata": {
        "id": "AYpHND6DOh8D",
        "colab_type": "code",
        "colab": {
          "base_uri": "https://localhost:8080/",
          "height": 72
        },
        "outputId": "f69e4cf5-0987-4bf2-ec8a-7b0bea60bd48"
      },
      "cell_type": "code",
      "source": [
        "print(prd[1])"
      ],
      "execution_count": 28,
      "outputs": [
        {
          "output_type": "stream",
          "text": [
            "[3.19879327e-05 5.95054006e-11 9.75074291e-01 2.04695425e-07\n",
            " 1.22284442e-02 1.23967703e-09 1.26647055e-02 4.92276088e-13\n",
            " 2.91289012e-07 6.13428240e-14]\n"
          ],
          "name": "stdout"
        }
      ]
    },
    {
      "metadata": {
        "id": "sq_eUz2EOlxQ",
        "colab_type": "code",
        "colab": {}
      },
      "cell_type": "code",
      "source": [
        "def predict_ele(i):\n",
        "  prd_lab = np.argmax(prd[i])\n",
        "  print(prd_lab, test_lab[i])\n",
        "  if prd_lab!=test_lab[i]:\n",
        "    print(\"XXXX\")\n",
        "  \n",
        "  print(\"The image is -> \", class_names[prd_lab])\n",
        "  plt.grid(False)\n",
        "  plt.imshow(test_img[i])"
      ],
      "execution_count": 0,
      "outputs": []
    },
    {
      "metadata": {
        "id": "8sc-y50RSCCp",
        "colab_type": "code",
        "colab": {
          "base_uri": "https://localhost:8080/",
          "height": 713
        },
        "outputId": "bf98dea1-ae42-4695-9c59-ed8aa9cf4b0a"
      },
      "cell_type": "code",
      "source": [
        "for i in range(len(class_names)):\n",
        "  predict_ele(i)"
      ],
      "execution_count": 53,
      "outputs": [
        {
          "output_type": "stream",
          "text": [
            "9 9\n",
            "The image is ->  Ankle boot\n",
            "2 2\n",
            "The image is ->  Pullover\n",
            "1 1\n",
            "The image is ->  Trouser\n",
            "1 1\n",
            "The image is ->  Trouser\n",
            "6 6\n",
            "The image is ->  Shirt\n",
            "1 1\n",
            "The image is ->  Trouser\n",
            "4 4\n",
            "The image is ->  Coat\n",
            "6 6\n",
            "The image is ->  Shirt\n",
            "5 5\n",
            "The image is ->  Sandal\n",
            "7 7\n",
            "The image is ->  Sneaker\n"
          ],
          "name": "stdout"
        },
        {
          "output_type": "display_data",
          "data": {
            "image/png": "[encoded data removed]",
            "text/plain": [
              "<matplotlib.figure.Figure at 0x7f2d6d552240>"
            ]
          },
          "metadata": {
            "tags": []
          }
        }
      ]
    },
    {
      "metadata": {
        "id": "faeEFPCPgLrx",
        "colab_type": "code",
        "colab": {}
      },
      "cell_type": "code",
      "source": [
        ""
      ],
      "execution_count": 0,
      "outputs": []
    }
  ]
}