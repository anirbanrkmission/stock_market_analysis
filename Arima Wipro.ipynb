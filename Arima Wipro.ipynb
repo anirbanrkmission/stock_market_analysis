{
 "cells": [
  {
   "cell_type": "code",
   "execution_count": 1,
   "metadata": {},
   "outputs": [],
   "source": [
    "import numpy as np\n",
    "import scipy as sp\n",
    "import pandas as pd\n",
    "import seaborn as sns\n",
    "from sklearn.preprocessing import MinMaxScaler\n",
    "import matplotlib.pyplot as plt\n",
    "from statsmodels.tsa.arima_model import ARIMA\n",
    "from statsmodels.graphics.tsaplots import plot_acf, plot_pacf"
   ]
  },
  {
   "cell_type": "code",
   "execution_count": 2,
   "metadata": {
    "scrolled": true
   },
   "outputs": [
    {
     "data": {
      "text/html": [
       "<div>\n",
       "<style scoped>\n",
       "    .dataframe tbody tr th:only-of-type {\n",
       "        vertical-align: middle;\n",
       "    }\n",
       "\n",
       "    .dataframe tbody tr th {\n",
       "        vertical-align: top;\n",
       "    }\n",
       "\n",
       "    .dataframe thead th {\n",
       "        text-align: right;\n",
       "    }\n",
       "</style>\n",
       "<table border=\"1\" class=\"dataframe\">\n",
       "  <thead>\n",
       "    <tr style=\"text-align: right;\">\n",
       "      <th></th>\n",
       "      <th>Date</th>\n",
       "      <th>Open Price</th>\n",
       "      <th>High Price</th>\n",
       "      <th>Low Price</th>\n",
       "      <th>Close Price</th>\n",
       "      <th>WAP</th>\n",
       "      <th>No.of Shares</th>\n",
       "      <th>No. of Trades</th>\n",
       "      <th>Total Turnover (Rs.)</th>\n",
       "      <th>Deliverable Quantity</th>\n",
       "      <th>% Deli. Qty to Traded Qty</th>\n",
       "      <th>Spread High-Low</th>\n",
       "      <th>Spread Close-Open</th>\n",
       "    </tr>\n",
       "  </thead>\n",
       "  <tbody>\n",
       "    <tr>\n",
       "      <th>5364</th>\n",
       "      <td>7-January-1998</td>\n",
       "      <td>487.00</td>\n",
       "      <td>504.00</td>\n",
       "      <td>487.00</td>\n",
       "      <td>500.00</td>\n",
       "      <td>495.854545</td>\n",
       "      <td>2750</td>\n",
       "      <td>36</td>\n",
       "      <td>1363600.0</td>\n",
       "      <td>NaN</td>\n",
       "      <td>NaN</td>\n",
       "      <td>17.00</td>\n",
       "      <td>13.00</td>\n",
       "    </tr>\n",
       "    <tr>\n",
       "      <th>5365</th>\n",
       "      <td>6-January-1998</td>\n",
       "      <td>482.00</td>\n",
       "      <td>490.00</td>\n",
       "      <td>481.25</td>\n",
       "      <td>489.50</td>\n",
       "      <td>485.736842</td>\n",
       "      <td>950</td>\n",
       "      <td>16</td>\n",
       "      <td>461450.0</td>\n",
       "      <td>NaN</td>\n",
       "      <td>NaN</td>\n",
       "      <td>8.75</td>\n",
       "      <td>7.50</td>\n",
       "    </tr>\n",
       "    <tr>\n",
       "      <th>5366</th>\n",
       "      <td>5-January-1998</td>\n",
       "      <td>479.00</td>\n",
       "      <td>495.00</td>\n",
       "      <td>479.00</td>\n",
       "      <td>489.75</td>\n",
       "      <td>487.439759</td>\n",
       "      <td>4150</td>\n",
       "      <td>45</td>\n",
       "      <td>2022875.0</td>\n",
       "      <td>NaN</td>\n",
       "      <td>NaN</td>\n",
       "      <td>16.00</td>\n",
       "      <td>10.75</td>\n",
       "    </tr>\n",
       "    <tr>\n",
       "      <th>5367</th>\n",
       "      <td>2-January-1998</td>\n",
       "      <td>470.00</td>\n",
       "      <td>479.00</td>\n",
       "      <td>467.00</td>\n",
       "      <td>477.50</td>\n",
       "      <td>472.416522</td>\n",
       "      <td>3450</td>\n",
       "      <td>41</td>\n",
       "      <td>1629837.0</td>\n",
       "      <td>NaN</td>\n",
       "      <td>NaN</td>\n",
       "      <td>12.00</td>\n",
       "      <td>7.50</td>\n",
       "    </tr>\n",
       "    <tr>\n",
       "      <th>5368</th>\n",
       "      <td>1-January-1998</td>\n",
       "      <td>473.25</td>\n",
       "      <td>473.25</td>\n",
       "      <td>458.00</td>\n",
       "      <td>465.75</td>\n",
       "      <td>467.988832</td>\n",
       "      <td>1970</td>\n",
       "      <td>22</td>\n",
       "      <td>921938.0</td>\n",
       "      <td>NaN</td>\n",
       "      <td>NaN</td>\n",
       "      <td>15.25</td>\n",
       "      <td>-7.50</td>\n",
       "    </tr>\n",
       "  </tbody>\n",
       "</table>\n",
       "</div>"
      ],
      "text/plain": [
       "                Date  Open Price  High Price  Low Price  Close Price  \\\n",
       "5364  7-January-1998      487.00      504.00     487.00       500.00   \n",
       "5365  6-January-1998      482.00      490.00     481.25       489.50   \n",
       "5366  5-January-1998      479.00      495.00     479.00       489.75   \n",
       "5367  2-January-1998      470.00      479.00     467.00       477.50   \n",
       "5368  1-January-1998      473.25      473.25     458.00       465.75   \n",
       "\n",
       "             WAP  No.of Shares  No. of Trades  Total Turnover (Rs.)  \\\n",
       "5364  495.854545          2750             36             1363600.0   \n",
       "5365  485.736842           950             16              461450.0   \n",
       "5366  487.439759          4150             45             2022875.0   \n",
       "5367  472.416522          3450             41             1629837.0   \n",
       "5368  467.988832          1970             22              921938.0   \n",
       "\n",
       "      Deliverable Quantity  % Deli. Qty to Traded Qty  Spread High-Low  \\\n",
       "5364                   NaN                        NaN            17.00   \n",
       "5365                   NaN                        NaN             8.75   \n",
       "5366                   NaN                        NaN            16.00   \n",
       "5367                   NaN                        NaN            12.00   \n",
       "5368                   NaN                        NaN            15.25   \n",
       "\n",
       "      Spread Close-Open  \n",
       "5364              13.00  \n",
       "5365               7.50  \n",
       "5366              10.75  \n",
       "5367               7.50  \n",
       "5368              -7.50  "
      ]
     },
     "execution_count": 2,
     "metadata": {},
     "output_type": "execute_result"
    }
   ],
   "source": [
    "data = pd.read_csv('D:\\Data-Analysis\\Stock Market\\CSV/Wipro_daywise.csv')\n",
    "data.tail()"
   ]
  },
  {
   "cell_type": "code",
   "execution_count": 4,
   "metadata": {},
   "outputs": [],
   "source": [
    "#plt.plot(data.index, data['Close Price'], c='blue')"
   ]
  },
  {
   "cell_type": "code",
   "execution_count": 5,
   "metadata": {},
   "outputs": [],
   "source": [
    "#data = data[data['Close Price']<800]\n",
    "#plt.scatter(data['Year'], data['Close Price'], c='blue')"
   ]
  },
  {
   "cell_type": "code",
   "execution_count": 6,
   "metadata": {},
   "outputs": [],
   "source": [
    "mms = MinMaxScaler(feature_range=(0,1))"
   ]
  },
  {
   "cell_type": "code",
   "execution_count": 7,
   "metadata": {},
   "outputs": [],
   "source": [
    "close = np.array(data['Close Price'])\n",
    "year = np.array(data.index)"
   ]
  },
  {
   "cell_type": "code",
   "execution_count": 8,
   "metadata": {},
   "outputs": [],
   "source": [
    "train = mms.fit_transform(close.reshape(-1,1))"
   ]
  },
  {
   "cell_type": "code",
   "execution_count": 9,
   "metadata": {},
   "outputs": [],
   "source": [
    "#plt.plot(data.index, train)"
   ]
  },
  {
   "cell_type": "code",
   "execution_count": 10,
   "metadata": {},
   "outputs": [],
   "source": [
    "from sklearn.svm import SVR\n",
    "#svr = SVR(kernel='linear')"
   ]
  },
  {
   "cell_type": "code",
   "execution_count": 11,
   "metadata": {
    "scrolled": false
   },
   "outputs": [],
   "source": [
    "#svr.fit(year[:-1].reshape(-1,1), train[:-1].reshape(-1,1))"
   ]
  },
  {
   "cell_type": "code",
   "execution_count": 12,
   "metadata": {},
   "outputs": [],
   "source": [
    "#close_coef = svr.predict(2018)"
   ]
  },
  {
   "cell_type": "code",
   "execution_count": 13,
   "metadata": {},
   "outputs": [],
   "source": [
    "#close_coef*max(close)"
   ]
  },
  {
   "cell_type": "code",
   "execution_count": 14,
   "metadata": {},
   "outputs": [],
   "source": [
    "mu, sgm = np.mean(close), np.std(close)"
   ]
  },
  {
   "cell_type": "code",
   "execution_count": 15,
   "metadata": {},
   "outputs": [
    {
     "data": {
      "text/plain": [
       "(858.1996030681742, 1117.8292849929176)"
      ]
     },
     "execution_count": 15,
     "metadata": {},
     "output_type": "execute_result"
    }
   ],
   "source": [
    "sp.stats.norm.interval(0.1, loc=mu, \n",
    "    scale=sgm)"
   ]
  },
  {
   "cell_type": "code",
   "execution_count": 18,
   "metadata": {},
   "outputs": [
    {
     "data": {
      "image/png": "[encoded data removed]",
      "text/plain": [
       "<Figure size 576x432 with 1 Axes>"
      ]
     },
     "metadata": {},
     "output_type": "display_data"
    }
   ],
   "source": [
    "close = np.array(data['Close Price'])\n",
    "close = close[::-1]\n",
    "plt.figure(figsize=(8,6))\n",
    "plt.plot(close)\n",
    "plt.xlabel('day')\n",
    "plt.ylabel('Close Price')\n",
    "plt.show()"
   ]
  },
  {
   "cell_type": "code",
   "execution_count": 19,
   "metadata": {},
   "outputs": [],
   "source": [
    "mms = MinMaxScaler(feature_range=(0,1))\n",
    "close = mms.fit_transform(close.reshape(-1,1))"
   ]
  },
  {
   "cell_type": "code",
   "execution_count": 20,
   "metadata": {},
   "outputs": [
    {
     "data": {
      "text/plain": [
       "array([[0.02814772],\n",
       "       [0.0293946 ],\n",
       "       [0.03069454],\n",
       "       ...,\n",
       "       [0.01846448],\n",
       "       [0.01894201],\n",
       "       [0.01969014]])"
      ]
     },
     "execution_count": 20,
     "metadata": {},
     "output_type": "execute_result"
    }
   ],
   "source": [
    "close"
   ]
  },
  {
   "cell_type": "code",
   "execution_count": 21,
   "metadata": {},
   "outputs": [
    {
     "data": {
      "image/png": "[encoded data removed]",
      "text/plain": [
       "<Figure size 576x432 with 1 Axes>"
      ]
     },
     "metadata": {},
     "output_type": "display_data"
    }
   ],
   "source": [
    "plt.figure(figsize=(8,6))\n",
    "plt.plot(close)\n",
    "plt.xlabel('day')\n",
    "plt.ylabel('Close Price')\n",
    "plt.show()"
   ]
  },
  {
   "cell_type": "code",
   "execution_count": 22,
   "metadata": {},
   "outputs": [],
   "source": [
    "close = [i for i in close]\n",
    "series = pd.DataFrame({'Close': close})\n",
    "#data.set_index('Year', inplace=True)"
   ]
  },
  {
   "cell_type": "code",
   "execution_count": 23,
   "metadata": {},
   "outputs": [
    {
     "data": {
      "text/html": [
       "<div>\n",
       "<style scoped>\n",
       "    .dataframe tbody tr th:only-of-type {\n",
       "        vertical-align: middle;\n",
       "    }\n",
       "\n",
       "    .dataframe tbody tr th {\n",
       "        vertical-align: top;\n",
       "    }\n",
       "\n",
       "    .dataframe thead th {\n",
       "        text-align: right;\n",
       "    }\n",
       "</style>\n",
       "<table border=\"1\" class=\"dataframe\">\n",
       "  <thead>\n",
       "    <tr style=\"text-align: right;\">\n",
       "      <th></th>\n",
       "      <th>Close</th>\n",
       "    </tr>\n",
       "  </thead>\n",
       "  <tbody>\n",
       "    <tr>\n",
       "      <th>0</th>\n",
       "      <td>[0.02814771581684088]</td>\n",
       "    </tr>\n",
       "    <tr>\n",
       "      <th>1</th>\n",
       "      <td>[0.029394598609858335]</td>\n",
       "    </tr>\n",
       "    <tr>\n",
       "      <th>2</th>\n",
       "      <td>[0.030694540245131848]</td>\n",
       "    </tr>\n",
       "    <tr>\n",
       "      <th>3</th>\n",
       "      <td>[0.030668010824003823]</td>\n",
       "    </tr>\n",
       "    <tr>\n",
       "      <th>4</th>\n",
       "      <td>[0.03178224651138112]</td>\n",
       "    </tr>\n",
       "  </tbody>\n",
       "</table>\n",
       "</div>"
      ],
      "text/plain": [
       "                    Close\n",
       "0   [0.02814771581684088]\n",
       "1  [0.029394598609858335]\n",
       "2  [0.030694540245131848]\n",
       "3  [0.030668010824003823]\n",
       "4   [0.03178224651138112]"
      ]
     },
     "execution_count": 23,
     "metadata": {},
     "output_type": "execute_result"
    }
   ],
   "source": [
    "series.index = data.index\n",
    "series.head()"
   ]
  },
  {
   "cell_type": "code",
   "execution_count": 24,
   "metadata": {},
   "outputs": [
    {
     "data": {
      "text/html": [
       "<div>\n",
       "<style scoped>\n",
       "    .dataframe tbody tr th:only-of-type {\n",
       "        vertical-align: middle;\n",
       "    }\n",
       "\n",
       "    .dataframe tbody tr th {\n",
       "        vertical-align: top;\n",
       "    }\n",
       "\n",
       "    .dataframe thead th {\n",
       "        text-align: right;\n",
       "    }\n",
       "</style>\n",
       "<table border=\"1\" class=\"dataframe\">\n",
       "  <thead>\n",
       "    <tr style=\"text-align: right;\">\n",
       "      <th></th>\n",
       "      <th>Close</th>\n",
       "    </tr>\n",
       "  </thead>\n",
       "  <tbody>\n",
       "    <tr>\n",
       "      <th>5364</th>\n",
       "      <td>[0.017567782670982118]</td>\n",
       "    </tr>\n",
       "    <tr>\n",
       "      <th>5365</th>\n",
       "      <td>[0.01824693585185971]</td>\n",
       "    </tr>\n",
       "    <tr>\n",
       "      <th>5366</th>\n",
       "      <td>[0.018464477105109563]</td>\n",
       "    </tr>\n",
       "    <tr>\n",
       "      <th>5367</th>\n",
       "      <td>[0.018942006685414122]</td>\n",
       "    </tr>\n",
       "    <tr>\n",
       "      <th>5368</th>\n",
       "      <td>[0.0196901363612246]</td>\n",
       "    </tr>\n",
       "  </tbody>\n",
       "</table>\n",
       "</div>"
      ],
      "text/plain": [
       "                       Close\n",
       "5364  [0.017567782670982118]\n",
       "5365   [0.01824693585185971]\n",
       "5366  [0.018464477105109563]\n",
       "5367  [0.018942006685414122]\n",
       "5368    [0.0196901363612246]"
      ]
     },
     "execution_count": 24,
     "metadata": {},
     "output_type": "execute_result"
    }
   ],
   "source": [
    "series.drop(index=2018, inplace=True)\n",
    "series.tail()"
   ]
  },
  {
   "cell_type": "code",
   "execution_count": 26,
   "metadata": {
    "scrolled": false
   },
   "outputs": [
    {
     "name": "stderr",
     "output_type": "stream",
     "text": [
      "C:\\Users\\Anirban\\Anaconda3\\lib\\site-packages\\statsmodels\\base\\model.py:508: ConvergenceWarning: Maximum Likelihood optimization failed to converge. Check mle_retvals\n",
      "  \"Check mle_retvals\", ConvergenceWarning)\n"
     ]
    },
    {
     "name": "stdout",
     "output_type": "stream",
     "text": [
      "                             ARIMA Model Results                              \n",
      "==============================================================================\n",
      "Dep. Variable:                    D.y   No. Observations:                 5367\n",
      "Model:                 ARIMA(0, 1, 0)   Log Likelihood               16633.039\n",
      "Method:                           css   S.D. of innovations              0.011\n",
      "Date:                Mon, 25 Mar 2019   AIC                         -33262.077\n",
      "Time:                        19:43:08   BIC                         -33248.901\n",
      "Sample:                             1   HQIC                        -33257.476\n",
      "                                                                              \n",
      "==============================================================================\n",
      "                 coef    std err          z      P>|z|      [0.025      0.975]\n",
      "------------------------------------------------------------------------------\n",
      "const      -1.576e-06      0.000     -0.011      0.992      -0.000       0.000\n",
      "==============================================================================\n"
     ]
    }
   ],
   "source": [
    "from statsmodels.tsa.arima_model import ARIMA\n",
    "model = ARIMA(np.array(series), order=(0,1,0))\n",
    "model_fit = model.fit(disp=0)\n",
    "print(model_fit.summary())"
   ]
  },
  {
   "cell_type": "code",
   "execution_count": 37,
   "metadata": {},
   "outputs": [],
   "source": [
    "year = [2019, 2020, 2021]\n",
    "scaled_predict = model_fit.forecast()"
   ]
  },
  {
   "cell_type": "code",
   "execution_count": 44,
   "metadata": {},
   "outputs": [
    {
     "name": "stdout",
     "output_type": "stream",
     "text": [
      "[array([0.01968856]), array([0.01091006]), array([[-0.00169476,  0.04107188]])]\n"
     ]
    }
   ],
   "source": [
    "scaled_predict = [i for i in scaled_predict]\n",
    "#future_price = mms.inverse_transform(scaled_predict)\n",
    "#print(future_price)\n",
    "print(scaled_predict)"
   ]
  },
  {
   "cell_type": "code",
   "execution_count": 45,
   "metadata": {},
   "outputs": [],
   "source": [
    "#plot_acf(series, lags=100)"
   ]
  },
  {
   "cell_type": "code",
   "execution_count": 46,
   "metadata": {},
   "outputs": [
    {
     "data": {
      "image/png": "[encoded data removed]",
      "text/plain": [
       "<Figure size 432x288 with 1 Axes>"
      ]
     },
     "execution_count": 46,
     "metadata": {},
     "output_type": "execute_result"
    },
    {
     "data": {
      "image/png": "[encoded data removed]",
      "text/plain": [
       "<Figure size 432x288 with 1 Axes>"
      ]
     },
     "metadata": {},
     "output_type": "display_data"
    }
   ],
   "source": [
    "plot_pacf(series, lags=100)"
   ]
  },
  {
   "cell_type": "code",
   "execution_count": 47,
   "metadata": {},
   "outputs": [],
   "source": [
    "from sklearn.metrics import mean_squared_error\n",
    "from sklearn.model_selection import train_test_split"
   ]
  },
  {
   "cell_type": "code",
   "execution_count": 63,
   "metadata": {
    "scrolled": true
   },
   "outputs": [
    {
     "name": "stdout",
     "output_type": "stream",
     "text": [
      "predicted=0.016, expected=0.017\n",
      "predicted=0.017, expected=0.017\n",
      "predicted=0.017, expected=0.015\n",
      "predicted=0.015, expected=0.017\n",
      "predicted=0.017, expected=0.016\n",
      "predicted=0.016, expected=0.016\n",
      "predicted=0.016, expected=0.017\n",
      "predicted=0.017, expected=0.018\n",
      "predicted=0.018, expected=0.018\n",
      "predicted=0.018, expected=0.018\n",
      "predicted=0.018, expected=0.018\n",
      "predicted=0.018, expected=0.018\n",
      "predicted=0.018, expected=0.018\n",
      "predicted=0.018, expected=0.018\n",
      "predicted=0.018, expected=0.018\n",
      "predicted=0.018, expected=0.018\n",
      "predicted=0.018, expected=0.019\n",
      "predicted=0.019, expected=0.019\n",
      "predicted=0.019, expected=0.020\n",
      "predicted=0.020, expected=0.019\n",
      "predicted=0.019, expected=0.018\n",
      "predicted=0.018, expected=0.018\n",
      "predicted=0.018, expected=0.018\n"
     ]
    },
    {
     "name": "stderr",
     "output_type": "stream",
     "text": [
      "C:\\Users\\Anirban\\Anaconda3\\lib\\site-packages\\statsmodels\\base\\model.py:508: ConvergenceWarning: Maximum Likelihood optimization failed to converge. Check mle_retvals\n",
      "  \"Check mle_retvals\", ConvergenceWarning)\n"
     ]
    },
    {
     "name": "stdout",
     "output_type": "stream",
     "text": [
      "predicted=0.018, expected=0.018\n",
      "predicted=0.018, expected=0.019\n",
      "predicted=0.019, expected=0.017\n",
      "predicted=0.017, expected=0.018\n",
      "predicted=0.018, expected=0.018\n",
      "predicted=0.018, expected=0.018\n",
      "predicted=0.018, expected=0.018\n",
      "predicted=0.018, expected=0.019\n",
      "predicted=0.019, expected=0.020\n",
      "predicted=0.020, expected=0.021\n",
      "predicted=0.021, expected=0.020\n",
      "predicted=0.020, expected=0.022\n",
      "predicted=0.022, expected=0.023\n",
      "predicted=0.023, expected=0.022\n",
      "predicted=0.022, expected=0.023\n",
      "predicted=0.023, expected=0.022\n"
     ]
    },
    {
     "name": "stderr",
     "output_type": "stream",
     "text": [
      "C:\\Users\\Anirban\\Anaconda3\\lib\\site-packages\\statsmodels\\base\\model.py:508: ConvergenceWarning: Maximum Likelihood optimization failed to converge. Check mle_retvals\n",
      "  \"Check mle_retvals\", ConvergenceWarning)\n"
     ]
    },
    {
     "name": "stdout",
     "output_type": "stream",
     "text": [
      "predicted=0.022, expected=0.023\n",
      "predicted=0.023, expected=0.022\n",
      "predicted=0.022, expected=0.021\n",
      "predicted=0.021, expected=0.021\n",
      "predicted=0.021, expected=0.021\n",
      "predicted=0.021, expected=0.022\n",
      "predicted=0.022, expected=0.021\n",
      "predicted=0.021, expected=0.022\n"
     ]
    },
    {
     "name": "stderr",
     "output_type": "stream",
     "text": [
      "C:\\Users\\Anirban\\Anaconda3\\lib\\site-packages\\statsmodels\\base\\model.py:508: ConvergenceWarning: Maximum Likelihood optimization failed to converge. Check mle_retvals\n",
      "  \"Check mle_retvals\", ConvergenceWarning)\n"
     ]
    },
    {
     "name": "stdout",
     "output_type": "stream",
     "text": [
      "predicted=0.022, expected=0.022\n",
      "predicted=0.022, expected=0.022\n",
      "predicted=0.022, expected=0.021\n",
      "predicted=0.021, expected=0.021\n",
      "predicted=0.021, expected=0.021\n",
      "predicted=0.021, expected=0.021\n",
      "predicted=0.021, expected=0.023\n",
      "predicted=0.023, expected=0.023\n",
      "predicted=0.023, expected=0.023\n"
     ]
    },
    {
     "name": "stderr",
     "output_type": "stream",
     "text": [
      "C:\\Users\\Anirban\\Anaconda3\\lib\\site-packages\\statsmodels\\base\\model.py:508: ConvergenceWarning: Maximum Likelihood optimization failed to converge. Check mle_retvals\n",
      "  \"Check mle_retvals\", ConvergenceWarning)\n"
     ]
    },
    {
     "name": "stdout",
     "output_type": "stream",
     "text": [
      "predicted=0.023, expected=0.022\n",
      "predicted=0.022, expected=0.022\n",
      "predicted=0.022, expected=0.021\n",
      "predicted=0.021, expected=0.022\n"
     ]
    },
    {
     "name": "stderr",
     "output_type": "stream",
     "text": [
      "C:\\Users\\Anirban\\Anaconda3\\lib\\site-packages\\statsmodels\\base\\model.py:508: ConvergenceWarning: Maximum Likelihood optimization failed to converge. Check mle_retvals\n",
      "  \"Check mle_retvals\", ConvergenceWarning)\n"
     ]
    },
    {
     "name": "stdout",
     "output_type": "stream",
     "text": [
      "predicted=0.022, expected=0.021\n",
      "predicted=0.021, expected=0.020\n",
      "predicted=0.020, expected=0.021\n",
      "predicted=0.021, expected=0.022\n",
      "predicted=0.022, expected=0.023\n",
      "predicted=0.023, expected=0.022\n",
      "predicted=0.022, expected=0.022\n",
      "predicted=0.022, expected=0.023\n",
      "predicted=0.023, expected=0.023\n",
      "predicted=0.023, expected=0.023\n",
      "predicted=0.023, expected=0.023\n",
      "predicted=0.023, expected=0.023\n",
      "predicted=0.023, expected=0.022\n",
      "predicted=0.022, expected=0.023\n",
      "predicted=0.023, expected=0.022\n",
      "predicted=0.022, expected=0.024\n",
      "predicted=0.024, expected=0.024\n",
      "predicted=0.024, expected=0.024\n",
      "predicted=0.024, expected=0.024\n",
      "predicted=0.024, expected=0.025"
     ]
    },
    {
     "name": "stderr",
     "output_type": "stream",
     "text": [
      "C:\\Users\\Anirban\\Anaconda3\\lib\\site-packages\\statsmodels\\base\\model.py:508: ConvergenceWarning: Maximum Likelihood optimization failed to converge. Check mle_retvals\n",
      "  \"Check mle_retvals\", ConvergenceWarning)\n"
     ]
    },
    {
     "name": "stdout",
     "output_type": "stream",
     "text": [
      "\n",
      "predicted=0.025, expected=0.026\n",
      "predicted=0.026, expected=0.026\n",
      "predicted=0.026, expected=0.025\n"
     ]
    },
    {
     "name": "stderr",
     "output_type": "stream",
     "text": [
      "C:\\Users\\Anirban\\Anaconda3\\lib\\site-packages\\statsmodels\\base\\model.py:508: ConvergenceWarning: Maximum Likelihood optimization failed to converge. Check mle_retvals\n",
      "  \"Check mle_retvals\", ConvergenceWarning)\n"
     ]
    },
    {
     "name": "stdout",
     "output_type": "stream",
     "text": [
      "predicted=0.025, expected=0.025\n",
      "predicted=0.025, expected=0.025\n",
      "predicted=0.025, expected=0.025\n",
      "predicted=0.025, expected=0.026\n",
      "predicted=0.026, expected=0.026\n",
      "predicted=0.026, expected=0.026\n",
      "predicted=0.026, expected=0.026\n",
      "predicted=0.026, expected=0.025\n"
     ]
    },
    {
     "name": "stderr",
     "output_type": "stream",
     "text": [
      "C:\\Users\\Anirban\\Anaconda3\\lib\\site-packages\\statsmodels\\base\\model.py:508: ConvergenceWarning: Maximum Likelihood optimization failed to converge. Check mle_retvals\n",
      "  \"Check mle_retvals\", ConvergenceWarning)\n"
     ]
    },
    {
     "name": "stdout",
     "output_type": "stream",
     "text": [
      "predicted=0.025, expected=0.024\n",
      "predicted=0.024, expected=0.023\n",
      "predicted=0.023, expected=0.025\n",
      "predicted=0.025, expected=0.024\n",
      "predicted=0.024, expected=0.024\n",
      "predicted=0.024, expected=0.024\n",
      "predicted=0.024, expected=0.024\n",
      "predicted=0.024, expected=0.024\n",
      "predicted=0.024, expected=0.025\n",
      "predicted=0.025, expected=0.025\n",
      "predicted=0.025, expected=0.025\n",
      "predicted=0.025, expected=0.025\n",
      "predicted=0.025, expected=0.024\n",
      "predicted=0.024, expected=0.024\n"
     ]
    },
    {
     "name": "stderr",
     "output_type": "stream",
     "text": [
      "C:\\Users\\Anirban\\Anaconda3\\lib\\site-packages\\statsmodels\\base\\model.py:508: ConvergenceWarning: Maximum Likelihood optimization failed to converge. Check mle_retvals\n",
      "  \"Check mle_retvals\", ConvergenceWarning)\n"
     ]
    },
    {
     "name": "stdout",
     "output_type": "stream",
     "text": [
      "predicted=0.024, expected=0.024\n",
      "predicted=0.024, expected=0.024\n",
      "predicted=0.024, expected=0.024\n",
      "predicted=0.024, expected=0.024\n",
      "predicted=0.024, expected=0.023\n",
      "predicted=0.023, expected=0.024\n",
      "predicted=0.024, expected=0.023\n",
      "predicted=0.023, expected=0.024\n",
      "predicted=0.024, expected=0.024\n",
      "predicted=0.024, expected=0.025\n",
      "predicted=0.025, expected=0.025\n"
     ]
    },
    {
     "name": "stderr",
     "output_type": "stream",
     "text": [
      "C:\\Users\\Anirban\\Anaconda3\\lib\\site-packages\\statsmodels\\base\\model.py:508: ConvergenceWarning: Maximum Likelihood optimization failed to converge. Check mle_retvals\n",
      "  \"Check mle_retvals\", ConvergenceWarning)\n"
     ]
    },
    {
     "name": "stdout",
     "output_type": "stream",
     "text": [
      "predicted=0.025, expected=0.026\n",
      "predicted=0.026, expected=0.026\n",
      "predicted=0.026, expected=0.026\n",
      "predicted=0.026, expected=0.025\n",
      "predicted=0.025, expected=0.026\n",
      "predicted=0.026, expected=0.026\n",
      "predicted=0.026, expected=0.025\n",
      "predicted=0.025, expected=0.023\n",
      "predicted=0.023, expected=0.023\n",
      "predicted=0.023, expected=0.023\n",
      "predicted=0.023, expected=0.024\n",
      "predicted=0.024, expected=0.023\n",
      "predicted=0.023, expected=0.024\n",
      "predicted=0.024, expected=0.024\n",
      "predicted=0.024, expected=0.026\n",
      "predicted=0.026, expected=0.022\n",
      "predicted=0.022, expected=0.022\n",
      "predicted=0.022, expected=0.022\n",
      "predicted=0.022, expected=0.022\n",
      "predicted=0.022, expected=0.022\n",
      "predicted=0.022, expected=0.022\n",
      "predicted=0.022, expected=0.022\n"
     ]
    },
    {
     "name": "stderr",
     "output_type": "stream",
     "text": [
      "C:\\Users\\Anirban\\Anaconda3\\lib\\site-packages\\statsmodels\\base\\model.py:508: ConvergenceWarning: Maximum Likelihood optimization failed to converge. Check mle_retvals\n",
      "  \"Check mle_retvals\", ConvergenceWarning)\n"
     ]
    },
    {
     "name": "stdout",
     "output_type": "stream",
     "text": [
      "predicted=0.022, expected=0.023\n",
      "predicted=0.023, expected=0.022\n",
      "predicted=0.022, expected=0.022\n",
      "predicted=0.022, expected=0.022\n"
     ]
    },
    {
     "name": "stderr",
     "output_type": "stream",
     "text": [
      "C:\\Users\\Anirban\\Anaconda3\\lib\\site-packages\\statsmodels\\base\\model.py:508: ConvergenceWarning: Maximum Likelihood optimization failed to converge. Check mle_retvals\n",
      "  \"Check mle_retvals\", ConvergenceWarning)\n"
     ]
    },
    {
     "name": "stdout",
     "output_type": "stream",
     "text": [
      "predicted=0.022, expected=0.022\n",
      "predicted=0.022, expected=0.021\n",
      "predicted=0.021, expected=0.021\n",
      "predicted=0.021, expected=0.022\n",
      "predicted=0.022, expected=0.020\n",
      "predicted=0.020, expected=0.020\n"
     ]
    },
    {
     "name": "stderr",
     "output_type": "stream",
     "text": [
      "C:\\Users\\Anirban\\Anaconda3\\lib\\site-packages\\statsmodels\\base\\model.py:508: ConvergenceWarning: Maximum Likelihood optimization failed to converge. Check mle_retvals\n",
      "  \"Check mle_retvals\", ConvergenceWarning)\n"
     ]
    },
    {
     "name": "stdout",
     "output_type": "stream",
     "text": [
      "predicted=0.020, expected=0.020\n",
      "predicted=0.020, expected=0.019\n",
      "predicted=0.019, expected=0.019\n",
      "predicted=0.019, expected=0.019\n",
      "predicted=0.019, expected=0.020\n",
      "predicted=0.020, expected=0.020\n",
      "predicted=0.020, expected=0.021\n",
      "predicted=0.021, expected=0.022\n",
      "predicted=0.022, expected=0.022\n",
      "predicted=0.022, expected=0.022\n",
      "predicted=0.022, expected=0.021\n",
      "predicted=0.021, expected=0.021\n",
      "predicted=0.021, expected=0.021\n"
     ]
    },
    {
     "name": "stderr",
     "output_type": "stream",
     "text": [
      "C:\\Users\\Anirban\\Anaconda3\\lib\\site-packages\\statsmodels\\base\\model.py:508: ConvergenceWarning: Maximum Likelihood optimization failed to converge. Check mle_retvals\n",
      "  \"Check mle_retvals\", ConvergenceWarning)\n"
     ]
    },
    {
     "name": "stdout",
     "output_type": "stream",
     "text": [
      "predicted=0.021, expected=0.022\n",
      "predicted=0.022, expected=0.021\n"
     ]
    },
    {
     "name": "stderr",
     "output_type": "stream",
     "text": [
      "C:\\Users\\Anirban\\Anaconda3\\lib\\site-packages\\statsmodels\\base\\model.py:508: ConvergenceWarning: Maximum Likelihood optimization failed to converge. Check mle_retvals\n",
      "  \"Check mle_retvals\", ConvergenceWarning)\n"
     ]
    },
    {
     "name": "stdout",
     "output_type": "stream",
     "text": [
      "predicted=0.021, expected=0.022\n",
      "predicted=0.022, expected=0.021\n",
      "predicted=0.021, expected=0.020\n",
      "predicted=0.020, expected=0.021\n",
      "predicted=0.021, expected=0.021\n",
      "predicted=0.021, expected=0.021\n",
      "predicted=0.021, expected=0.021\n",
      "predicted=0.021, expected=0.021\n",
      "predicted=0.021, expected=0.021\n",
      "predicted=0.021, expected=0.021\n",
      "predicted=0.021, expected=0.021\n",
      "predicted=0.021, expected=0.021\n",
      "predicted=0.021, expected=0.021\n",
      "predicted=0.021, expected=0.021\n",
      "predicted=0.021, expected=0.021\n"
     ]
    },
    {
     "name": "stderr",
     "output_type": "stream",
     "text": [
      "C:\\Users\\Anirban\\Anaconda3\\lib\\site-packages\\statsmodels\\base\\model.py:508: ConvergenceWarning: Maximum Likelihood optimization failed to converge. Check mle_retvals\n",
      "  \"Check mle_retvals\", ConvergenceWarning)\n"
     ]
    },
    {
     "name": "stdout",
     "output_type": "stream",
     "text": [
      "predicted=0.021, expected=0.021\n",
      "predicted=0.021, expected=0.021\n",
      "predicted=0.021, expected=0.021\n",
      "predicted=0.021, expected=0.021\n",
      "predicted=0.021, expected=0.021\n"
     ]
    },
    {
     "name": "stderr",
     "output_type": "stream",
     "text": [
      "C:\\Users\\Anirban\\Anaconda3\\lib\\site-packages\\statsmodels\\base\\model.py:508: ConvergenceWarning: Maximum Likelihood optimization failed to converge. Check mle_retvals\n",
      "  \"Check mle_retvals\", ConvergenceWarning)\n"
     ]
    },
    {
     "name": "stdout",
     "output_type": "stream",
     "text": [
      "predicted=0.021, expected=0.020\n",
      "predicted=0.020, expected=0.020\n",
      "predicted=0.020, expected=0.020\n"
     ]
    },
    {
     "name": "stderr",
     "output_type": "stream",
     "text": [
      "C:\\Users\\Anirban\\Anaconda3\\lib\\site-packages\\statsmodels\\base\\model.py:508: ConvergenceWarning: Maximum Likelihood optimization failed to converge. Check mle_retvals\n",
      "  \"Check mle_retvals\", ConvergenceWarning)\n"
     ]
    },
    {
     "name": "stdout",
     "output_type": "stream",
     "text": [
      "predicted=0.020, expected=0.018\n",
      "predicted=0.018, expected=0.017\n",
      "predicted=0.017, expected=0.017\n",
      "predicted=0.017, expected=0.016\n",
      "predicted=0.016, expected=0.017\n",
      "predicted=0.017, expected=0.017\n",
      "predicted=0.017, expected=0.018\n",
      "predicted=0.018, expected=0.017\n",
      "predicted=0.017, expected=0.017\n",
      "predicted=0.017, expected=0.015\n",
      "predicted=0.015, expected=0.015\n",
      "predicted=0.015, expected=0.014\n",
      "predicted=0.014, expected=0.014\n",
      "predicted=0.014, expected=0.014\n",
      "predicted=0.014, expected=0.015\n",
      "predicted=0.015, expected=0.015\n",
      "predicted=0.015, expected=0.015\n",
      "predicted=0.015, expected=0.016\n",
      "predicted=0.016, expected=0.015\n",
      "predicted=0.015, expected=0.016\n"
     ]
    },
    {
     "name": "stderr",
     "output_type": "stream",
     "text": [
      "C:\\Users\\Anirban\\Anaconda3\\lib\\site-packages\\statsmodels\\base\\model.py:508: ConvergenceWarning: Maximum Likelihood optimization failed to converge. Check mle_retvals\n",
      "  \"Check mle_retvals\", ConvergenceWarning)\n"
     ]
    },
    {
     "name": "stdout",
     "output_type": "stream",
     "text": [
      "predicted=0.016, expected=0.016\n",
      "predicted=0.016, expected=0.015\n",
      "predicted=0.015, expected=0.016\n",
      "predicted=0.016, expected=0.016\n",
      "predicted=0.016, expected=0.016\n",
      "predicted=0.016, expected=0.016\n",
      "predicted=0.016, expected=0.016\n",
      "predicted=0.016, expected=0.016\n",
      "predicted=0.016, expected=0.016\n",
      "predicted=0.016, expected=0.017\n",
      "predicted=0.017, expected=0.017\n",
      "predicted=0.017, expected=0.017\n",
      "predicted=0.017, expected=0.017\n",
      "predicted=0.017, expected=0.017\n",
      "predicted=0.017, expected=0.018\n",
      "predicted=0.018, expected=0.018\n"
     ]
    },
    {
     "name": "stderr",
     "output_type": "stream",
     "text": [
      "C:\\Users\\Anirban\\Anaconda3\\lib\\site-packages\\statsmodels\\base\\model.py:508: ConvergenceWarning: Maximum Likelihood optimization failed to converge. Check mle_retvals\n",
      "  \"Check mle_retvals\", ConvergenceWarning)\n"
     ]
    },
    {
     "name": "stdout",
     "output_type": "stream",
     "text": [
      "predicted=0.018, expected=0.017\n",
      "predicted=0.017, expected=0.017\n",
      "predicted=0.017, expected=0.017\n",
      "predicted=0.017, expected=0.019\n",
      "predicted=0.019, expected=0.019\n",
      "predicted=0.019, expected=0.019\n"
     ]
    },
    {
     "name": "stderr",
     "output_type": "stream",
     "text": [
      "C:\\Users\\Anirban\\Anaconda3\\lib\\site-packages\\statsmodels\\base\\model.py:508: ConvergenceWarning: Maximum Likelihood optimization failed to converge. Check mle_retvals\n",
      "  \"Check mle_retvals\", ConvergenceWarning)\n"
     ]
    },
    {
     "name": "stdout",
     "output_type": "stream",
     "text": [
      "predicted=0.019, expected=0.019\n",
      "predicted=0.019, expected=0.019\n"
     ]
    },
    {
     "name": "stderr",
     "output_type": "stream",
     "text": [
      "C:\\Users\\Anirban\\Anaconda3\\lib\\site-packages\\statsmodels\\base\\model.py:508: ConvergenceWarning: Maximum Likelihood optimization failed to converge. Check mle_retvals\n",
      "  \"Check mle_retvals\", ConvergenceWarning)\n"
     ]
    },
    {
     "name": "stdout",
     "output_type": "stream",
     "text": [
      "predicted=0.018, expected=0.019\n",
      "predicted=0.019, expected=0.020\n",
      "predicted=0.020, expected=0.020\n",
      "predicted=0.020, expected=0.019\n",
      "predicted=0.019, expected=0.018\n",
      "predicted=0.018, expected=0.018\n",
      "predicted=0.018, expected=0.019\n",
      "predicted=0.019, expected=0.019\n",
      "predicted=0.019, expected=0.019\n",
      "predicted=0.019, expected=0.019\n",
      "predicted=0.019, expected=0.019\n",
      "predicted=0.019, expected=0.019\n",
      "predicted=0.019, expected=0.019\n",
      "predicted=0.019, expected=0.019\n",
      "predicted=0.019, expected=0.019\n",
      "predicted=0.019, expected=0.018\n",
      "predicted=0.018, expected=0.018\n",
      "predicted=0.018, expected=0.018\n",
      "predicted=0.018, expected=0.017\n",
      "predicted=0.017, expected=0.017\n",
      "predicted=0.017, expected=0.016\n",
      "predicted=0.016, expected=0.016\n",
      "predicted=0.016, expected=0.016\n",
      "predicted=0.016, expected=0.016\n",
      "predicted=0.016, expected=0.015\n",
      "predicted=0.015, expected=0.015\n",
      "predicted=0.015, expected=0.015\n",
      "predicted=0.015, expected=0.015\n",
      "predicted=0.015, expected=0.015\n",
      "predicted=0.015, expected=0.014\n",
      "predicted=0.014, expected=0.015\n",
      "predicted=0.015, expected=0.016\n",
      "predicted=0.016, expected=0.016\n",
      "predicted=0.016, expected=0.017\n",
      "predicted=0.017, expected=0.017\n",
      "predicted=0.017, expected=0.017\n"
     ]
    },
    {
     "name": "stderr",
     "output_type": "stream",
     "text": [
      "C:\\Users\\Anirban\\Anaconda3\\lib\\site-packages\\statsmodels\\base\\model.py:508: ConvergenceWarning: Maximum Likelihood optimization failed to converge. Check mle_retvals\n",
      "  \"Check mle_retvals\", ConvergenceWarning)\n"
     ]
    },
    {
     "name": "stdout",
     "output_type": "stream",
     "text": [
      "predicted=0.017, expected=0.018\n",
      "predicted=0.018, expected=0.018\n",
      "predicted=0.018, expected=0.018\n",
      "predicted=0.018, expected=0.018\n",
      "predicted=0.018, expected=0.018\n",
      "predicted=0.018, expected=0.018\n",
      "predicted=0.018, expected=0.017\n",
      "predicted=0.017, expected=0.017\n",
      "predicted=0.017, expected=0.017\n",
      "predicted=0.017, expected=0.017\n",
      "predicted=0.017, expected=0.018\n",
      "predicted=0.018, expected=0.018\n",
      "predicted=0.018, expected=0.018\n",
      "predicted=0.018, expected=0.019\n",
      "predicted=0.019, expected=0.019\n",
      "predicted=0.019, expected=0.020\n",
      "predicted=0.020, expected=0.020\n",
      "predicted=0.020, expected=0.021\n",
      "predicted=0.021, expected=0.020\n",
      "predicted=0.020, expected=0.019\n"
     ]
    },
    {
     "name": "stderr",
     "output_type": "stream",
     "text": [
      "C:\\Users\\Anirban\\Anaconda3\\lib\\site-packages\\statsmodels\\base\\model.py:508: ConvergenceWarning: Maximum Likelihood optimization failed to converge. Check mle_retvals\n",
      "  \"Check mle_retvals\", ConvergenceWarning)\n"
     ]
    },
    {
     "name": "stdout",
     "output_type": "stream",
     "text": [
      "predicted=0.019, expected=0.019\n",
      "predicted=0.019, expected=0.019\n",
      "predicted=0.019, expected=0.019\n",
      "predicted=0.019, expected=0.019\n",
      "predicted=0.019, expected=0.018\n",
      "predicted=0.018, expected=0.018\n",
      "predicted=0.018, expected=0.019\n",
      "predicted=0.019, expected=0.018\n",
      "predicted=0.018, expected=0.019\n",
      "predicted=0.019, expected=0.020\n",
      "predicted=0.020, expected=0.019\n",
      "predicted=0.019, expected=0.019\n",
      "predicted=0.019, expected=0.020\n",
      "predicted=0.020, expected=0.020\n",
      "predicted=0.020, expected=0.020\n",
      "predicted=0.020, expected=0.020\n",
      "predicted=0.020, expected=0.021\n",
      "predicted=0.021, expected=0.021\n",
      "predicted=0.021, expected=0.021\n",
      "predicted=0.021, expected=0.021\n",
      "predicted=0.021, expected=0.022\n",
      "predicted=0.022, expected=0.022\n",
      "predicted=0.022, expected=0.021\n",
      "predicted=0.021, expected=0.021\n",
      "predicted=0.021, expected=0.021\n",
      "predicted=0.021, expected=0.023\n",
      "predicted=0.023, expected=0.023\n",
      "predicted=0.023, expected=0.023\n",
      "predicted=0.023, expected=0.023\n",
      "predicted=0.023, expected=0.024\n",
      "predicted=0.024, expected=0.021\n",
      "predicted=0.021, expected=0.021\n",
      "predicted=0.021, expected=0.021\n",
      "predicted=0.021, expected=0.021"
     ]
    },
    {
     "name": "stderr",
     "output_type": "stream",
     "text": [
      "C:\\Users\\Anirban\\Anaconda3\\lib\\site-packages\\statsmodels\\base\\model.py:508: ConvergenceWarning: Maximum Likelihood optimization failed to converge. Check mle_retvals\n",
      "  \"Check mle_retvals\", ConvergenceWarning)\n",
      "C:\\Users\\Anirban\\Anaconda3\\lib\\site-packages\\statsmodels\\base\\model.py:508: ConvergenceWarning: Maximum Likelihood optimization failed to converge. Check mle_retvals\n",
      "  \"Check mle_retvals\", ConvergenceWarning)\n"
     ]
    },
    {
     "name": "stdout",
     "output_type": "stream",
     "text": [
      "\n",
      "predicted=0.021, expected=0.022\n",
      "predicted=0.022, expected=0.022\n",
      "predicted=0.022, expected=0.023\n",
      "predicted=0.023, expected=0.022\n",
      "predicted=0.022, expected=0.023\n",
      "predicted=0.023, expected=0.022\n"
     ]
    },
    {
     "name": "stderr",
     "output_type": "stream",
     "text": [
      "C:\\Users\\Anirban\\Anaconda3\\lib\\site-packages\\statsmodels\\base\\model.py:508: ConvergenceWarning: Maximum Likelihood optimization failed to converge. Check mle_retvals\n",
      "  \"Check mle_retvals\", ConvergenceWarning)\n"
     ]
    },
    {
     "name": "stdout",
     "output_type": "stream",
     "text": [
      "predicted=0.022, expected=0.022\n",
      "predicted=0.022, expected=0.022\n",
      "predicted=0.022, expected=0.022\n",
      "predicted=0.022, expected=0.022\n",
      "predicted=0.022, expected=0.022\n",
      "predicted=0.022, expected=0.022\n",
      "predicted=0.022, expected=0.022\n",
      "predicted=0.022, expected=0.022\n",
      "predicted=0.022, expected=0.022\n",
      "predicted=0.022, expected=0.021\n",
      "predicted=0.021, expected=0.021\n",
      "predicted=0.021, expected=0.021\n",
      "predicted=0.021, expected=0.022\n",
      "predicted=0.022, expected=0.022\n",
      "predicted=0.022, expected=0.022\n",
      "predicted=0.022, expected=0.023\n",
      "predicted=0.023, expected=0.023\n",
      "predicted=0.023, expected=0.023\n",
      "predicted=0.023, expected=0.023\n",
      "predicted=0.023, expected=0.023\n",
      "predicted=0.023, expected=0.023\n",
      "predicted=0.023, expected=0.023\n",
      "predicted=0.023, expected=0.025\n",
      "predicted=0.025, expected=0.026\n",
      "predicted=0.026, expected=0.026\n",
      "predicted=0.026, expected=0.026\n",
      "predicted=0.026, expected=0.025\n",
      "predicted=0.025, expected=0.025\n",
      "predicted=0.025, expected=0.025\n",
      "predicted=0.025, expected=0.025\n",
      "predicted=0.025, expected=0.026\n",
      "predicted=0.026, expected=0.025\n",
      "predicted=0.025, expected=0.025\n",
      "predicted=0.025, expected=0.024\n",
      "predicted=0.024, expected=0.025\n",
      "predicted=0.025, expected=0.025\n",
      "predicted=0.025, expected=0.024\n",
      "predicted=0.024, expected=0.025\n",
      "predicted=0.025, expected=0.025\n",
      "predicted=0.025, expected=0.024\n",
      "predicted=0.024, expected=0.026\n",
      "predicted=0.026, expected=0.026\n",
      "predicted=0.026, expected=0.026\n",
      "predicted=0.026, expected=0.027\n",
      "predicted=0.027, expected=0.026\n",
      "predicted=0.026, expected=0.021\n",
      "predicted=0.021, expected=0.021\n",
      "predicted=0.021, expected=0.021\n",
      "predicted=0.021, expected=0.019\n",
      "predicted=0.019, expected=0.019\n",
      "predicted=0.019, expected=0.019\n",
      "predicted=0.019, expected=0.019\n",
      "predicted=0.019, expected=0.018\n",
      "predicted=0.018, expected=0.015\n",
      "predicted=0.015, expected=0.015\n",
      "predicted=0.015, expected=0.014\n",
      "predicted=0.014, expected=0.014\n",
      "predicted=0.014, expected=0.015\n",
      "predicted=0.015, expected=0.016\n",
      "predicted=0.016, expected=0.016\n",
      "predicted=0.016, expected=0.016\n",
      "predicted=0.016, expected=0.017\n",
      "predicted=0.017, expected=0.016\n"
     ]
    },
    {
     "name": "stderr",
     "output_type": "stream",
     "text": [
      "C:\\Users\\Anirban\\Anaconda3\\lib\\site-packages\\statsmodels\\base\\model.py:508: ConvergenceWarning: Maximum Likelihood optimization failed to converge. Check mle_retvals\n",
      "  \"Check mle_retvals\", ConvergenceWarning)\n"
     ]
    },
    {
     "name": "stdout",
     "output_type": "stream",
     "text": [
      "predicted=0.016, expected=0.016\n",
      "predicted=0.016, expected=0.016\n",
      "predicted=0.016, expected=0.016\n",
      "predicted=0.016, expected=0.016\n",
      "predicted=0.016, expected=0.016\n",
      "predicted=0.016, expected=0.016\n",
      "predicted=0.016, expected=0.015\n",
      "predicted=0.015, expected=0.016\n",
      "predicted=0.016, expected=0.015\n",
      "predicted=0.015, expected=0.015\n",
      "predicted=0.015, expected=0.015\n",
      "predicted=0.015, expected=0.015\n",
      "predicted=0.015, expected=0.014\n",
      "predicted=0.014, expected=0.014\n",
      "predicted=0.014, expected=0.015\n",
      "predicted=0.015, expected=0.015\n",
      "predicted=0.015, expected=0.015\n",
      "predicted=0.015, expected=0.015\n",
      "predicted=0.014, expected=0.013\n",
      "predicted=0.013, expected=0.013\n",
      "predicted=0.013, expected=0.014\n",
      "predicted=0.014, expected=0.013\n",
      "predicted=0.013, expected=0.014\n"
     ]
    },
    {
     "name": "stderr",
     "output_type": "stream",
     "text": [
      "C:\\Users\\Anirban\\Anaconda3\\lib\\site-packages\\statsmodels\\base\\model.py:508: ConvergenceWarning: Maximum Likelihood optimization failed to converge. Check mle_retvals\n",
      "  \"Check mle_retvals\", ConvergenceWarning)\n"
     ]
    },
    {
     "name": "stdout",
     "output_type": "stream",
     "text": [
      "predicted=0.014, expected=0.014\n",
      "predicted=0.014, expected=0.015\n",
      "predicted=0.015, expected=0.015\n",
      "predicted=0.015, expected=0.015\n",
      "predicted=0.015, expected=0.015\n",
      "predicted=0.015, expected=0.015\n",
      "predicted=0.015, expected=0.015\n",
      "predicted=0.015, expected=0.015\n",
      "predicted=0.015, expected=0.015\n",
      "predicted=0.015, expected=0.016\n",
      "predicted=0.016, expected=0.016\n",
      "predicted=0.016, expected=0.016\n",
      "predicted=0.016, expected=0.015\n",
      "predicted=0.015, expected=0.016\n",
      "predicted=0.016, expected=0.016\n",
      "predicted=0.016, expected=0.016\n",
      "predicted=0.016, expected=0.016\n",
      "predicted=0.016, expected=0.016"
     ]
    },
    {
     "name": "stderr",
     "output_type": "stream",
     "text": [
      "C:\\Users\\Anirban\\Anaconda3\\lib\\site-packages\\statsmodels\\base\\model.py:508: ConvergenceWarning: Maximum Likelihood optimization failed to converge. Check mle_retvals\n",
      "  \"Check mle_retvals\", ConvergenceWarning)\n"
     ]
    },
    {
     "name": "stdout",
     "output_type": "stream",
     "text": [
      "\n",
      "predicted=0.016, expected=0.015\n",
      "predicted=0.015, expected=0.016\n",
      "predicted=0.016, expected=0.016\n",
      "predicted=0.016, expected=0.017\n",
      "predicted=0.017, expected=0.017\n",
      "predicted=0.017, expected=0.017\n",
      "predicted=0.017, expected=0.017\n"
     ]
    },
    {
     "name": "stderr",
     "output_type": "stream",
     "text": [
      "C:\\Users\\Anirban\\Anaconda3\\lib\\site-packages\\statsmodels\\base\\model.py:508: ConvergenceWarning: Maximum Likelihood optimization failed to converge. Check mle_retvals\n",
      "  \"Check mle_retvals\", ConvergenceWarning)\n"
     ]
    },
    {
     "name": "stdout",
     "output_type": "stream",
     "text": [
      "predicted=0.017, expected=0.019\n",
      "predicted=0.019, expected=0.019\n",
      "predicted=0.019, expected=0.019\n",
      "predicted=0.019, expected=0.020\n",
      "predicted=0.020, expected=0.020\n",
      "predicted=0.020, expected=0.020\n",
      "predicted=0.020, expected=0.020\n",
      "predicted=0.020, expected=0.019\n",
      "predicted=0.019, expected=0.020\n",
      "predicted=0.020, expected=0.019\n",
      "predicted=0.019, expected=0.019\n",
      "predicted=0.019, expected=0.022\n",
      "predicted=0.022, expected=0.023\n",
      "predicted=0.023, expected=0.025\n",
      "predicted=0.025, expected=0.025\n",
      "predicted=0.025, expected=0.025\n",
      "predicted=0.025, expected=0.026\n",
      "predicted=0.026, expected=0.027\n",
      "predicted=0.027, expected=0.026\n"
     ]
    },
    {
     "name": "stderr",
     "output_type": "stream",
     "text": [
      "C:\\Users\\Anirban\\Anaconda3\\lib\\site-packages\\statsmodels\\base\\model.py:508: ConvergenceWarning: Maximum Likelihood optimization failed to converge. Check mle_retvals\n",
      "  \"Check mle_retvals\", ConvergenceWarning)\n"
     ]
    },
    {
     "name": "stdout",
     "output_type": "stream",
     "text": [
      "predicted=0.026, expected=0.026\n",
      "predicted=0.026, expected=0.027\n",
      "predicted=0.027, expected=0.028\n",
      "predicted=0.028, expected=0.028\n",
      "predicted=0.028, expected=0.027\n",
      "predicted=0.027, expected=0.027\n",
      "predicted=0.027, expected=0.026\n",
      "predicted=0.026, expected=0.026\n",
      "predicted=0.026, expected=0.026\n",
      "predicted=0.026, expected=0.026\n",
      "predicted=0.026, expected=0.028\n",
      "predicted=0.028, expected=0.027\n",
      "predicted=0.027, expected=0.029\n",
      "predicted=0.029, expected=0.029\n",
      "predicted=0.029, expected=0.030\n",
      "predicted=0.030, expected=0.030\n",
      "predicted=0.030, expected=0.030\n",
      "predicted=0.030, expected=0.030\n",
      "predicted=0.030, expected=0.028\n",
      "predicted=0.028, expected=0.028\n",
      "predicted=0.028, expected=0.029\n"
     ]
    },
    {
     "name": "stderr",
     "output_type": "stream",
     "text": [
      "C:\\Users\\Anirban\\Anaconda3\\lib\\site-packages\\statsmodels\\base\\model.py:508: ConvergenceWarning: Maximum Likelihood optimization failed to converge. Check mle_retvals\n",
      "  \"Check mle_retvals\", ConvergenceWarning)\n"
     ]
    },
    {
     "name": "stdout",
     "output_type": "stream",
     "text": [
      "predicted=0.029, expected=0.029\n",
      "predicted=0.029, expected=0.029\n",
      "predicted=0.029, expected=0.027\n",
      "predicted=0.027, expected=0.027\n",
      "predicted=0.027, expected=0.029\n",
      "predicted=0.029, expected=0.030\n",
      "predicted=0.030, expected=0.029\n",
      "predicted=0.029, expected=0.029\n",
      "predicted=0.029, expected=0.030\n",
      "predicted=0.030, expected=0.029\n",
      "predicted=0.029, expected=0.029\n",
      "predicted=0.029, expected=0.029\n",
      "predicted=0.029, expected=0.029\n",
      "predicted=0.029, expected=0.029\n",
      "predicted=0.029, expected=0.029\n",
      "predicted=0.029, expected=0.030\n",
      "predicted=0.030, expected=0.030\n",
      "predicted=0.030, expected=0.030\n",
      "predicted=0.030, expected=0.030\n",
      "predicted=0.030, expected=0.029\n",
      "predicted=0.029, expected=0.030\n",
      "predicted=0.030, expected=0.031\n",
      "predicted=0.031, expected=0.032\n",
      "predicted=0.032, expected=0.033\n",
      "predicted=0.033, expected=0.031\n",
      "predicted=0.031, expected=0.033\n",
      "predicted=0.033, expected=0.032\n",
      "predicted=0.032, expected=0.033\n",
      "predicted=0.033, expected=0.031\n",
      "predicted=0.031, expected=0.029\n",
      "predicted=0.029, expected=0.030\n",
      "predicted=0.030, expected=0.030\n",
      "predicted=0.030, expected=0.030\n",
      "predicted=0.030, expected=0.029\n",
      "predicted=0.029, expected=0.029\n",
      "predicted=0.029, expected=0.030\n",
      "predicted=0.030, expected=0.030\n",
      "predicted=0.030, expected=0.030\n",
      "predicted=0.030, expected=0.030\n",
      "predicted=0.030, expected=0.030\n",
      "predicted=0.030, expected=0.030\n",
      "predicted=0.030, expected=0.030\n",
      "predicted=0.030, expected=0.030\n",
      "predicted=0.030, expected=0.030\n",
      "predicted=0.030, expected=0.030\n",
      "predicted=0.030, expected=0.031\n",
      "predicted=0.031, expected=0.031\n",
      "predicted=0.031, expected=0.030\n",
      "predicted=0.030, expected=0.030\n",
      "predicted=0.030, expected=0.029\n",
      "predicted=0.029, expected=0.030\n",
      "predicted=0.030, expected=0.029\n",
      "predicted=0.029, expected=0.029\n",
      "predicted=0.029, expected=0.029\n"
     ]
    },
    {
     "name": "stderr",
     "output_type": "stream",
     "text": [
      "C:\\Users\\Anirban\\Anaconda3\\lib\\site-packages\\statsmodels\\base\\model.py:508: ConvergenceWarning: Maximum Likelihood optimization failed to converge. Check mle_retvals\n",
      "  \"Check mle_retvals\", ConvergenceWarning)\n"
     ]
    },
    {
     "name": "stdout",
     "output_type": "stream",
     "text": [
      "predicted=0.029, expected=0.029\n",
      "predicted=0.029, expected=0.030\n",
      "predicted=0.030, expected=0.030\n"
     ]
    },
    {
     "name": "stderr",
     "output_type": "stream",
     "text": [
      "C:\\Users\\Anirban\\Anaconda3\\lib\\site-packages\\statsmodels\\base\\model.py:508: ConvergenceWarning: Maximum Likelihood optimization failed to converge. Check mle_retvals\n",
      "  \"Check mle_retvals\", ConvergenceWarning)\n"
     ]
    },
    {
     "name": "stdout",
     "output_type": "stream",
     "text": [
      "predicted=0.030, expected=0.031\n",
      "predicted=0.031, expected=0.031\n",
      "predicted=0.031, expected=0.031\n",
      "predicted=0.031, expected=0.033\n",
      "predicted=0.033, expected=0.034\n",
      "predicted=0.034, expected=0.034\n",
      "predicted=0.034, expected=0.033\n",
      "predicted=0.033, expected=0.034\n",
      "predicted=0.034, expected=0.034\n",
      "predicted=0.034, expected=0.034\n",
      "predicted=0.034, expected=0.034\n",
      "predicted=0.034, expected=0.035\n",
      "predicted=0.035, expected=0.037\n"
     ]
    },
    {
     "name": "stderr",
     "output_type": "stream",
     "text": [
      "C:\\Users\\Anirban\\Anaconda3\\lib\\site-packages\\statsmodels\\base\\model.py:508: ConvergenceWarning: Maximum Likelihood optimization failed to converge. Check mle_retvals\n",
      "  \"Check mle_retvals\", ConvergenceWarning)\n"
     ]
    },
    {
     "name": "stdout",
     "output_type": "stream",
     "text": [
      "predicted=0.037, expected=0.037\n",
      "predicted=0.037, expected=0.036\n",
      "predicted=0.036, expected=0.037\n",
      "predicted=0.037, expected=0.038\n",
      "predicted=0.038, expected=0.037"
     ]
    },
    {
     "name": "stderr",
     "output_type": "stream",
     "text": [
      "C:\\Users\\Anirban\\Anaconda3\\lib\\site-packages\\statsmodels\\base\\model.py:508: ConvergenceWarning: Maximum Likelihood optimization failed to converge. Check mle_retvals\n",
      "  \"Check mle_retvals\", ConvergenceWarning)\n"
     ]
    },
    {
     "name": "stdout",
     "output_type": "stream",
     "text": [
      "\n",
      "predicted=0.037, expected=0.038\n",
      "predicted=0.038, expected=0.037\n",
      "predicted=0.037, expected=0.037\n",
      "predicted=0.037, expected=0.038\n",
      "predicted=0.038, expected=0.038\n",
      "predicted=0.038, expected=0.037\n",
      "predicted=0.037, expected=0.037\n",
      "predicted=0.037, expected=0.036\n",
      "predicted=0.036, expected=0.038\n",
      "predicted=0.038, expected=0.038\n",
      "predicted=0.038, expected=0.037\n",
      "predicted=0.037, expected=0.038\n",
      "predicted=0.038, expected=0.039\n",
      "predicted=0.039, expected=0.037\n",
      "predicted=0.037, expected=0.040\n",
      "predicted=0.040, expected=0.039\n",
      "predicted=0.039, expected=0.040\n",
      "predicted=0.040, expected=0.040\n",
      "predicted=0.040, expected=0.040\n",
      "predicted=0.040, expected=0.039\n",
      "predicted=0.039, expected=0.039\n",
      "predicted=0.039, expected=0.039\n",
      "predicted=0.039, expected=0.039\n"
     ]
    },
    {
     "name": "stderr",
     "output_type": "stream",
     "text": [
      "C:\\Users\\Anirban\\Anaconda3\\lib\\site-packages\\statsmodels\\base\\model.py:508: ConvergenceWarning: Maximum Likelihood optimization failed to converge. Check mle_retvals\n",
      "  \"Check mle_retvals\", ConvergenceWarning)\n"
     ]
    },
    {
     "name": "stdout",
     "output_type": "stream",
     "text": [
      "predicted=0.039, expected=0.040\n",
      "predicted=0.040, expected=0.039\n",
      "predicted=0.039, expected=0.038\n",
      "predicted=0.038, expected=0.038\n",
      "predicted=0.038, expected=0.039\n",
      "predicted=0.039, expected=0.038\n",
      "predicted=0.038, expected=0.038\n",
      "predicted=0.038, expected=0.038\n",
      "predicted=0.038, expected=0.038\n",
      "predicted=0.038, expected=0.038\n",
      "predicted=0.038, expected=0.039\n",
      "predicted=0.039, expected=0.038\n",
      "predicted=0.038, expected=0.038\n",
      "predicted=0.038, expected=0.039\n",
      "predicted=0.039, expected=0.039\n",
      "predicted=0.039, expected=0.039\n",
      "predicted=0.039, expected=0.040\n",
      "predicted=0.040, expected=0.042\n",
      "predicted=0.042, expected=0.043\n",
      "predicted=0.043, expected=0.042\n",
      "predicted=0.042, expected=0.041\n",
      "predicted=0.041, expected=0.041\n",
      "predicted=0.041, expected=0.041"
     ]
    },
    {
     "name": "stderr",
     "output_type": "stream",
     "text": [
      "C:\\Users\\Anirban\\Anaconda3\\lib\\site-packages\\statsmodels\\base\\model.py:508: ConvergenceWarning: Maximum Likelihood optimization failed to converge. Check mle_retvals\n",
      "  \"Check mle_retvals\", ConvergenceWarning)\n"
     ]
    },
    {
     "name": "stdout",
     "output_type": "stream",
     "text": [
      "\n",
      "predicted=0.041, expected=0.041\n",
      "predicted=0.041, expected=0.039\n",
      "predicted=0.039, expected=0.038\n",
      "predicted=0.038, expected=0.038\n",
      "predicted=0.038, expected=0.039\n",
      "predicted=0.039, expected=0.039\n",
      "predicted=0.039, expected=0.037\n",
      "predicted=0.037, expected=0.036\n",
      "predicted=0.036, expected=0.037\n",
      "predicted=0.037, expected=0.037\n",
      "predicted=0.037, expected=0.039\n",
      "predicted=0.039, expected=0.039\n",
      "predicted=0.039, expected=0.038\n",
      "predicted=0.038, expected=0.037\n",
      "predicted=0.037, expected=0.037\n",
      "predicted=0.037, expected=0.037\n",
      "predicted=0.037, expected=0.037\n",
      "predicted=0.037, expected=0.036\n",
      "predicted=0.036, expected=0.038\n",
      "predicted=0.038, expected=0.039\n",
      "predicted=0.039, expected=0.038\n",
      "predicted=0.038, expected=0.037\n",
      "predicted=0.037, expected=0.038\n",
      "predicted=0.038, expected=0.037\n",
      "predicted=0.037, expected=0.038\n",
      "predicted=0.038, expected=0.039\n",
      "predicted=0.039, expected=0.041\n",
      "predicted=0.041, expected=0.039\n",
      "predicted=0.039, expected=0.041\n",
      "predicted=0.041, expected=0.037\n",
      "predicted=0.037, expected=0.035\n",
      "predicted=0.035, expected=0.034\n",
      "predicted=0.034, expected=0.034\n",
      "predicted=0.034, expected=0.035\n",
      "predicted=0.035, expected=0.034\n",
      "predicted=0.034, expected=0.034\n",
      "predicted=0.034, expected=0.035\n",
      "predicted=0.035, expected=0.034\n",
      "predicted=0.034, expected=0.033\n",
      "predicted=0.033, expected=0.032\n",
      "predicted=0.032, expected=0.033\n",
      "predicted=0.033, expected=0.033\n",
      "predicted=0.033, expected=0.033\n",
      "predicted=0.033, expected=0.035\n",
      "predicted=0.035, expected=0.034\n",
      "predicted=0.034, expected=0.034\n",
      "predicted=0.034, expected=0.032\n",
      "predicted=0.032, expected=0.030\n",
      "predicted=0.030, expected=0.031\n",
      "predicted=0.031, expected=0.031\n",
      "predicted=0.031, expected=0.030\n",
      "predicted=0.030, expected=0.031\n",
      "predicted=0.031, expected=0.032\n",
      "predicted=0.032, expected=0.033\n",
      "predicted=0.033, expected=0.033\n",
      "predicted=0.033, expected=0.032\n",
      "predicted=0.032, expected=0.032\n",
      "predicted=0.032, expected=0.032\n",
      "predicted=0.032, expected=0.031\n",
      "predicted=0.031, expected=0.031\n",
      "predicted=0.031, expected=0.032\n",
      "predicted=0.032, expected=0.033\n",
      "predicted=0.033, expected=0.033\n",
      "predicted=0.033, expected=0.034\n",
      "predicted=0.034, expected=0.035\n",
      "predicted=0.035, expected=0.035\n",
      "predicted=0.035, expected=0.035\n",
      "predicted=0.035, expected=0.036\n",
      "predicted=0.036, expected=0.036\n",
      "predicted=0.036, expected=0.035\n"
     ]
    },
    {
     "name": "stderr",
     "output_type": "stream",
     "text": [
      "C:\\Users\\Anirban\\Anaconda3\\lib\\site-packages\\statsmodels\\base\\model.py:508: ConvergenceWarning: Maximum Likelihood optimization failed to converge. Check mle_retvals\n",
      "  \"Check mle_retvals\", ConvergenceWarning)\n"
     ]
    },
    {
     "name": "stdout",
     "output_type": "stream",
     "text": [
      "predicted=0.035, expected=0.036\n",
      "predicted=0.036, expected=0.036\n",
      "predicted=0.036, expected=0.035\n",
      "predicted=0.035, expected=0.035\n",
      "predicted=0.035, expected=0.035\n",
      "predicted=0.035, expected=0.036\n",
      "predicted=0.036, expected=0.037\n",
      "predicted=0.037, expected=0.037\n",
      "predicted=0.037, expected=0.036\n",
      "predicted=0.036, expected=0.036\n",
      "predicted=0.036, expected=0.038\n",
      "predicted=0.038, expected=0.037\n",
      "predicted=0.037, expected=0.038\n",
      "predicted=0.038, expected=0.037\n",
      "predicted=0.037, expected=0.036\n",
      "predicted=0.036, expected=0.037\n",
      "predicted=0.037, expected=0.037\n",
      "predicted=0.037, expected=0.036\n",
      "predicted=0.036, expected=0.036\n",
      "predicted=0.036, expected=0.036\n",
      "predicted=0.036, expected=0.036\n",
      "predicted=0.036, expected=0.037\n",
      "predicted=0.037, expected=0.037\n",
      "predicted=0.037, expected=0.038\n"
     ]
    },
    {
     "name": "stderr",
     "output_type": "stream",
     "text": [
      "C:\\Users\\Anirban\\Anaconda3\\lib\\site-packages\\statsmodels\\base\\model.py:508: ConvergenceWarning: Maximum Likelihood optimization failed to converge. Check mle_retvals\n",
      "  \"Check mle_retvals\", ConvergenceWarning)\n"
     ]
    },
    {
     "name": "stdout",
     "output_type": "stream",
     "text": [
      "predicted=0.038, expected=0.039\n",
      "predicted=0.039, expected=0.040\n",
      "predicted=0.040, expected=0.037\n",
      "predicted=0.037, expected=0.038\n",
      "predicted=0.038, expected=0.037\n",
      "predicted=0.037, expected=0.036\n",
      "predicted=0.036, expected=0.036\n",
      "predicted=0.036, expected=0.037\n",
      "predicted=0.037, expected=0.037\n",
      "predicted=0.037, expected=0.037\n",
      "predicted=0.037, expected=0.037\n",
      "predicted=0.037, expected=0.037\n",
      "predicted=0.037, expected=0.036\n",
      "predicted=0.036, expected=0.036\n",
      "predicted=0.036, expected=0.037\n",
      "predicted=0.037, expected=0.037\n",
      "predicted=0.037, expected=0.037\n",
      "predicted=0.037, expected=0.037\n",
      "predicted=0.037, expected=0.037\n",
      "predicted=0.037, expected=0.037\n",
      "predicted=0.037, expected=0.038\n",
      "predicted=0.038, expected=0.038\n",
      "predicted=0.038, expected=0.037\n",
      "predicted=0.037, expected=0.038\n",
      "predicted=0.038, expected=0.039\n",
      "predicted=0.039, expected=0.039\n",
      "predicted=0.039, expected=0.038\n",
      "predicted=0.038, expected=0.040\n",
      "predicted=0.040, expected=0.040\n",
      "predicted=0.040, expected=0.040\n",
      "predicted=0.040, expected=0.042\n",
      "predicted=0.042, expected=0.041\n",
      "predicted=0.041, expected=0.041\n",
      "predicted=0.041, expected=0.040\n",
      "predicted=0.040, expected=0.040\n",
      "predicted=0.040, expected=0.039\n",
      "predicted=0.039, expected=0.038\n"
     ]
    },
    {
     "name": "stderr",
     "output_type": "stream",
     "text": [
      "C:\\Users\\Anirban\\Anaconda3\\lib\\site-packages\\statsmodels\\base\\model.py:508: ConvergenceWarning: Maximum Likelihood optimization failed to converge. Check mle_retvals\n",
      "  \"Check mle_retvals\", ConvergenceWarning)\n"
     ]
    },
    {
     "name": "stdout",
     "output_type": "stream",
     "text": [
      "predicted=0.038, expected=0.039\n",
      "predicted=0.039, expected=0.040\n",
      "predicted=0.040, expected=0.041\n",
      "predicted=0.041, expected=0.041\n",
      "predicted=0.041, expected=0.041\n",
      "predicted=0.041, expected=0.041\n",
      "predicted=0.041, expected=0.041\n",
      "predicted=0.041, expected=0.041\n",
      "predicted=0.041, expected=0.042\n",
      "predicted=0.042, expected=0.042\n",
      "predicted=0.042, expected=0.044\n",
      "predicted=0.044, expected=0.044\n",
      "predicted=0.044, expected=0.042\n",
      "predicted=0.042, expected=0.041\n",
      "predicted=0.041, expected=0.041\n",
      "predicted=0.041, expected=0.041\n",
      "predicted=0.041, expected=0.040\n",
      "predicted=0.040, expected=0.039\n",
      "predicted=0.039, expected=0.039\n",
      "predicted=0.039, expected=0.038\n",
      "predicted=0.038, expected=0.040\n",
      "predicted=0.040, expected=0.040\n",
      "predicted=0.040, expected=0.038\n",
      "predicted=0.038, expected=0.038\n",
      "predicted=0.038, expected=0.038\n"
     ]
    },
    {
     "name": "stderr",
     "output_type": "stream",
     "text": [
      "C:\\Users\\Anirban\\Anaconda3\\lib\\site-packages\\statsmodels\\base\\model.py:508: ConvergenceWarning: Maximum Likelihood optimization failed to converge. Check mle_retvals\n",
      "  \"Check mle_retvals\", ConvergenceWarning)\n"
     ]
    },
    {
     "name": "stdout",
     "output_type": "stream",
     "text": [
      "predicted=0.038, expected=0.038\n",
      "predicted=0.038, expected=0.038\n",
      "predicted=0.038, expected=0.039\n",
      "predicted=0.039, expected=0.039\n",
      "predicted=0.039, expected=0.038\n",
      "predicted=0.038, expected=0.037\n",
      "predicted=0.037, expected=0.038\n",
      "predicted=0.038, expected=0.038\n",
      "predicted=0.038, expected=0.038\n",
      "predicted=0.038, expected=0.038\n",
      "predicted=0.038, expected=0.039\n",
      "predicted=0.039, expected=0.039\n",
      "predicted=0.039, expected=0.039\n",
      "predicted=0.039, expected=0.039\n",
      "predicted=0.039, expected=0.039\n",
      "predicted=0.039, expected=0.040\n",
      "predicted=0.040, expected=0.040\n",
      "predicted=0.040, expected=0.040\n",
      "predicted=0.040, expected=0.040\n",
      "predicted=0.040, expected=0.040\n",
      "predicted=0.040, expected=0.041\n"
     ]
    },
    {
     "name": "stderr",
     "output_type": "stream",
     "text": [
      "C:\\Users\\Anirban\\Anaconda3\\lib\\site-packages\\statsmodels\\base\\model.py:508: ConvergenceWarning: Maximum Likelihood optimization failed to converge. Check mle_retvals\n",
      "  \"Check mle_retvals\", ConvergenceWarning)\n"
     ]
    },
    {
     "name": "stdout",
     "output_type": "stream",
     "text": [
      "predicted=0.041, expected=0.042\n"
     ]
    },
    {
     "name": "stderr",
     "output_type": "stream",
     "text": [
      "C:\\Users\\Anirban\\Anaconda3\\lib\\site-packages\\statsmodels\\base\\model.py:508: ConvergenceWarning: Maximum Likelihood optimization failed to converge. Check mle_retvals\n",
      "  \"Check mle_retvals\", ConvergenceWarning)\n"
     ]
    },
    {
     "name": "stdout",
     "output_type": "stream",
     "text": [
      "predicted=0.042, expected=0.041\n",
      "predicted=0.041, expected=0.042\n",
      "predicted=0.042, expected=0.041\n"
     ]
    },
    {
     "name": "stderr",
     "output_type": "stream",
     "text": [
      "C:\\Users\\Anirban\\Anaconda3\\lib\\site-packages\\statsmodels\\base\\model.py:508: ConvergenceWarning: Maximum Likelihood optimization failed to converge. Check mle_retvals\n",
      "  \"Check mle_retvals\", ConvergenceWarning)\n"
     ]
    },
    {
     "name": "stdout",
     "output_type": "stream",
     "text": [
      "predicted=0.041, expected=0.040\n",
      "predicted=0.040, expected=0.039\n",
      "predicted=0.039, expected=0.038\n",
      "predicted=0.038, expected=0.037\n",
      "predicted=0.037, expected=0.037\n",
      "predicted=0.037, expected=0.036\n",
      "predicted=0.036, expected=0.036\n",
      "predicted=0.036, expected=0.036\n",
      "predicted=0.036, expected=0.036\n",
      "predicted=0.036, expected=0.036\n",
      "predicted=0.036, expected=0.037\n",
      "predicted=0.037, expected=0.038\n",
      "predicted=0.038, expected=0.037\n",
      "predicted=0.037, expected=0.037\n",
      "predicted=0.037, expected=0.037\n",
      "predicted=0.037, expected=0.037\n"
     ]
    },
    {
     "name": "stderr",
     "output_type": "stream",
     "text": [
      "C:\\Users\\Anirban\\Anaconda3\\lib\\site-packages\\statsmodels\\base\\model.py:508: ConvergenceWarning: Maximum Likelihood optimization failed to converge. Check mle_retvals\n",
      "  \"Check mle_retvals\", ConvergenceWarning)\n"
     ]
    },
    {
     "name": "stdout",
     "output_type": "stream",
     "text": [
      "predicted=0.037, expected=0.037\n",
      "predicted=0.037, expected=0.037\n",
      "predicted=0.037, expected=0.037\n",
      "predicted=0.037, expected=0.038\n",
      "predicted=0.038, expected=0.038\n",
      "predicted=0.038, expected=0.037\n",
      "predicted=0.037, expected=0.036\n",
      "predicted=0.036, expected=0.037\n",
      "predicted=0.037, expected=0.037\n",
      "predicted=0.037, expected=0.038\n",
      "predicted=0.038, expected=0.038\n",
      "predicted=0.038, expected=0.037\n",
      "predicted=0.037, expected=0.038\n",
      "predicted=0.038, expected=0.038\n",
      "predicted=0.038, expected=0.041\n",
      "predicted=0.041, expected=0.041\n",
      "predicted=0.041, expected=0.041\n",
      "predicted=0.041, expected=0.042\n",
      "predicted=0.042, expected=0.043\n",
      "predicted=0.043, expected=0.042\n",
      "predicted=0.042, expected=0.043\n",
      "predicted=0.043, expected=0.043\n",
      "predicted=0.043, expected=0.043\n",
      "predicted=0.043, expected=0.045\n",
      "predicted=0.045, expected=0.045\n",
      "predicted=0.045, expected=0.044\n",
      "predicted=0.044, expected=0.046\n",
      "predicted=0.046, expected=0.047\n",
      "predicted=0.047, expected=0.048\n",
      "predicted=0.048, expected=0.047\n",
      "predicted=0.047, expected=0.047\n",
      "predicted=0.047, expected=0.047\n",
      "predicted=0.047, expected=0.049\n",
      "predicted=0.049, expected=0.049\n",
      "predicted=0.049, expected=0.050\n",
      "predicted=0.050, expected=0.049\n",
      "predicted=0.049, expected=0.048\n",
      "predicted=0.048, expected=0.048\n",
      "predicted=0.048, expected=0.048\n",
      "predicted=0.048, expected=0.049\n",
      "predicted=0.049, expected=0.048\n",
      "predicted=0.048, expected=0.048\n",
      "predicted=0.048, expected=0.049\n",
      "predicted=0.049, expected=0.049\n"
     ]
    },
    {
     "name": "stderr",
     "output_type": "stream",
     "text": [
      "C:\\Users\\Anirban\\Anaconda3\\lib\\site-packages\\statsmodels\\base\\model.py:508: ConvergenceWarning: Maximum Likelihood optimization failed to converge. Check mle_retvals\n",
      "  \"Check mle_retvals\", ConvergenceWarning)\n"
     ]
    },
    {
     "name": "stdout",
     "output_type": "stream",
     "text": [
      "predicted=0.049, expected=0.050\n",
      "predicted=0.050, expected=0.049\n",
      "predicted=0.049, expected=0.050\n",
      "predicted=0.050, expected=0.049\n",
      "predicted=0.049, expected=0.048\n",
      "predicted=0.048, expected=0.048\n",
      "predicted=0.048, expected=0.048\n",
      "predicted=0.048, expected=0.046\n",
      "predicted=0.046, expected=0.047\n",
      "predicted=0.047, expected=0.047\n",
      "predicted=0.047, expected=0.046\n",
      "predicted=0.046, expected=0.046\n",
      "predicted=0.046, expected=0.048\n",
      "predicted=0.048, expected=0.047\n",
      "predicted=0.047, expected=0.048\n",
      "predicted=0.048, expected=0.049\n",
      "predicted=0.049, expected=0.046\n",
      "predicted=0.046, expected=0.044\n",
      "predicted=0.044, expected=0.045\n",
      "predicted=0.045, expected=0.045\n",
      "predicted=0.045, expected=0.046\n",
      "predicted=0.046, expected=0.045\n",
      "predicted=0.045, expected=0.044\n",
      "predicted=0.044, expected=0.044\n",
      "predicted=0.044, expected=0.044\n",
      "predicted=0.044, expected=0.044\n",
      "predicted=0.044, expected=0.045\n",
      "predicted=0.045, expected=0.043\n",
      "predicted=0.043, expected=0.043\n",
      "predicted=0.043, expected=0.041\n",
      "predicted=0.041, expected=0.040\n",
      "predicted=0.040, expected=0.040\n",
      "predicted=0.040, expected=0.036\n",
      "predicted=0.036, expected=0.035\n",
      "predicted=0.035, expected=0.034\n",
      "predicted=0.034, expected=0.035\n",
      "predicted=0.035, expected=0.035\n",
      "predicted=0.035, expected=0.036\n",
      "predicted=0.036, expected=0.036\n",
      "predicted=0.036, expected=0.036\n",
      "predicted=0.036, expected=0.037\n",
      "predicted=0.037, expected=0.035\n",
      "predicted=0.035, expected=0.036\n",
      "predicted=0.036, expected=0.036\n",
      "predicted=0.036, expected=0.036\n",
      "predicted=0.036, expected=0.035\n",
      "predicted=0.035, expected=0.036\n",
      "predicted=0.036, expected=0.036\n",
      "predicted=0.036, expected=0.036\n",
      "predicted=0.036, expected=0.036\n",
      "predicted=0.036, expected=0.037\n",
      "predicted=0.037, expected=0.039\n",
      "predicted=0.039, expected=0.039\n",
      "predicted=0.039, expected=0.038\n",
      "predicted=0.038, expected=0.038\n",
      "predicted=0.038, expected=0.038\n",
      "predicted=0.038, expected=0.037\n",
      "predicted=0.037, expected=0.038\n",
      "predicted=0.038, expected=0.038\n",
      "predicted=0.038, expected=0.038\n",
      "predicted=0.038, expected=0.037\n",
      "predicted=0.037, expected=0.037\n",
      "predicted=0.037, expected=0.037\n",
      "predicted=0.037, expected=0.038\n",
      "predicted=0.038, expected=0.037\n",
      "predicted=0.037, expected=0.036\n",
      "predicted=0.036, expected=0.038\n",
      "predicted=0.039, expected=0.037\n",
      "predicted=0.037, expected=0.036\n",
      "predicted=0.036, expected=0.036\n",
      "predicted=0.036, expected=0.036\n",
      "predicted=0.036, expected=0.037\n",
      "predicted=0.037, expected=0.038\n",
      "predicted=0.038, expected=0.038\n",
      "predicted=0.038, expected=0.038\n",
      "predicted=0.038, expected=0.038\n",
      "predicted=0.038, expected=0.039\n",
      "predicted=0.039, expected=0.037\n",
      "predicted=0.037, expected=0.038\n",
      "predicted=0.038, expected=0.037\n",
      "predicted=0.037, expected=0.036\n",
      "predicted=0.036, expected=0.037\n",
      "predicted=0.037, expected=0.038\n",
      "predicted=0.038, expected=0.037\n",
      "predicted=0.037, expected=0.037\n",
      "predicted=0.037, expected=0.037\n",
      "predicted=0.037, expected=0.037\n",
      "predicted=0.037, expected=0.037\n",
      "predicted=0.037, expected=0.037\n",
      "predicted=0.037, expected=0.038\n",
      "predicted=0.038, expected=0.039\n",
      "predicted=0.039, expected=0.040\n",
      "predicted=0.040, expected=0.040\n",
      "predicted=0.040, expected=0.039\n",
      "predicted=0.039, expected=0.039\n",
      "predicted=0.039, expected=0.040\n",
      "predicted=0.040, expected=0.041\n",
      "predicted=0.041, expected=0.041\n",
      "predicted=0.041, expected=0.039\n",
      "predicted=0.039, expected=0.038\n",
      "predicted=0.038, expected=0.038\n",
      "predicted=0.038, expected=0.039\n",
      "predicted=0.039, expected=0.038\n",
      "predicted=0.038, expected=0.039\n",
      "predicted=0.039, expected=0.039\n",
      "predicted=0.039, expected=0.038\n",
      "predicted=0.038, expected=0.040\n",
      "predicted=0.040, expected=0.039\n",
      "predicted=0.039, expected=0.039\n",
      "predicted=0.039, expected=0.039\n",
      "predicted=0.039, expected=0.039\n",
      "predicted=0.039, expected=0.040\n",
      "predicted=0.040, expected=0.039\n",
      "predicted=0.039, expected=0.040\n",
      "predicted=0.040, expected=0.040\n",
      "predicted=0.040, expected=0.039\n",
      "predicted=0.039, expected=0.041\n",
      "predicted=0.041, expected=0.040\n",
      "predicted=0.040, expected=0.040\n",
      "predicted=0.040, expected=0.036\n",
      "predicted=0.036, expected=0.036\n",
      "predicted=0.036, expected=0.037\n"
     ]
    },
    {
     "name": "stderr",
     "output_type": "stream",
     "text": [
      "C:\\Users\\Anirban\\Anaconda3\\lib\\site-packages\\statsmodels\\base\\model.py:508: ConvergenceWarning: Maximum Likelihood optimization failed to converge. Check mle_retvals\n",
      "  \"Check mle_retvals\", ConvergenceWarning)\n"
     ]
    },
    {
     "name": "stdout",
     "output_type": "stream",
     "text": [
      "predicted=0.037, expected=0.037\n",
      "predicted=0.037, expected=0.038\n",
      "predicted=0.038, expected=0.039\n",
      "predicted=0.039, expected=0.038\n",
      "predicted=0.038, expected=0.038\n",
      "predicted=0.038, expected=0.039\n",
      "predicted=0.039, expected=0.037\n",
      "predicted=0.037, expected=0.037\n",
      "predicted=0.037, expected=0.038\n",
      "predicted=0.038, expected=0.038\n",
      "predicted=0.038, expected=0.037\n",
      "predicted=0.037, expected=0.038\n",
      "predicted=0.038, expected=0.039\n",
      "predicted=0.039, expected=0.039\n",
      "predicted=0.039, expected=0.040\n",
      "predicted=0.040, expected=0.041\n",
      "predicted=0.041, expected=0.042\n",
      "predicted=0.042, expected=0.042\n",
      "predicted=0.042, expected=0.042\n",
      "predicted=0.042, expected=0.043\n",
      "predicted=0.043, expected=0.042\n",
      "predicted=0.042, expected=0.041\n",
      "predicted=0.041, expected=0.042\n",
      "predicted=0.042, expected=0.042\n"
     ]
    },
    {
     "name": "stderr",
     "output_type": "stream",
     "text": [
      "C:\\Users\\Anirban\\Anaconda3\\lib\\site-packages\\statsmodels\\base\\model.py:508: ConvergenceWarning: Maximum Likelihood optimization failed to converge. Check mle_retvals\n",
      "  \"Check mle_retvals\", ConvergenceWarning)\n"
     ]
    },
    {
     "name": "stdout",
     "output_type": "stream",
     "text": [
      "predicted=0.042, expected=0.042\n",
      "predicted=0.042, expected=0.042\n",
      "predicted=0.042, expected=0.041\n",
      "predicted=0.041, expected=0.041\n",
      "predicted=0.041, expected=0.042\n",
      "predicted=0.042, expected=0.041\n",
      "predicted=0.041, expected=0.041\n",
      "predicted=0.041, expected=0.041\n",
      "predicted=0.041, expected=0.040\n",
      "predicted=0.040, expected=0.040\n",
      "predicted=0.040, expected=0.040\n",
      "predicted=0.040, expected=0.039\n",
      "predicted=0.039, expected=0.040\n",
      "predicted=0.040, expected=0.039\n",
      "predicted=0.039, expected=0.039\n",
      "predicted=0.039, expected=0.040\n",
      "predicted=0.040, expected=0.040\n",
      "predicted=0.040, expected=0.040\n",
      "predicted=0.040, expected=0.040\n",
      "predicted=0.040, expected=0.040\n",
      "predicted=0.040, expected=0.040\n",
      "predicted=0.040, expected=0.040\n",
      "predicted=0.040, expected=0.039\n",
      "predicted=0.039, expected=0.039\n",
      "predicted=0.039, expected=0.038\n",
      "predicted=0.038, expected=0.038\n",
      "predicted=0.038, expected=0.038\n",
      "predicted=0.038, expected=0.037\n",
      "predicted=0.037, expected=0.037\n",
      "predicted=0.037, expected=0.038\n",
      "predicted=0.038, expected=0.038\n",
      "predicted=0.038, expected=0.038\n",
      "predicted=0.038, expected=0.039\n",
      "predicted=0.039, expected=0.039\n",
      "predicted=0.039, expected=0.039\n",
      "predicted=0.039, expected=0.039\n",
      "predicted=0.039, expected=0.039\n",
      "predicted=0.039, expected=0.039\n",
      "predicted=0.039, expected=0.040\n",
      "predicted=0.040, expected=0.040\n",
      "predicted=0.040, expected=0.039\n",
      "predicted=0.039, expected=0.039\n",
      "predicted=0.039, expected=0.040\n",
      "predicted=0.040, expected=0.039\n",
      "predicted=0.039, expected=0.039\n",
      "predicted=0.039, expected=0.039\n",
      "predicted=0.039, expected=0.039\n",
      "predicted=0.039, expected=0.039\n",
      "predicted=0.039, expected=0.038\n",
      "predicted=0.038, expected=0.038\n",
      "predicted=0.038, expected=0.038\n",
      "predicted=0.038, expected=0.038\n",
      "predicted=0.038, expected=0.038\n",
      "predicted=0.038, expected=0.038\n",
      "predicted=0.038, expected=0.038\n",
      "predicted=0.038, expected=0.038\n",
      "predicted=0.038, expected=0.038\n",
      "predicted=0.038, expected=0.039\n",
      "predicted=0.039, expected=0.038\n",
      "predicted=0.038, expected=0.038\n",
      "predicted=0.038, expected=0.038\n",
      "predicted=0.038, expected=0.038\n",
      "predicted=0.038, expected=0.038\n",
      "predicted=0.038, expected=0.038\n",
      "predicted=0.038, expected=0.037\n",
      "predicted=0.037, expected=0.038\n",
      "predicted=0.038, expected=0.036\n",
      "predicted=0.036, expected=0.037\n",
      "predicted=0.037, expected=0.037\n",
      "predicted=0.037, expected=0.037\n",
      "predicted=0.037, expected=0.036\n",
      "predicted=0.036, expected=0.037\n",
      "predicted=0.037, expected=0.036\n",
      "predicted=0.036, expected=0.036\n",
      "predicted=0.036, expected=0.037\n",
      "predicted=0.037, expected=0.037\n",
      "predicted=0.037, expected=0.037\n",
      "predicted=0.037, expected=0.037\n",
      "predicted=0.037, expected=0.037\n",
      "predicted=0.037, expected=0.038\n",
      "predicted=0.038, expected=0.039\n",
      "predicted=0.039, expected=0.039\n",
      "predicted=0.039, expected=0.038\n",
      "predicted=0.038, expected=0.038\n",
      "predicted=0.038, expected=0.038\n",
      "predicted=0.038, expected=0.037\n",
      "predicted=0.037, expected=0.036\n"
     ]
    },
    {
     "name": "stderr",
     "output_type": "stream",
     "text": [
      "C:\\Users\\Anirban\\Anaconda3\\lib\\site-packages\\statsmodels\\base\\model.py:508: ConvergenceWarning: Maximum Likelihood optimization failed to converge. Check mle_retvals\n",
      "  \"Check mle_retvals\", ConvergenceWarning)\n"
     ]
    },
    {
     "name": "stdout",
     "output_type": "stream",
     "text": [
      "predicted=0.036, expected=0.035\n",
      "predicted=0.035, expected=0.033\n",
      "predicted=0.033, expected=0.034\n",
      "predicted=0.034, expected=0.035\n",
      "predicted=0.035, expected=0.035\n",
      "predicted=0.035, expected=0.035\n",
      "predicted=0.035, expected=0.036\n",
      "predicted=0.036, expected=0.037\n",
      "predicted=0.037, expected=0.036\n",
      "predicted=0.036, expected=0.036\n",
      "predicted=0.036, expected=0.035\n",
      "predicted=0.035, expected=0.035\n",
      "predicted=0.035, expected=0.035\n",
      "predicted=0.035, expected=0.034\n",
      "predicted=0.034, expected=0.035\n"
     ]
    },
    {
     "name": "stderr",
     "output_type": "stream",
     "text": [
      "C:\\Users\\Anirban\\Anaconda3\\lib\\site-packages\\statsmodels\\base\\model.py:508: ConvergenceWarning: Maximum Likelihood optimization failed to converge. Check mle_retvals\n",
      "  \"Check mle_retvals\", ConvergenceWarning)\n"
     ]
    },
    {
     "name": "stdout",
     "output_type": "stream",
     "text": [
      "predicted=0.035, expected=0.036\n",
      "predicted=0.036, expected=0.036\n",
      "predicted=0.036, expected=0.036\n",
      "predicted=0.036, expected=0.036\n",
      "predicted=0.036, expected=0.036\n",
      "predicted=0.036, expected=0.036\n",
      "predicted=0.036, expected=0.036\n"
     ]
    },
    {
     "name": "stderr",
     "output_type": "stream",
     "text": [
      "C:\\Users\\Anirban\\Anaconda3\\lib\\site-packages\\statsmodels\\base\\model.py:508: ConvergenceWarning: Maximum Likelihood optimization failed to converge. Check mle_retvals\n",
      "  \"Check mle_retvals\", ConvergenceWarning)\n"
     ]
    },
    {
     "name": "stdout",
     "output_type": "stream",
     "text": [
      "predicted=0.036, expected=0.036\n",
      "predicted=0.036, expected=0.035\n",
      "predicted=0.035, expected=0.036\n",
      "predicted=0.036, expected=0.036\n",
      "predicted=0.036, expected=0.037\n",
      "predicted=0.037, expected=0.038\n",
      "predicted=0.038, expected=0.037\n",
      "predicted=0.037, expected=0.038\n",
      "predicted=0.038, expected=0.038\n",
      "predicted=0.038, expected=0.037\n",
      "predicted=0.037, expected=0.038\n",
      "predicted=0.038, expected=0.039\n",
      "predicted=0.039, expected=0.038\n",
      "predicted=0.038, expected=0.039\n",
      "predicted=0.039, expected=0.038\n",
      "predicted=0.038, expected=0.038\n",
      "predicted=0.038, expected=0.037\n",
      "predicted=0.037, expected=0.037\n",
      "predicted=0.037, expected=0.039\n",
      "predicted=0.039, expected=0.039\n",
      "predicted=0.039, expected=0.041\n",
      "predicted=0.041, expected=0.041\n",
      "predicted=0.041, expected=0.043\n",
      "predicted=0.043, expected=0.038\n",
      "predicted=0.038, expected=0.038\n",
      "predicted=0.038, expected=0.037\n",
      "predicted=0.037, expected=0.038\n"
     ]
    },
    {
     "name": "stderr",
     "output_type": "stream",
     "text": [
      "C:\\Users\\Anirban\\Anaconda3\\lib\\site-packages\\statsmodels\\base\\model.py:508: ConvergenceWarning: Maximum Likelihood optimization failed to converge. Check mle_retvals\n",
      "  \"Check mle_retvals\", ConvergenceWarning)\n"
     ]
    },
    {
     "name": "stdout",
     "output_type": "stream",
     "text": [
      "predicted=0.038, expected=0.038\n",
      "predicted=0.038, expected=0.037\n",
      "predicted=0.037, expected=0.037\n",
      "predicted=0.037, expected=0.037\n",
      "predicted=0.037, expected=0.036\n",
      "predicted=0.036, expected=0.036\n",
      "predicted=0.036, expected=0.036\n",
      "predicted=0.036, expected=0.035\n",
      "predicted=0.035, expected=0.036\n",
      "predicted=0.036, expected=0.036\n",
      "predicted=0.036, expected=0.036\n",
      "predicted=0.036, expected=0.036\n",
      "predicted=0.036, expected=0.036\n",
      "predicted=0.036, expected=0.036\n",
      "predicted=0.036, expected=0.036\n",
      "predicted=0.036, expected=0.036\n",
      "predicted=0.036, expected=0.036\n",
      "predicted=0.036, expected=0.036\n",
      "predicted=0.036, expected=0.036\n",
      "predicted=0.036, expected=0.036\n",
      "predicted=0.036, expected=0.037\n",
      "predicted=0.037, expected=0.037\n",
      "predicted=0.037, expected=0.037\n",
      "predicted=0.037, expected=0.037\n",
      "predicted=0.037, expected=0.037\n",
      "predicted=0.037, expected=0.037\n",
      "predicted=0.037, expected=0.036\n",
      "predicted=0.036, expected=0.036\n",
      "predicted=0.036, expected=0.036\n",
      "predicted=0.036, expected=0.036\n",
      "predicted=0.036, expected=0.036\n",
      "predicted=0.036, expected=0.037\n",
      "predicted=0.037, expected=0.037\n",
      "predicted=0.037, expected=0.036\n",
      "predicted=0.036, expected=0.036\n",
      "predicted=0.036, expected=0.037\n",
      "predicted=0.037, expected=0.037\n",
      "predicted=0.037, expected=0.037\n",
      "predicted=0.037, expected=0.038\n",
      "predicted=0.038, expected=0.038\n",
      "predicted=0.038, expected=0.038\n"
     ]
    },
    {
     "name": "stderr",
     "output_type": "stream",
     "text": [
      "C:\\Users\\Anirban\\Anaconda3\\lib\\site-packages\\statsmodels\\base\\model.py:508: ConvergenceWarning: Maximum Likelihood optimization failed to converge. Check mle_retvals\n",
      "  \"Check mle_retvals\", ConvergenceWarning)\n"
     ]
    },
    {
     "name": "stdout",
     "output_type": "stream",
     "text": [
      "predicted=0.038, expected=0.039\n",
      "predicted=0.039, expected=0.038\n",
      "predicted=0.038, expected=0.037\n",
      "predicted=0.037, expected=0.036\n",
      "predicted=0.036, expected=0.038\n",
      "predicted=0.038, expected=0.038\n",
      "predicted=0.038, expected=0.038\n",
      "predicted=0.038, expected=0.038\n",
      "predicted=0.038, expected=0.038\n",
      "predicted=0.038, expected=0.038\n",
      "predicted=0.038, expected=0.038\n",
      "predicted=0.038, expected=0.039\n",
      "predicted=0.039, expected=0.039\n",
      "predicted=0.039, expected=0.040\n",
      "predicted=0.040, expected=0.039\n",
      "predicted=0.039, expected=0.038\n",
      "predicted=0.038, expected=0.037\n",
      "predicted=0.037, expected=0.037\n",
      "predicted=0.037, expected=0.036\n",
      "predicted=0.036, expected=0.036\n",
      "predicted=0.036, expected=0.036\n",
      "predicted=0.036, expected=0.036\n",
      "predicted=0.036, expected=0.037\n",
      "predicted=0.037, expected=0.037\n",
      "predicted=0.037, expected=0.037\n",
      "predicted=0.037, expected=0.037\n",
      "predicted=0.037, expected=0.038\n",
      "predicted=0.038, expected=0.037\n",
      "predicted=0.037, expected=0.037\n",
      "predicted=0.037, expected=0.037\n",
      "predicted=0.037, expected=0.037\n",
      "predicted=0.037, expected=0.037\n",
      "predicted=0.037, expected=0.037\n",
      "predicted=0.037, expected=0.036\n",
      "predicted=0.036, expected=0.036\n",
      "predicted=0.036, expected=0.036\n",
      "predicted=0.036, expected=0.036\n",
      "predicted=0.036, expected=0.035\n",
      "predicted=0.035, expected=0.034\n",
      "predicted=0.034, expected=0.034\n",
      "predicted=0.034, expected=0.033\n",
      "predicted=0.033, expected=0.034\n",
      "predicted=0.034, expected=0.034\n",
      "predicted=0.034, expected=0.032\n",
      "predicted=0.032, expected=0.031\n",
      "predicted=0.031, expected=0.030\n",
      "predicted=0.030, expected=0.031\n",
      "predicted=0.031, expected=0.031\n",
      "predicted=0.031, expected=0.030\n",
      "predicted=0.030, expected=0.030\n",
      "predicted=0.030, expected=0.030\n",
      "predicted=0.030, expected=0.030\n",
      "predicted=0.030, expected=0.029\n",
      "predicted=0.029, expected=0.030\n",
      "predicted=0.030, expected=0.030\n",
      "predicted=0.030, expected=0.029\n",
      "predicted=0.029, expected=0.029\n",
      "predicted=0.029, expected=0.030\n",
      "predicted=0.030, expected=0.030\n",
      "predicted=0.030, expected=0.030\n",
      "predicted=0.030, expected=0.030\n",
      "predicted=0.030, expected=0.030\n",
      "predicted=0.030, expected=0.030\n",
      "predicted=0.030, expected=0.030\n",
      "predicted=0.030, expected=0.030\n",
      "predicted=0.030, expected=0.030\n",
      "predicted=0.030, expected=0.029\n",
      "predicted=0.029, expected=0.029\n",
      "predicted=0.029, expected=0.030\n",
      "predicted=0.030, expected=0.030\n",
      "predicted=0.030, expected=0.030\n",
      "predicted=0.030, expected=0.029\n",
      "predicted=0.029, expected=0.029\n",
      "predicted=0.029, expected=0.029\n",
      "predicted=0.029, expected=0.029\n",
      "predicted=0.029, expected=0.029\n",
      "predicted=0.029, expected=0.029\n",
      "predicted=0.029, expected=0.030\n",
      "predicted=0.030, expected=0.031\n",
      "predicted=0.031, expected=0.031\n",
      "predicted=0.031, expected=0.032\n",
      "predicted=0.032, expected=0.030\n",
      "predicted=0.030, expected=0.030\n",
      "predicted=0.030, expected=0.029\n",
      "predicted=0.029, expected=0.028\n",
      "predicted=0.028, expected=0.028\n",
      "predicted=0.028, expected=0.028\n",
      "predicted=0.028, expected=0.028\n",
      "predicted=0.028, expected=0.027\n"
     ]
    },
    {
     "name": "stderr",
     "output_type": "stream",
     "text": [
      "C:\\Users\\Anirban\\Anaconda3\\lib\\site-packages\\statsmodels\\base\\model.py:508: ConvergenceWarning: Maximum Likelihood optimization failed to converge. Check mle_retvals\n",
      "  \"Check mle_retvals\", ConvergenceWarning)\n"
     ]
    },
    {
     "name": "stdout",
     "output_type": "stream",
     "text": [
      "predicted=0.027, expected=0.026\n",
      "predicted=0.026, expected=0.027\n",
      "predicted=0.027, expected=0.027\n",
      "predicted=0.027, expected=0.027\n",
      "predicted=0.027, expected=0.026\n",
      "predicted=0.026, expected=0.026\n",
      "predicted=0.026, expected=0.026\n",
      "predicted=0.026, expected=0.026\n",
      "predicted=0.026, expected=0.026\n",
      "predicted=0.026, expected=0.025\n",
      "predicted=0.025, expected=0.025\n",
      "predicted=0.025, expected=0.026\n",
      "predicted=0.026, expected=0.026\n",
      "predicted=0.026, expected=0.026\n",
      "predicted=0.026, expected=0.027\n",
      "predicted=0.027, expected=0.028\n",
      "predicted=0.028, expected=0.028\n",
      "predicted=0.028, expected=0.028\n",
      "predicted=0.028, expected=0.028\n"
     ]
    },
    {
     "name": "stderr",
     "output_type": "stream",
     "text": [
      "C:\\Users\\Anirban\\Anaconda3\\lib\\site-packages\\statsmodels\\base\\model.py:508: ConvergenceWarning: Maximum Likelihood optimization failed to converge. Check mle_retvals\n",
      "  \"Check mle_retvals\", ConvergenceWarning)\n"
     ]
    },
    {
     "name": "stdout",
     "output_type": "stream",
     "text": [
      "predicted=0.028, expected=0.028\n",
      "predicted=0.028, expected=0.028\n",
      "predicted=0.028, expected=0.027\n",
      "predicted=0.027, expected=0.027\n",
      "predicted=0.027, expected=0.027\n"
     ]
    },
    {
     "name": "stderr",
     "output_type": "stream",
     "text": [
      "C:\\Users\\Anirban\\Anaconda3\\lib\\site-packages\\statsmodels\\base\\model.py:508: ConvergenceWarning: Maximum Likelihood optimization failed to converge. Check mle_retvals\n",
      "  \"Check mle_retvals\", ConvergenceWarning)\n"
     ]
    },
    {
     "name": "stdout",
     "output_type": "stream",
     "text": [
      "predicted=0.027, expected=0.027\n",
      "predicted=0.027, expected=0.027\n",
      "predicted=0.027, expected=0.027\n",
      "predicted=0.027, expected=0.028\n",
      "predicted=0.028, expected=0.028\n",
      "predicted=0.028, expected=0.028\n",
      "predicted=0.028, expected=0.028\n",
      "predicted=0.028, expected=0.028\n",
      "predicted=0.028, expected=0.028\n",
      "predicted=0.028, expected=0.028\n",
      "predicted=0.028, expected=0.028\n",
      "predicted=0.028, expected=0.027\n",
      "predicted=0.027, expected=0.027\n",
      "predicted=0.027, expected=0.028\n",
      "predicted=0.028, expected=0.029\n",
      "predicted=0.029, expected=0.029\n",
      "predicted=0.029, expected=0.029\n"
     ]
    },
    {
     "name": "stderr",
     "output_type": "stream",
     "text": [
      "C:\\Users\\Anirban\\Anaconda3\\lib\\site-packages\\statsmodels\\base\\model.py:508: ConvergenceWarning: Maximum Likelihood optimization failed to converge. Check mle_retvals\n",
      "  \"Check mle_retvals\", ConvergenceWarning)\n"
     ]
    },
    {
     "name": "stdout",
     "output_type": "stream",
     "text": [
      "predicted=0.029, expected=0.029\n",
      "predicted=0.029, expected=0.028\n",
      "predicted=0.028, expected=0.029\n",
      "predicted=0.029, expected=0.030\n",
      "predicted=0.030, expected=0.029\n",
      "predicted=0.029, expected=0.029\n",
      "predicted=0.029, expected=0.029\n",
      "predicted=0.029, expected=0.029\n",
      "predicted=0.029, expected=0.030\n",
      "predicted=0.030, expected=0.030\n",
      "predicted=0.030, expected=0.030\n",
      "predicted=0.030, expected=0.030\n",
      "predicted=0.030, expected=0.030\n",
      "predicted=0.030, expected=0.029\n",
      "predicted=0.029, expected=0.029\n",
      "predicted=0.029, expected=0.030\n",
      "predicted=0.030, expected=0.030\n",
      "predicted=0.030, expected=0.029\n",
      "predicted=0.029, expected=0.028\n",
      "predicted=0.028, expected=0.028\n",
      "predicted=0.028, expected=0.027\n",
      "predicted=0.027, expected=0.027\n",
      "predicted=0.027, expected=0.027\n",
      "predicted=0.027, expected=0.027\n",
      "predicted=0.027, expected=0.028\n",
      "predicted=0.028, expected=0.027\n",
      "predicted=0.027, expected=0.028\n",
      "predicted=0.028, expected=0.028\n",
      "predicted=0.028, expected=0.028\n",
      "predicted=0.028, expected=0.029\n",
      "predicted=0.029, expected=0.029\n",
      "predicted=0.029, expected=0.029\n",
      "predicted=0.029, expected=0.030\n",
      "predicted=0.030, expected=0.029\n",
      "predicted=0.029, expected=0.029\n",
      "predicted=0.029, expected=0.029\n",
      "predicted=0.029, expected=0.029\n",
      "predicted=0.029, expected=0.030\n",
      "predicted=0.030, expected=0.031\n",
      "predicted=0.031, expected=0.031\n",
      "predicted=0.031, expected=0.031\n",
      "predicted=0.031, expected=0.031\n",
      "predicted=0.031, expected=0.031\n",
      "predicted=0.031, expected=0.031\n",
      "predicted=0.031, expected=0.031\n",
      "predicted=0.031, expected=0.031\n",
      "predicted=0.031, expected=0.030\n",
      "predicted=0.030, expected=0.030\n",
      "predicted=0.030, expected=0.032\n",
      "predicted=0.032, expected=0.031\n"
     ]
    },
    {
     "name": "stderr",
     "output_type": "stream",
     "text": [
      "C:\\Users\\Anirban\\Anaconda3\\lib\\site-packages\\statsmodels\\base\\model.py:508: ConvergenceWarning: Maximum Likelihood optimization failed to converge. Check mle_retvals\n",
      "  \"Check mle_retvals\", ConvergenceWarning)\n"
     ]
    },
    {
     "name": "stdout",
     "output_type": "stream",
     "text": [
      "predicted=0.031, expected=0.032\n"
     ]
    },
    {
     "name": "stderr",
     "output_type": "stream",
     "text": [
      "C:\\Users\\Anirban\\Anaconda3\\lib\\site-packages\\statsmodels\\base\\model.py:508: ConvergenceWarning: Maximum Likelihood optimization failed to converge. Check mle_retvals\n",
      "  \"Check mle_retvals\", ConvergenceWarning)\n"
     ]
    },
    {
     "name": "stdout",
     "output_type": "stream",
     "text": [
      "predicted=0.032, expected=0.032\n",
      "predicted=0.032, expected=0.031\n",
      "predicted=0.031, expected=0.032\n",
      "predicted=0.032, expected=0.032\n",
      "predicted=0.032, expected=0.033\n",
      "predicted=0.033, expected=0.033\n",
      "predicted=0.033, expected=0.032\n",
      "predicted=0.032, expected=0.033\n",
      "predicted=0.033, expected=0.033\n"
     ]
    },
    {
     "name": "stderr",
     "output_type": "stream",
     "text": [
      "C:\\Users\\Anirban\\Anaconda3\\lib\\site-packages\\statsmodels\\base\\model.py:508: ConvergenceWarning: Maximum Likelihood optimization failed to converge. Check mle_retvals\n",
      "  \"Check mle_retvals\", ConvergenceWarning)\n"
     ]
    },
    {
     "name": "stdout",
     "output_type": "stream",
     "text": [
      "predicted=0.033, expected=0.033\n"
     ]
    },
    {
     "name": "stderr",
     "output_type": "stream",
     "text": [
      "C:\\Users\\Anirban\\Anaconda3\\lib\\site-packages\\statsmodels\\base\\model.py:508: ConvergenceWarning: Maximum Likelihood optimization failed to converge. Check mle_retvals\n",
      "  \"Check mle_retvals\", ConvergenceWarning)\n"
     ]
    },
    {
     "name": "stdout",
     "output_type": "stream",
     "text": [
      "predicted=0.033, expected=0.033\n",
      "predicted=0.033, expected=0.033\n",
      "predicted=0.033, expected=0.033\n",
      "predicted=0.033, expected=0.033\n",
      "predicted=0.033, expected=0.033\n"
     ]
    },
    {
     "name": "stderr",
     "output_type": "stream",
     "text": [
      "C:\\Users\\Anirban\\Anaconda3\\lib\\site-packages\\statsmodels\\base\\model.py:508: ConvergenceWarning: Maximum Likelihood optimization failed to converge. Check mle_retvals\n",
      "  \"Check mle_retvals\", ConvergenceWarning)\n"
     ]
    },
    {
     "name": "stdout",
     "output_type": "stream",
     "text": [
      "predicted=0.033, expected=0.032\n",
      "predicted=0.032, expected=0.033\n",
      "predicted=0.033, expected=0.032\n",
      "predicted=0.032, expected=0.031\n",
      "predicted=0.031, expected=0.031\n",
      "predicted=0.031, expected=0.031\n",
      "predicted=0.031, expected=0.032\n",
      "predicted=0.032, expected=0.032\n",
      "predicted=0.032, expected=0.031\n",
      "predicted=0.031, expected=0.031\n",
      "predicted=0.031, expected=0.031\n",
      "predicted=0.031, expected=0.031\n",
      "predicted=0.031, expected=0.031\n",
      "predicted=0.031, expected=0.031\n",
      "predicted=0.031, expected=0.031\n",
      "predicted=0.031, expected=0.031\n",
      "predicted=0.031, expected=0.032\n",
      "predicted=0.032, expected=0.032\n",
      "predicted=0.032, expected=0.032\n"
     ]
    },
    {
     "name": "stderr",
     "output_type": "stream",
     "text": [
      "C:\\Users\\Anirban\\Anaconda3\\lib\\site-packages\\statsmodels\\base\\model.py:508: ConvergenceWarning: Maximum Likelihood optimization failed to converge. Check mle_retvals\n",
      "  \"Check mle_retvals\", ConvergenceWarning)\n"
     ]
    },
    {
     "name": "stdout",
     "output_type": "stream",
     "text": [
      "predicted=0.032, expected=0.033\n",
      "predicted=0.033, expected=0.032\n",
      "predicted=0.032, expected=0.032\n",
      "predicted=0.032, expected=0.033\n",
      "predicted=0.033, expected=0.032\n"
     ]
    },
    {
     "name": "stderr",
     "output_type": "stream",
     "text": [
      "C:\\Users\\Anirban\\Anaconda3\\lib\\site-packages\\statsmodels\\base\\model.py:508: ConvergenceWarning: Maximum Likelihood optimization failed to converge. Check mle_retvals\n",
      "  \"Check mle_retvals\", ConvergenceWarning)\n"
     ]
    },
    {
     "name": "stdout",
     "output_type": "stream",
     "text": [
      "predicted=0.032, expected=0.033\n",
      "predicted=0.033, expected=0.032\n",
      "predicted=0.032, expected=0.034\n",
      "predicted=0.034, expected=0.034\n",
      "predicted=0.034, expected=0.034\n",
      "predicted=0.034, expected=0.034\n",
      "predicted=0.034, expected=0.034\n",
      "predicted=0.034, expected=0.035\n",
      "predicted=0.035, expected=0.036\n",
      "predicted=0.036, expected=0.035\n",
      "predicted=0.035, expected=0.036\n",
      "predicted=0.036, expected=0.036\n",
      "predicted=0.036, expected=0.036\n",
      "predicted=0.036, expected=0.037\n",
      "predicted=0.037, expected=0.038\n",
      "predicted=0.038, expected=0.038\n",
      "predicted=0.038, expected=0.037\n",
      "predicted=0.037, expected=0.037\n",
      "predicted=0.037, expected=0.036\n",
      "predicted=0.036, expected=0.035\n",
      "predicted=0.035, expected=0.006\n",
      "predicted=0.006, expected=0.006\n",
      "predicted=0.006, expected=0.006\n",
      "predicted=0.006, expected=0.006\n",
      "predicted=0.006, expected=0.006\n",
      "predicted=0.006, expected=0.006\n",
      "predicted=0.006, expected=0.006\n",
      "predicted=0.006, expected=0.006\n",
      "predicted=0.006, expected=0.006\n"
     ]
    },
    {
     "name": "stderr",
     "output_type": "stream",
     "text": [
      "C:\\Users\\Anirban\\Anaconda3\\lib\\site-packages\\statsmodels\\base\\model.py:508: ConvergenceWarning: Maximum Likelihood optimization failed to converge. Check mle_retvals\n",
      "  \"Check mle_retvals\", ConvergenceWarning)\n"
     ]
    },
    {
     "name": "stdout",
     "output_type": "stream",
     "text": [
      "predicted=0.006, expected=0.006\n",
      "predicted=0.006, expected=0.006\n",
      "predicted=0.006, expected=0.006\n",
      "predicted=0.006, expected=0.006\n",
      "predicted=0.006, expected=0.006\n",
      "predicted=0.006, expected=0.006\n",
      "predicted=0.006, expected=0.006\n",
      "predicted=0.006, expected=0.006\n",
      "predicted=0.006, expected=0.006\n"
     ]
    },
    {
     "name": "stderr",
     "output_type": "stream",
     "text": [
      "C:\\Users\\Anirban\\Anaconda3\\lib\\site-packages\\statsmodels\\base\\model.py:508: ConvergenceWarning: Maximum Likelihood optimization failed to converge. Check mle_retvals\n",
      "  \"Check mle_retvals\", ConvergenceWarning)\n"
     ]
    },
    {
     "name": "stdout",
     "output_type": "stream",
     "text": [
      "predicted=0.006, expected=0.007\n",
      "predicted=0.007, expected=0.007\n",
      "predicted=0.007, expected=0.007\n",
      "predicted=0.007, expected=0.007\n",
      "predicted=0.007, expected=0.006\n",
      "predicted=0.006, expected=0.007\n",
      "predicted=0.007, expected=0.007\n",
      "predicted=0.007, expected=0.008\n",
      "predicted=0.008, expected=0.007\n",
      "predicted=0.007, expected=0.009\n",
      "predicted=0.009, expected=0.010\n",
      "predicted=0.010, expected=0.009\n",
      "predicted=0.009, expected=0.009\n",
      "predicted=0.009, expected=0.010\n",
      "predicted=0.010, expected=0.009\n",
      "predicted=0.009, expected=0.009\n",
      "predicted=0.009, expected=0.010\n",
      "predicted=0.010, expected=0.010\n",
      "predicted=0.010, expected=0.009\n",
      "predicted=0.009, expected=0.009\n",
      "predicted=0.009, expected=0.009\n",
      "predicted=0.009, expected=0.009\n",
      "predicted=0.009, expected=0.009\n",
      "predicted=0.009, expected=0.009\n",
      "predicted=0.009, expected=0.009\n",
      "predicted=0.009, expected=0.009\n",
      "predicted=0.009, expected=0.009\n",
      "predicted=0.009, expected=0.009\n",
      "predicted=0.009, expected=0.009\n",
      "predicted=0.009, expected=0.009\n",
      "predicted=0.009, expected=0.010\n",
      "predicted=0.010, expected=0.010\n",
      "predicted=0.010, expected=0.009\n",
      "predicted=0.009, expected=0.010\n",
      "predicted=0.010, expected=0.010\n",
      "predicted=0.010, expected=0.010\n",
      "predicted=0.010, expected=0.010\n",
      "predicted=0.010, expected=0.010\n",
      "predicted=0.010, expected=0.010\n",
      "predicted=0.010, expected=0.010\n",
      "predicted=0.010, expected=0.010\n",
      "predicted=0.010, expected=0.010\n",
      "predicted=0.010, expected=0.011\n",
      "predicted=0.011, expected=0.011\n",
      "predicted=0.011, expected=0.010\n",
      "predicted=0.010, expected=0.010\n",
      "predicted=0.010, expected=0.009\n",
      "predicted=0.009, expected=0.009\n"
     ]
    },
    {
     "name": "stderr",
     "output_type": "stream",
     "text": [
      "C:\\Users\\Anirban\\Anaconda3\\lib\\site-packages\\statsmodels\\base\\model.py:508: ConvergenceWarning: Maximum Likelihood optimization failed to converge. Check mle_retvals\n",
      "  \"Check mle_retvals\", ConvergenceWarning)\n"
     ]
    },
    {
     "name": "stdout",
     "output_type": "stream",
     "text": [
      "predicted=0.009, expected=0.009\n",
      "predicted=0.009, expected=0.009\n",
      "predicted=0.009, expected=0.010\n",
      "predicted=0.010, expected=0.010\n",
      "predicted=0.010, expected=0.010\n",
      "predicted=0.010, expected=0.010\n",
      "predicted=0.010, expected=0.010\n",
      "predicted=0.010, expected=0.009\n",
      "predicted=0.009, expected=0.009\n",
      "predicted=0.009, expected=0.009\n",
      "predicted=0.009, expected=0.009\n",
      "predicted=0.009, expected=0.009\n",
      "predicted=0.009, expected=0.009\n",
      "predicted=0.009, expected=0.009\n",
      "predicted=0.009, expected=0.009\n",
      "predicted=0.009, expected=0.009\n",
      "predicted=0.009, expected=0.010\n",
      "predicted=0.010, expected=0.010\n",
      "predicted=0.010, expected=0.010\n",
      "predicted=0.010, expected=0.010\n",
      "predicted=0.009, expected=0.009\n",
      "predicted=0.009, expected=0.010\n",
      "predicted=0.010, expected=0.010\n",
      "predicted=0.010, expected=0.010\n",
      "predicted=0.010, expected=0.010\n",
      "predicted=0.010, expected=0.010\n",
      "predicted=0.010, expected=0.011\n",
      "predicted=0.011, expected=0.010\n",
      "predicted=0.010, expected=0.010\n",
      "predicted=0.010, expected=0.010\n",
      "predicted=0.010, expected=0.010\n",
      "predicted=0.010, expected=0.010\n",
      "predicted=0.010, expected=0.010\n",
      "predicted=0.010, expected=0.011\n",
      "predicted=0.011, expected=0.011\n",
      "predicted=0.011, expected=0.011\n",
      "predicted=0.011, expected=0.011\n",
      "predicted=0.011, expected=0.011\n",
      "predicted=0.011, expected=0.010\n",
      "predicted=0.010, expected=0.010\n",
      "predicted=0.010, expected=0.010\n",
      "predicted=0.010, expected=0.010\n",
      "predicted=0.010, expected=0.010\n",
      "predicted=0.010, expected=0.010\n",
      "predicted=0.010, expected=0.010\n",
      "predicted=0.010, expected=0.010\n",
      "predicted=0.010, expected=0.010\n",
      "predicted=0.010, expected=0.010\n",
      "predicted=0.010, expected=0.010\n",
      "predicted=0.010, expected=0.010\n",
      "predicted=0.010, expected=0.010\n",
      "predicted=0.010, expected=0.010\n",
      "predicted=0.010, expected=0.009\n",
      "predicted=0.009, expected=0.010\n",
      "predicted=0.009, expected=0.009\n",
      "predicted=0.009, expected=0.009\n",
      "predicted=0.009, expected=0.009\n",
      "predicted=0.009, expected=0.009\n",
      "predicted=0.009, expected=0.009\n",
      "predicted=0.009, expected=0.009\n",
      "predicted=0.009, expected=0.009\n",
      "predicted=0.009, expected=0.009\n",
      "predicted=0.009, expected=0.009\n",
      "predicted=0.009, expected=0.010\n",
      "predicted=0.010, expected=0.010\n",
      "predicted=0.010, expected=0.010\n",
      "predicted=0.010, expected=0.010\n",
      "predicted=0.010, expected=0.011\n",
      "predicted=0.011, expected=0.011\n"
     ]
    },
    {
     "name": "stderr",
     "output_type": "stream",
     "text": [
      "C:\\Users\\Anirban\\Anaconda3\\lib\\site-packages\\statsmodels\\base\\model.py:508: ConvergenceWarning: Maximum Likelihood optimization failed to converge. Check mle_retvals\n",
      "  \"Check mle_retvals\", ConvergenceWarning)\n"
     ]
    },
    {
     "name": "stdout",
     "output_type": "stream",
     "text": [
      "predicted=0.011, expected=0.011\n",
      "predicted=0.011, expected=0.011\n",
      "predicted=0.011, expected=0.012\n",
      "predicted=0.012, expected=0.012\n",
      "predicted=0.012, expected=0.013\n",
      "predicted=0.013, expected=0.012\n",
      "predicted=0.012, expected=0.012\n",
      "predicted=0.012, expected=0.012\n",
      "predicted=0.012, expected=0.012\n",
      "predicted=0.012, expected=0.012\n",
      "predicted=0.012, expected=0.013\n",
      "predicted=0.013, expected=0.013\n",
      "predicted=0.013, expected=0.013\n",
      "predicted=0.013, expected=0.012\n",
      "predicted=0.012, expected=0.014\n",
      "predicted=0.014, expected=0.013\n",
      "predicted=0.013, expected=0.013\n",
      "predicted=0.013, expected=0.014\n",
      "predicted=0.014, expected=0.013\n",
      "predicted=0.013, expected=0.012\n",
      "predicted=0.012, expected=0.012\n",
      "predicted=0.012, expected=0.012\n",
      "predicted=0.012, expected=0.012\n",
      "predicted=0.012, expected=0.011\n",
      "predicted=0.011, expected=0.011\n",
      "predicted=0.011, expected=0.011\n",
      "predicted=0.011, expected=0.011\n",
      "predicted=0.011, expected=0.010\n",
      "predicted=0.010, expected=0.010\n",
      "predicted=0.010, expected=0.009\n",
      "predicted=0.009, expected=0.009\n",
      "predicted=0.009, expected=0.009\n",
      "predicted=0.009, expected=0.009\n",
      "predicted=0.009, expected=0.010\n",
      "predicted=0.010, expected=0.010\n"
     ]
    },
    {
     "name": "stderr",
     "output_type": "stream",
     "text": [
      "C:\\Users\\Anirban\\Anaconda3\\lib\\site-packages\\statsmodels\\base\\model.py:508: ConvergenceWarning: Maximum Likelihood optimization failed to converge. Check mle_retvals\n",
      "  \"Check mle_retvals\", ConvergenceWarning)\n"
     ]
    },
    {
     "name": "stdout",
     "output_type": "stream",
     "text": [
      "predicted=0.010, expected=0.010\n",
      "predicted=0.010, expected=0.010\n",
      "predicted=0.009, expected=0.010\n",
      "predicted=0.010, expected=0.010\n",
      "predicted=0.010, expected=0.010\n",
      "predicted=0.010, expected=0.010\n",
      "predicted=0.010, expected=0.010\n",
      "predicted=0.010, expected=0.010\n",
      "predicted=0.010, expected=0.010\n",
      "predicted=0.010, expected=0.010\n",
      "predicted=0.010, expected=0.010\n",
      "predicted=0.010, expected=0.009\n",
      "predicted=0.009, expected=0.009\n",
      "predicted=0.009, expected=0.009\n",
      "predicted=0.009, expected=0.009\n",
      "predicted=0.009, expected=0.010\n",
      "predicted=0.010, expected=0.010\n",
      "predicted=0.010, expected=0.010\n",
      "predicted=0.010, expected=0.010\n",
      "predicted=0.010, expected=0.010\n",
      "predicted=0.010, expected=0.009\n",
      "predicted=0.009, expected=0.010\n",
      "predicted=0.010, expected=0.010\n",
      "predicted=0.010, expected=0.009\n",
      "predicted=0.009, expected=0.009\n",
      "predicted=0.009, expected=0.008\n",
      "predicted=0.008, expected=0.008\n",
      "predicted=0.008, expected=0.009\n",
      "predicted=0.009, expected=0.009\n",
      "predicted=0.009, expected=0.009\n",
      "predicted=0.009, expected=0.009\n",
      "predicted=0.009, expected=0.009\n",
      "predicted=0.009, expected=0.009\n",
      "predicted=0.009, expected=0.009\n",
      "predicted=0.009, expected=0.009\n",
      "predicted=0.009, expected=0.009\n",
      "predicted=0.009, expected=0.009\n",
      "predicted=0.009, expected=0.010\n",
      "predicted=0.010, expected=0.009\n",
      "predicted=0.009, expected=0.009\n",
      "predicted=0.009, expected=0.010\n",
      "predicted=0.010, expected=0.010\n",
      "predicted=0.010, expected=0.010\n",
      "predicted=0.010, expected=0.010\n",
      "predicted=0.010, expected=0.009\n",
      "predicted=0.009, expected=0.009\n",
      "predicted=0.009, expected=0.009\n",
      "predicted=0.009, expected=0.008\n",
      "predicted=0.008, expected=0.008\n",
      "predicted=0.008, expected=0.008\n",
      "predicted=0.008, expected=0.007\n",
      "predicted=0.007, expected=0.007\n",
      "predicted=0.007, expected=0.008\n",
      "predicted=0.008, expected=0.008\n",
      "predicted=0.008, expected=0.007\n",
      "predicted=0.007, expected=0.007\n",
      "predicted=0.007, expected=0.008\n",
      "predicted=0.008, expected=0.008\n",
      "predicted=0.008, expected=0.007\n",
      "predicted=0.007, expected=0.008\n",
      "predicted=0.008, expected=0.008\n",
      "predicted=0.008, expected=0.007\n",
      "predicted=0.007, expected=0.007\n",
      "predicted=0.007, expected=0.007\n",
      "predicted=0.007, expected=0.007\n",
      "predicted=0.007, expected=0.007\n",
      "predicted=0.007, expected=0.007\n",
      "predicted=0.007, expected=0.007\n",
      "predicted=0.007, expected=0.007\n",
      "predicted=0.007, expected=0.006\n",
      "predicted=0.006, expected=0.007\n",
      "predicted=0.007, expected=0.006\n",
      "predicted=0.006, expected=0.006\n",
      "predicted=0.006, expected=0.006\n",
      "predicted=0.006, expected=0.006\n",
      "predicted=0.006, expected=0.007\n",
      "predicted=0.007, expected=0.007\n",
      "predicted=0.007, expected=0.007\n",
      "predicted=0.007, expected=0.007\n",
      "predicted=0.007, expected=0.007\n"
     ]
    },
    {
     "name": "stderr",
     "output_type": "stream",
     "text": [
      "C:\\Users\\Anirban\\Anaconda3\\lib\\site-packages\\statsmodels\\base\\model.py:508: ConvergenceWarning: Maximum Likelihood optimization failed to converge. Check mle_retvals\n",
      "  \"Check mle_retvals\", ConvergenceWarning)\n"
     ]
    },
    {
     "name": "stdout",
     "output_type": "stream",
     "text": [
      "predicted=0.007, expected=0.007\n",
      "predicted=0.007, expected=0.007\n",
      "predicted=0.007, expected=0.007\n",
      "predicted=0.007, expected=0.006\n",
      "predicted=0.006, expected=0.006\n",
      "predicted=0.006, expected=0.006\n",
      "predicted=0.006, expected=0.006\n",
      "predicted=0.006, expected=0.006\n",
      "predicted=0.006, expected=0.006\n",
      "predicted=0.006, expected=0.006\n",
      "predicted=0.006, expected=0.006\n",
      "predicted=0.006, expected=0.006\n",
      "predicted=0.006, expected=0.006\n",
      "predicted=0.006, expected=0.006\n",
      "predicted=0.006, expected=0.007\n",
      "predicted=0.007, expected=0.007\n",
      "predicted=0.007, expected=0.007\n",
      "predicted=0.007, expected=0.007\n",
      "predicted=0.007, expected=0.007\n",
      "predicted=0.007, expected=0.008\n",
      "predicted=0.008, expected=0.008\n",
      "predicted=0.008, expected=0.009\n",
      "predicted=0.009, expected=0.009\n",
      "predicted=0.009, expected=0.009\n",
      "predicted=0.009, expected=0.009\n",
      "predicted=0.009, expected=0.009\n",
      "predicted=0.009, expected=0.009\n",
      "predicted=0.009, expected=0.008\n",
      "predicted=0.008, expected=0.008\n",
      "predicted=0.008, expected=0.008\n",
      "predicted=0.008, expected=0.008\n",
      "predicted=0.008, expected=0.008\n",
      "predicted=0.008, expected=0.008\n"
     ]
    },
    {
     "name": "stderr",
     "output_type": "stream",
     "text": [
      "C:\\Users\\Anirban\\Anaconda3\\lib\\site-packages\\statsmodels\\base\\model.py:508: ConvergenceWarning: Maximum Likelihood optimization failed to converge. Check mle_retvals\n",
      "  \"Check mle_retvals\", ConvergenceWarning)\n"
     ]
    },
    {
     "name": "stdout",
     "output_type": "stream",
     "text": [
      "predicted=0.008, expected=0.008\n",
      "predicted=0.008, expected=0.008\n",
      "predicted=0.008, expected=0.008\n",
      "predicted=0.008, expected=0.008\n",
      "predicted=0.008, expected=0.008\n",
      "predicted=0.008, expected=0.008\n",
      "predicted=0.008, expected=0.008\n",
      "predicted=0.008, expected=0.008\n",
      "predicted=0.008, expected=0.008\n",
      "predicted=0.008, expected=0.009\n",
      "predicted=0.009, expected=0.009\n",
      "predicted=0.009, expected=0.008\n",
      "predicted=0.008, expected=0.008\n",
      "predicted=0.008, expected=0.009\n",
      "predicted=0.009, expected=0.009\n",
      "predicted=0.009, expected=0.009\n",
      "predicted=0.009, expected=0.010\n",
      "predicted=0.010, expected=0.010\n",
      "predicted=0.010, expected=0.010\n",
      "predicted=0.010, expected=0.010\n",
      "predicted=0.010, expected=0.010\n",
      "predicted=0.010, expected=0.011\n",
      "predicted=0.011, expected=0.012\n",
      "predicted=0.012, expected=0.012\n",
      "predicted=0.012, expected=0.012\n",
      "predicted=0.012, expected=0.013\n",
      "predicted=0.013, expected=0.013\n",
      "predicted=0.013, expected=0.013\n",
      "predicted=0.013, expected=0.013\n",
      "predicted=0.013, expected=0.014\n",
      "predicted=0.014, expected=0.014\n",
      "predicted=0.014, expected=0.014\n",
      "predicted=0.014, expected=0.014\n",
      "predicted=0.014, expected=0.014\n",
      "predicted=0.014, expected=0.015\n",
      "predicted=0.015, expected=0.014\n",
      "predicted=0.014, expected=0.014\n"
     ]
    },
    {
     "name": "stderr",
     "output_type": "stream",
     "text": [
      "C:\\Users\\Anirban\\Anaconda3\\lib\\site-packages\\statsmodels\\base\\model.py:508: ConvergenceWarning: Maximum Likelihood optimization failed to converge. Check mle_retvals\n",
      "  \"Check mle_retvals\", ConvergenceWarning)\n"
     ]
    },
    {
     "name": "stdout",
     "output_type": "stream",
     "text": [
      "predicted=0.014, expected=0.013\n",
      "predicted=0.013, expected=0.013\n",
      "predicted=0.013, expected=0.013\n",
      "predicted=0.013, expected=0.014\n",
      "predicted=0.014, expected=0.014\n",
      "predicted=0.014, expected=0.013\n",
      "predicted=0.013, expected=0.013\n",
      "predicted=0.013, expected=0.013\n",
      "predicted=0.013, expected=0.013\n"
     ]
    },
    {
     "name": "stderr",
     "output_type": "stream",
     "text": [
      "C:\\Users\\Anirban\\Anaconda3\\lib\\site-packages\\statsmodels\\base\\model.py:508: ConvergenceWarning: Maximum Likelihood optimization failed to converge. Check mle_retvals\n",
      "  \"Check mle_retvals\", ConvergenceWarning)\n"
     ]
    },
    {
     "name": "stdout",
     "output_type": "stream",
     "text": [
      "predicted=0.013, expected=0.012\n",
      "predicted=0.012, expected=0.012\n",
      "predicted=0.012, expected=0.012\n",
      "predicted=0.012, expected=0.013\n",
      "predicted=0.013, expected=0.013\n",
      "predicted=0.013, expected=0.013\n",
      "predicted=0.013, expected=0.013\n",
      "predicted=0.013, expected=0.013\n",
      "predicted=0.013, expected=0.012\n",
      "predicted=0.012, expected=0.012\n",
      "predicted=0.012, expected=0.013\n",
      "predicted=0.013, expected=0.013\n",
      "predicted=0.013, expected=0.014\n",
      "predicted=0.014, expected=0.014\n",
      "predicted=0.014, expected=0.014\n",
      "predicted=0.014, expected=0.014\n",
      "predicted=0.014, expected=0.013\n",
      "predicted=0.013, expected=0.013\n",
      "predicted=0.013, expected=0.013\n",
      "predicted=0.013, expected=0.013\n",
      "predicted=0.013, expected=0.013\n",
      "predicted=0.013, expected=0.013\n",
      "predicted=0.013, expected=0.013\n",
      "predicted=0.013, expected=0.013\n",
      "predicted=0.013, expected=0.013\n",
      "predicted=0.013, expected=0.013\n",
      "predicted=0.013, expected=0.014\n",
      "predicted=0.014, expected=0.013\n",
      "predicted=0.013, expected=0.012\n",
      "predicted=0.012, expected=0.011\n",
      "predicted=0.011, expected=0.013\n",
      "predicted=0.013, expected=0.012\n",
      "predicted=0.012, expected=0.012\n",
      "predicted=0.012, expected=0.012\n",
      "predicted=0.012, expected=0.013\n",
      "predicted=0.013, expected=0.014\n",
      "predicted=0.014, expected=0.014\n",
      "predicted=0.014, expected=0.014\n",
      "predicted=0.014, expected=0.014\n",
      "predicted=0.014, expected=0.014\n",
      "predicted=0.014, expected=0.013\n",
      "predicted=0.013, expected=0.014\n",
      "predicted=0.014, expected=0.014\n",
      "predicted=0.014, expected=0.015\n",
      "predicted=0.015, expected=0.014\n",
      "predicted=0.014, expected=0.015\n",
      "predicted=0.015, expected=0.014\n",
      "predicted=0.014, expected=0.015\n",
      "predicted=0.015, expected=0.014\n",
      "predicted=0.014, expected=0.013\n",
      "predicted=0.013, expected=0.013\n",
      "predicted=0.013, expected=0.013\n",
      "predicted=0.013, expected=0.013\n",
      "predicted=0.013, expected=0.014\n",
      "predicted=0.014, expected=0.014\n",
      "predicted=0.014, expected=0.013\n",
      "predicted=0.013, expected=0.013\n",
      "predicted=0.013, expected=0.013\n",
      "predicted=0.013, expected=0.013\n",
      "predicted=0.013, expected=0.013\n",
      "predicted=0.013, expected=0.013\n",
      "predicted=0.013, expected=0.014\n",
      "predicted=0.014, expected=0.013\n",
      "predicted=0.013, expected=0.014\n",
      "predicted=0.014, expected=0.012\n",
      "predicted=0.012, expected=0.014\n",
      "predicted=0.014, expected=0.015\n",
      "predicted=0.015, expected=0.014\n",
      "predicted=0.014, expected=0.015\n",
      "predicted=0.015, expected=0.015\n",
      "predicted=0.015, expected=0.015\n",
      "predicted=0.015, expected=0.016\n",
      "predicted=0.016, expected=0.016\n",
      "predicted=0.016, expected=0.016\n",
      "predicted=0.016, expected=0.016\n",
      "predicted=0.016, expected=0.017\n",
      "predicted=0.017, expected=0.017\n",
      "predicted=0.017, expected=0.018\n",
      "predicted=0.018, expected=0.018\n",
      "predicted=0.018, expected=0.018\n",
      "predicted=0.018, expected=0.018\n",
      "predicted=0.018, expected=0.018\n",
      "predicted=0.018, expected=0.018\n",
      "predicted=0.018, expected=0.018\n",
      "predicted=0.018, expected=0.018\n",
      "predicted=0.018, expected=0.018\n",
      "predicted=0.018, expected=0.019\n",
      "predicted=0.019, expected=0.019\n",
      "predicted=0.019, expected=0.019\n",
      "predicted=0.019, expected=0.019\n",
      "predicted=0.019, expected=0.018\n",
      "predicted=0.018, expected=0.018\n",
      "predicted=0.018, expected=0.018\n",
      "predicted=0.018, expected=0.019\n",
      "predicted=0.019, expected=0.020\n"
     ]
    }
   ],
   "source": [
    "X = series.values\n",
    "size = int(len(X) * 0.66)\n",
    "train, test = X[0:size], X[size:len(X)]\n",
    "history = [x for x in train]\n",
    "predictions = list()\n",
    "for t in range(len(test)):\n",
    "    model = ARIMA(history, order=(0,1,0))\n",
    "    model_fit = model.fit(disp=0)\n",
    "    output = model_fit.forecast()\n",
    "    yhat = output[0]\n",
    "    predictions.append(yhat)\n",
    "    obs = test[t]\n",
    "    history.append(obs)\n",
    "    print('predicted=%.3f, expected=%.3f' % (yhat, obs))\n"
   ]
  },
  {
   "cell_type": "code",
   "execution_count": 64,
   "metadata": {},
   "outputs": [
    {
     "data": {
      "text/plain": [
       "(1826, 1826)"
      ]
     },
     "execution_count": 64,
     "metadata": {},
     "output_type": "execute_result"
    }
   ],
   "source": [
    "#series.values\n",
    "len(predictions), len(test)"
   ]
  },
  {
   "cell_type": "code",
   "execution_count": 65,
   "metadata": {},
   "outputs": [
    {
     "name": "stdout",
     "output_type": "stream",
     "text": [
      "Test RMSE: 0.000980\n"
     ]
    },
    {
     "data": {
      "image/png": "[encoded data removed]",
      "text/plain": [
       "<Figure size 864x648 with 1 Axes>"
      ]
     },
     "metadata": {},
     "output_type": "display_data"
    }
   ],
   "source": [
    "import math\n",
    "error = mean_squared_error(test, predictions)\n",
    "print('Test RMSE: %f' % math.sqrt(error))\n",
    "# plot\n",
    "plt.figure(figsize=(12,9))\n",
    "plt.plot(test, '-ob')\n",
    "plt.xlabel('date')\n",
    "plt.ylabel('scaled_price')\n",
    "plt.plot(predictions, '*r')\n",
    "plt.show()"
   ]
  },
  {
   "cell_type": "code",
   "execution_count": 66,
   "metadata": {},
   "outputs": [
    {
     "data": {
      "image/png": "[encoded data removed]",
      "text/plain": [
       "<Figure size 720x576 with 1 Axes>"
      ]
     },
     "metadata": {},
     "output_type": "display_data"
    }
   ],
   "source": [
    "plt.figure(figsize=(10,8))\n",
    "plt.grid()\n",
    "plt.plot(series.values, 'b')\n",
    "plt.plot(train, 'k')\n",
    "plt.plot(range(size, len(X)), predictions, '--r')\n",
    "plt.show()"
   ]
  },
  {
   "cell_type": "code",
   "execution_count": 67,
   "metadata": {},
   "outputs": [
    {
     "data": {
      "text/plain": [
       "[<matplotlib.lines.Line2D at 0xd676a20>]"
      ]
     },
     "execution_count": 67,
     "metadata": {},
     "output_type": "execute_result"
    },
    {
     "data": {
      "image/png": "[encoded data removed]",
      "text/plain": [
       "<Figure size 432x288 with 1 Axes>"
      ]
     },
     "metadata": {},
     "output_type": "display_data"
    }
   ],
   "source": [
    "plt.plot(test, '-og')\n",
    "plt.plot(predictions, '+r')"
   ]
  },
  {
   "cell_type": "code",
   "execution_count": 56,
   "metadata": {},
   "outputs": [
    {
     "name": "stderr",
     "output_type": "stream",
     "text": [
      "C:\\Users\\Anirban\\Anaconda3\\lib\\site-packages\\statsmodels\\base\\model.py:508: ConvergenceWarning: Maximum Likelihood optimization failed to converge. Check mle_retvals\n",
      "  \"Check mle_retvals\", ConvergenceWarning)\n"
     ]
    },
    {
     "name": "stdout",
     "output_type": "stream",
     "text": [
      "predicted = [0.01968856], Confidence= [[-0.00169476  0.04107188]]\n"
     ]
    },
    {
     "name": "stderr",
     "output_type": "stream",
     "text": [
      "C:\\Users\\Anirban\\Anaconda3\\lib\\site-packages\\statsmodels\\base\\model.py:508: ConvergenceWarning: Maximum Likelihood optimization failed to converge. Check mle_retvals\n",
      "  \"Check mle_retvals\", ConvergenceWarning)\n"
     ]
    },
    {
     "name": "stdout",
     "output_type": "stream",
     "text": [
      "predicted = [0.01968698], Confidence= [[-0.00169435  0.04106832]]\n",
      "predicted = [0.01968541], Confidence= [[-0.00169393  0.04106475]]\n",
      "predicted = [0.01968383], Confidence= [[-0.00169352  0.04106118]]\n",
      "predicted = [0.01968226], Confidence= [[-0.0016931   0.04105762]]\n",
      "predicted = [0.01968068], Confidence= [[-0.00169269  0.04105405]]\n",
      "predicted = [0.0196791], Confidence= [[-0.00169228  0.04105049]]\n",
      "predicted = [0.01967753], Confidence= [[-0.00169187  0.04104692]]\n",
      "predicted = [0.01967595], Confidence= [[-0.00169145  0.04104336]]\n",
      "predicted = [0.01967438], Confidence= [[-0.00169104  0.04103979]]\n"
     ]
    }
   ],
   "source": [
    "X = series.values\n",
    "history = [i for i in X]\n",
    "predictions = list()\n",
    "for t in range(10):\n",
    "    model = ARIMA(history, order=(0,1,0))\n",
    "    model_fit = model.fit(disp=0)\n",
    "    output = model_fit.forecast()\n",
    "    yhat = output[0]\n",
    "    ci = output[2]\n",
    "    predictions.append(yhat)\n",
    "    history.append(yhat)\n",
    "    print('predicted = {}, Confidence= {}'.format(yhat, ci))"
   ]
  },
  {
   "cell_type": "code",
   "execution_count": 57,
   "metadata": {},
   "outputs": [],
   "source": [
    "#import numpy as np\n",
    "#import matplotlib.pyplot as plt\n",
    "#from hurst import compute_Hc, random_walk"
   ]
  },
  {
   "cell_type": "code",
   "execution_count": 60,
   "metadata": {},
   "outputs": [
    {
     "data": {
      "text/plain": [
       "array([[386.03514999],\n",
       "       [386.02029998],\n",
       "       [386.00544715],\n",
       "       [385.99059439],\n",
       "       [385.97574151],\n",
       "       [385.96088839],\n",
       "       [385.94603442],\n",
       "       [385.93118097],\n",
       "       [385.91632885],\n",
       "       [385.90147884]])"
      ]
     },
     "execution_count": 60,
     "metadata": {},
     "output_type": "execute_result"
    }
   ],
   "source": [
    "mms.inverse_transform(predictions)"
   ]
  },
  {
   "cell_type": "code",
   "execution_count": 59,
   "metadata": {},
   "outputs": [
    {
     "data": {
      "text/plain": [
       "array(['1-January-1998', '2-January-1998', '5-January-1998', ...,\n",
       "       '21-February-2019', '22-February-2019', '25-February-2019'],\n",
       "      dtype=object)"
      ]
     },
     "execution_count": 59,
     "metadata": {},
     "output_type": "execute_result"
    }
   ],
   "source": [
    "#date = np.array(data['Date'])\n",
    "#date = date[::-1]\n",
    "#date"
   ]
  },
  {
   "cell_type": "code",
   "execution_count": 5,
   "metadata": {},
   "outputs": [],
   "source": [
    "#tips = sns.load_dataset('tips')"
   ]
  },
  {
   "cell_type": "code",
   "execution_count": 68,
   "metadata": {},
   "outputs": [],
   "source": [
    "#tips.head()"
   ]
  },
  {
   "cell_type": "code",
   "execution_count": 69,
   "metadata": {},
   "outputs": [],
   "source": [
    "#plt.grid()\n",
    "#ax = sns.scatterplot(x=\"total_bill\", y=\"tip\", data=tips, hue='time')\n",
    "#plt.show()"
   ]
  },
  {
   "cell_type": "code",
   "execution_count": null,
   "metadata": {},
   "outputs": [],
   "source": []
  },
  {
   "cell_type": "code",
   "execution_count": 70,
   "metadata": {},
   "outputs": [],
   "source": [
    "#from sklearn.linear_model import LinearRegression\n",
    "#lr = LinearRegression()"
   ]
  },
  {
   "cell_type": "code",
   "execution_count": 71,
   "metadata": {},
   "outputs": [],
   "source": [
    "#tot_bil = np.array(tips['total_bill'])\n",
    "#tip = np.array(tips['tip'])\n",
    "#lr.fit(tot_bil.reshape(-1,1), tip.reshape(-1,1))"
   ]
  },
  {
   "cell_type": "code",
   "execution_count": 72,
   "metadata": {},
   "outputs": [],
   "source": [
    "#m, c = lr.coef_, lr.intercept_\n",
    "#x = np.array(range(52))"
   ]
  },
  {
   "cell_type": "code",
   "execution_count": 73,
   "metadata": {},
   "outputs": [],
   "source": [
    "#y = 0.10502452*x + 0.92026961\n",
    "#y"
   ]
  },
  {
   "cell_type": "code",
   "execution_count": 74,
   "metadata": {},
   "outputs": [],
   "source": [
    "#plt.plot(tips['total_bill'], tips['tip'], '*')\n",
    "#plt.plot(y, '-r')\n",
    "#plt.show()"
   ]
  },
  {
   "cell_type": "code",
   "execution_count": 75,
   "metadata": {},
   "outputs": [],
   "source": [
    "#plt.plot(y, '-r')"
   ]
  },
  {
   "cell_type": "code",
   "execution_count": 76,
   "metadata": {},
   "outputs": [],
   "source": [
    "#sns.__version__"
   ]
  },
  {
   "cell_type": "code",
   "execution_count": null,
   "metadata": {},
   "outputs": [],
   "source": []
  }
 ],
 "metadata": {
  "kernelspec": {
   "display_name": "Python 3",
   "language": "python",
   "name": "python3"
  },
  "language_info": {
   "codemirror_mode": {
    "name": "ipython",
    "version": 3
   },
   "file_extension": ".py",
   "mimetype": "text/x-python",
   "name": "python",
   "nbconvert_exporter": "python",
   "pygments_lexer": "ipython3",
   "version": "3.6.5"
  }
 },
 "nbformat": 4,
 "nbformat_minor": 2
}
