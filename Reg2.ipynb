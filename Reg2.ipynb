{
 "cells": [
  {
   "cell_type": "code",
   "execution_count": 1,
   "metadata": {},
   "outputs": [],
   "source": [
    "import pandas as pd\n",
    "import numpy as np\n",
    "import matplotlib.pyplot as plt\n",
    "from sklearn import linear_model\n",
    "import math"
   ]
  },
  {
   "cell_type": "code",
   "execution_count": 2,
   "metadata": {
    "collapsed": true
   },
   "outputs": [
    {
     "data": {
      "text/html": [
       "<div>\n",
       "<style scoped>\n",
       "    .dataframe tbody tr th:only-of-type {\n",
       "        vertical-align: middle;\n",
       "    }\n",
       "\n",
       "    .dataframe tbody tr th {\n",
       "        vertical-align: top;\n",
       "    }\n",
       "\n",
       "    .dataframe thead th {\n",
       "        text-align: right;\n",
       "    }\n",
       "</style>\n",
       "<table border=\"1\" class=\"dataframe\">\n",
       "  <thead>\n",
       "    <tr style=\"text-align: right;\">\n",
       "      <th></th>\n",
       "      <th>Year</th>\n",
       "      <th>Open Price</th>\n",
       "      <th>High Price</th>\n",
       "      <th>Low Price</th>\n",
       "      <th>Close Price</th>\n",
       "      <th>No.of Shares</th>\n",
       "      <th>No. of Trades</th>\n",
       "      <th>Total Turnover (Rs.)</th>\n",
       "      <th>Deliverable Quantity</th>\n",
       "      <th>% Deli. Qty to Traded Qty</th>\n",
       "      <th>Spread High-Low</th>\n",
       "      <th>Spread Close-Open</th>\n",
       "      <th>DematFlagExist</th>\n",
       "    </tr>\n",
       "  </thead>\n",
       "  <tbody>\n",
       "    <tr>\n",
       "      <th>0</th>\n",
       "      <td>2004</td>\n",
       "      <td>1076.00</td>\n",
       "      <td>1338.00</td>\n",
       "      <td>958.55</td>\n",
       "      <td>1335.50</td>\n",
       "      <td>47397004</td>\n",
       "      <td>1162694</td>\n",
       "      <td>51266914295</td>\n",
       "      <td>12109331</td>\n",
       "      <td>25.55</td>\n",
       "      <td>379.45</td>\n",
       "      <td>259.50</td>\n",
       "      <td>NaN</td>\n",
       "    </tr>\n",
       "    <tr>\n",
       "      <th>1</th>\n",
       "      <td>2005</td>\n",
       "      <td>1349.80</td>\n",
       "      <td>1750.85</td>\n",
       "      <td>1091.00</td>\n",
       "      <td>1702.45</td>\n",
       "      <td>63160750</td>\n",
       "      <td>1422277</td>\n",
       "      <td>84809899203</td>\n",
       "      <td>20531913</td>\n",
       "      <td>32.51</td>\n",
       "      <td>659.85</td>\n",
       "      <td>352.65</td>\n",
       "      <td>NaN</td>\n",
       "    </tr>\n",
       "    <tr>\n",
       "      <th>2</th>\n",
       "      <td>2006</td>\n",
       "      <td>1707.00</td>\n",
       "      <td>2099.00</td>\n",
       "      <td>900.00</td>\n",
       "      <td>1218.60</td>\n",
       "      <td>57116956</td>\n",
       "      <td>1640999</td>\n",
       "      <td>79851718555</td>\n",
       "      <td>29973413</td>\n",
       "      <td>52.48</td>\n",
       "      <td>1199.00</td>\n",
       "      <td>-488.40</td>\n",
       "      <td>NaN</td>\n",
       "    </tr>\n",
       "    <tr>\n",
       "      <th>3</th>\n",
       "      <td>2007</td>\n",
       "      <td>1250.00</td>\n",
       "      <td>1399.00</td>\n",
       "      <td>935.00</td>\n",
       "      <td>1083.35</td>\n",
       "      <td>79522052</td>\n",
       "      <td>1747807</td>\n",
       "      <td>92570784422</td>\n",
       "      <td>50158624</td>\n",
       "      <td>63.08</td>\n",
       "      <td>464.00</td>\n",
       "      <td>-166.65</td>\n",
       "      <td>NaN</td>\n",
       "    </tr>\n",
       "    <tr>\n",
       "      <th>4</th>\n",
       "      <td>2008</td>\n",
       "      <td>1065.10</td>\n",
       "      <td>1078.00</td>\n",
       "      <td>418.00</td>\n",
       "      <td>478.10</td>\n",
       "      <td>75871717</td>\n",
       "      <td>2106962</td>\n",
       "      <td>56944484110</td>\n",
       "      <td>28717825</td>\n",
       "      <td>37.85</td>\n",
       "      <td>660.00</td>\n",
       "      <td>-587.00</td>\n",
       "      <td>NaN</td>\n",
       "    </tr>\n",
       "    <tr>\n",
       "      <th>5</th>\n",
       "      <td>2009</td>\n",
       "      <td>485.00</td>\n",
       "      <td>805.00</td>\n",
       "      <td>355.25</td>\n",
       "      <td>749.75</td>\n",
       "      <td>108462189</td>\n",
       "      <td>2084765</td>\n",
       "      <td>60476861965</td>\n",
       "      <td>39724991</td>\n",
       "      <td>36.63</td>\n",
       "      <td>449.75</td>\n",
       "      <td>264.75</td>\n",
       "      <td>NaN</td>\n",
       "    </tr>\n",
       "    <tr>\n",
       "      <th>6</th>\n",
       "      <td>2010</td>\n",
       "      <td>750.70</td>\n",
       "      <td>1179.00</td>\n",
       "      <td>692.00</td>\n",
       "      <td>1165.05</td>\n",
       "      <td>62694021</td>\n",
       "      <td>1396016</td>\n",
       "      <td>53121079184</td>\n",
       "      <td>26982541</td>\n",
       "      <td>43.04</td>\n",
       "      <td>487.00</td>\n",
       "      <td>414.35</td>\n",
       "      <td>NaN</td>\n",
       "    </tr>\n",
       "    <tr>\n",
       "      <th>7</th>\n",
       "      <td>2011</td>\n",
       "      <td>1165.00</td>\n",
       "      <td>1247.00</td>\n",
       "      <td>902.90</td>\n",
       "      <td>1161.25</td>\n",
       "      <td>50122536</td>\n",
       "      <td>1903284</td>\n",
       "      <td>55627676107</td>\n",
       "      <td>16354716</td>\n",
       "      <td>32.63</td>\n",
       "      <td>344.10</td>\n",
       "      <td>-3.75</td>\n",
       "      <td>NaN</td>\n",
       "    </tr>\n",
       "    <tr>\n",
       "      <th>8</th>\n",
       "      <td>2012</td>\n",
       "      <td>1155.15</td>\n",
       "      <td>1438.00</td>\n",
       "      <td>1046.55</td>\n",
       "      <td>1258.55</td>\n",
       "      <td>35695684</td>\n",
       "      <td>1362552</td>\n",
       "      <td>43607787115</td>\n",
       "      <td>14942552</td>\n",
       "      <td>41.86</td>\n",
       "      <td>391.45</td>\n",
       "      <td>103.40</td>\n",
       "      <td>NaN</td>\n",
       "    </tr>\n",
       "    <tr>\n",
       "      <th>9</th>\n",
       "      <td>2013</td>\n",
       "      <td>1268.00</td>\n",
       "      <td>2258.05</td>\n",
       "      <td>1255.00</td>\n",
       "      <td>2170.95</td>\n",
       "      <td>31269625</td>\n",
       "      <td>1672640</td>\n",
       "      <td>52925555188</td>\n",
       "      <td>12284320</td>\n",
       "      <td>39.29</td>\n",
       "      <td>1003.05</td>\n",
       "      <td>902.95</td>\n",
       "      <td>NaN</td>\n",
       "    </tr>\n",
       "    <tr>\n",
       "      <th>10</th>\n",
       "      <td>2014</td>\n",
       "      <td>2180.00</td>\n",
       "      <td>2834.00</td>\n",
       "      <td>2000.50</td>\n",
       "      <td>2554.70</td>\n",
       "      <td>23589135</td>\n",
       "      <td>2149541</td>\n",
       "      <td>54854681400</td>\n",
       "      <td>9657691</td>\n",
       "      <td>40.94</td>\n",
       "      <td>833.50</td>\n",
       "      <td>374.70</td>\n",
       "      <td>NaN</td>\n",
       "    </tr>\n",
       "    <tr>\n",
       "      <th>11</th>\n",
       "      <td>2015</td>\n",
       "      <td>2554.35</td>\n",
       "      <td>2810.00</td>\n",
       "      <td>2316.65</td>\n",
       "      <td>2433.35</td>\n",
       "      <td>19807559</td>\n",
       "      <td>1589117</td>\n",
       "      <td>50096845044</td>\n",
       "      <td>9375982</td>\n",
       "      <td>47.34</td>\n",
       "      <td>493.35</td>\n",
       "      <td>-121.00</td>\n",
       "      <td>NaN</td>\n",
       "    </tr>\n",
       "    <tr>\n",
       "      <th>12</th>\n",
       "      <td>2016</td>\n",
       "      <td>2432.10</td>\n",
       "      <td>2740.00</td>\n",
       "      <td>2054.70</td>\n",
       "      <td>2361.95</td>\n",
       "      <td>22454635</td>\n",
       "      <td>1091505</td>\n",
       "      <td>53619879421</td>\n",
       "      <td>12977264</td>\n",
       "      <td>57.79</td>\n",
       "      <td>685.30</td>\n",
       "      <td>-70.15</td>\n",
       "      <td>NaN</td>\n",
       "    </tr>\n",
       "    <tr>\n",
       "      <th>13</th>\n",
       "      <td>2017</td>\n",
       "      <td>2365.00</td>\n",
       "      <td>2774.00</td>\n",
       "      <td>2154.30</td>\n",
       "      <td>2700.40</td>\n",
       "      <td>20975708</td>\n",
       "      <td>846470</td>\n",
       "      <td>51317289605</td>\n",
       "      <td>11384382</td>\n",
       "      <td>54.27</td>\n",
       "      <td>619.70</td>\n",
       "      <td>335.40</td>\n",
       "      <td>NaN</td>\n",
       "    </tr>\n",
       "    <tr>\n",
       "      <th>14</th>\n",
       "      <td>2018</td>\n",
       "      <td>2689.80</td>\n",
       "      <td>3674.00</td>\n",
       "      <td>1712.90</td>\n",
       "      <td>2078.20</td>\n",
       "      <td>31859005</td>\n",
       "      <td>1042613</td>\n",
       "      <td>79924019721</td>\n",
       "      <td>15541703</td>\n",
       "      <td>48.78</td>\n",
       "      <td>1961.10</td>\n",
       "      <td>-611.60</td>\n",
       "      <td>NaN</td>\n",
       "    </tr>\n",
       "  </tbody>\n",
       "</table>\n",
       "</div>"
      ],
      "text/plain": [
       "    Year  Open Price  High Price  Low Price  Close Price  No.of Shares  \\\n",
       "0   2004     1076.00     1338.00     958.55      1335.50      47397004   \n",
       "1   2005     1349.80     1750.85    1091.00      1702.45      63160750   \n",
       "2   2006     1707.00     2099.00     900.00      1218.60      57116956   \n",
       "3   2007     1250.00     1399.00     935.00      1083.35      79522052   \n",
       "4   2008     1065.10     1078.00     418.00       478.10      75871717   \n",
       "5   2009      485.00      805.00     355.25       749.75     108462189   \n",
       "6   2010      750.70     1179.00     692.00      1165.05      62694021   \n",
       "7   2011     1165.00     1247.00     902.90      1161.25      50122536   \n",
       "8   2012     1155.15     1438.00    1046.55      1258.55      35695684   \n",
       "9   2013     1268.00     2258.05    1255.00      2170.95      31269625   \n",
       "10  2014     2180.00     2834.00    2000.50      2554.70      23589135   \n",
       "11  2015     2554.35     2810.00    2316.65      2433.35      19807559   \n",
       "12  2016     2432.10     2740.00    2054.70      2361.95      22454635   \n",
       "13  2017     2365.00     2774.00    2154.30      2700.40      20975708   \n",
       "14  2018     2689.80     3674.00    1712.90      2078.20      31859005   \n",
       "\n",
       "    No. of Trades  Total Turnover (Rs.)  Deliverable Quantity  \\\n",
       "0         1162694           51266914295              12109331   \n",
       "1         1422277           84809899203              20531913   \n",
       "2         1640999           79851718555              29973413   \n",
       "3         1747807           92570784422              50158624   \n",
       "4         2106962           56944484110              28717825   \n",
       "5         2084765           60476861965              39724991   \n",
       "6         1396016           53121079184              26982541   \n",
       "7         1903284           55627676107              16354716   \n",
       "8         1362552           43607787115              14942552   \n",
       "9         1672640           52925555188              12284320   \n",
       "10        2149541           54854681400               9657691   \n",
       "11        1589117           50096845044               9375982   \n",
       "12        1091505           53619879421              12977264   \n",
       "13         846470           51317289605              11384382   \n",
       "14        1042613           79924019721              15541703   \n",
       "\n",
       "    % Deli. Qty to Traded Qty  Spread High-Low  Spread Close-Open  \\\n",
       "0                       25.55           379.45             259.50   \n",
       "1                       32.51           659.85             352.65   \n",
       "2                       52.48          1199.00            -488.40   \n",
       "3                       63.08           464.00            -166.65   \n",
       "4                       37.85           660.00            -587.00   \n",
       "5                       36.63           449.75             264.75   \n",
       "6                       43.04           487.00             414.35   \n",
       "7                       32.63           344.10              -3.75   \n",
       "8                       41.86           391.45             103.40   \n",
       "9                       39.29          1003.05             902.95   \n",
       "10                      40.94           833.50             374.70   \n",
       "11                      47.34           493.35            -121.00   \n",
       "12                      57.79           685.30             -70.15   \n",
       "13                      54.27           619.70             335.40   \n",
       "14                      48.78          1961.10            -611.60   \n",
       "\n",
       "    DematFlagExist  \n",
       "0              NaN  \n",
       "1              NaN  \n",
       "2              NaN  \n",
       "3              NaN  \n",
       "4              NaN  \n",
       "5              NaN  \n",
       "6              NaN  \n",
       "7              NaN  \n",
       "8              NaN  \n",
       "9              NaN  \n",
       "10             NaN  \n",
       "11             NaN  \n",
       "12             NaN  \n",
       "13             NaN  \n",
       "14             NaN  "
      ]
     },
     "execution_count": 2,
     "metadata": {},
     "output_type": "execute_result"
    }
   ],
   "source": [
    "data_year_all = pd.read_csv(\"D:/Data-Analysis/Stock Market/TCS_YEAR_ALL.csv\")\n",
    "data_year_all"
   ]
  },
  {
   "cell_type": "code",
   "execution_count": 20,
   "metadata": {},
   "outputs": [],
   "source": [
    "#train_year = np.array(data_year_all['Year'][:-3])\n",
    "train_data = np.array(data_year_all['Spread High-Low'][:-3])\n",
    "test_data = np.array(data_year_all['Spread High-Low'][-3:])\n",
    "test_year = np.array(data_year_all['Year'][-3:])"
   ]
  },
  {
   "cell_type": "code",
   "execution_count": 21,
   "metadata": {},
   "outputs": [
    {
     "data": {
      "text/plain": [
       "[<matplotlib.lines.Line2D at 0x6b347f0>]"
      ]
     },
     "execution_count": 21,
     "metadata": {},
     "output_type": "execute_result"
    },
    {
     "data": {
      "image/png": "[encoded data removed]",
      "text/plain": [
       "<Figure size 432x288 with 1 Axes>"
      ]
     },
     "metadata": {},
     "output_type": "display_data"
    }
   ],
   "source": [
    "plt.plot( train_data, \"-r\")"
   ]
  },
  {
   "cell_type": "code",
   "execution_count": 27,
   "metadata": {},
   "outputs": [
    {
     "name": "stdout",
     "output_type": "stream",
     "text": [
      "613.7083333333334\n"
     ]
    }
   ],
   "source": [
    "def classify(mn, trainee):\n",
    "    if trainee>mn:\n",
    "        return True\n",
    "    else:\n",
    "        return False\n",
    "\n",
    "mean_train_val = np.mean(train_data)\n",
    "print(mean_train_val)\n",
    "log_train_data = np.array(list(map(lambda x: classify(x,mean_train_val), train_data)))"
   ]
  },
  {
   "cell_type": "code",
   "execution_count": 23,
   "metadata": {},
   "outputs": [
    {
     "name": "stderr",
     "output_type": "stream",
     "text": [
      "C:\\Users\\Anirban\\Anaconda3\\lib\\site-packages\\sklearn\\utils\\validation.py:578: DataConversionWarning: A column-vector y was passed when a 1d array was expected. Please change the shape of y to (n_samples, ), for example using ravel().\n",
      "  y = column_or_1d(y, warn=True)\n"
     ]
    },
    {
     "data": {
      "text/plain": [
       "LogisticRegression(C=1.0, class_weight=None, dual=False, fit_intercept=True,\n",
       "          intercept_scaling=1, max_iter=100, multi_class='ovr', n_jobs=1,\n",
       "          penalty='l2', random_state=None, solver='liblinear', tol=0.0001,\n",
       "          verbose=0, warm_start=False)"
      ]
     },
     "execution_count": 23,
     "metadata": {},
     "output_type": "execute_result"
    }
   ],
   "source": [
    "logistic = linear_model.LogisticRegression()\n",
    "logistic.fit(train_data.reshape(-1, 1), log_train_data.reshape(-1, 1))"
   ]
  },
  {
   "cell_type": "code",
   "execution_count": 24,
   "metadata": {},
   "outputs": [
    {
     "name": "stdout",
     "output_type": "stream",
     "text": [
      "[[-0.00248697]]\n",
      "[1.37048424]\n"
     ]
    }
   ],
   "source": [
    "log_coef = logistic.coef_\n",
    "log_incpt = logistic.intercept_\n",
    "\n",
    "print(log_coef, log_incpt, sep=\"\\n\")"
   ]
  },
  {
   "cell_type": "code",
   "execution_count": 67,
   "metadata": {},
   "outputs": [
    {
     "name": "stdout",
     "output_type": "stream",
     "text": [
      "[[2.2165826 ]\n",
      " [2.19411994]\n",
      " [2.36292353]]\n"
     ]
    },
    {
     "data": {
      "text/plain": [
       "[<matplotlib.lines.Line2D at 0xceee828>]"
      ]
     },
     "execution_count": 67,
     "metadata": {},
     "output_type": "execute_result"
    },
    {
     "data": {
      "image/png": "[encoded data removed]",
      "text/plain": [
       "<Figure size 432x288 with 1 Axes>"
      ]
     },
     "metadata": {},
     "output_type": "display_data"
    }
   ],
   "source": [
    "def sigmoid(x):\n",
    "    return 1 / (1 + math.exp(x))\n",
    "\n",
    "test_h_l = np.array(list(map(lambda x: sigmoid(log_coef*x)+log_incpt, test_data)))\n",
    "print(test_h_l)\n",
    "\n",
    "plt.grid()\n",
    "plt.ylabel('High-Low')\n",
    "plt.xlabel('Year')\n",
    "\n",
    "plt.xticks([2016, 2017, 2018])\n",
    "plt.plot(test_year, mean_train_val*test_h_l, \"-g\")\n",
    "#plt.plot(test_year, test_data, \"-b\")"
   ]
  },
  {
   "cell_type": "code",
   "execution_count": 69,
   "metadata": {},
   "outputs": [],
   "source": [
    "#print(logistic.score(train_data.reshape(-1,1), log_train_data))"
   ]
  },
  {
   "cell_type": "code",
   "execution_count": 71,
   "metadata": {},
   "outputs": [
    {
     "data": {
      "text/plain": [
       "[<matplotlib.lines.Line2D at 0xcff1550>]"
      ]
     },
     "execution_count": 71,
     "metadata": {},
     "output_type": "execute_result"
    },
    {
     "data": {
      "image/png": "[encoded data removed]",
      "text/plain": [
       "<Figure size 432x288 with 1 Axes>"
      ]
     },
     "metadata": {},
     "output_type": "display_data"
    }
   ],
   "source": [
    "plt.grid()\n",
    "plt.ylabel('High-Low')\n",
    "plt.xlabel('Year')\n",
    "\n",
    "plt.xticks([2016, 2017, 2018])\n",
    "plt.plot(test_year, test_data, \"-b\")"
   ]
  },
  {
   "cell_type": "code",
   "execution_count": null,
   "metadata": {},
   "outputs": [],
   "source": []
  }
 ],
 "metadata": {
  "kernelspec": {
   "display_name": "Python 3",
   "language": "python",
   "name": "python3"
  },
  "language_info": {
   "codemirror_mode": {
    "name": "ipython",
    "version": 3
   },
   "file_extension": ".py",
   "mimetype": "text/x-python",
   "name": "python",
   "nbconvert_exporter": "python",
   "pygments_lexer": "ipython3",
   "version": "3.6.5"
  }
 },
 "nbformat": 4,
 "nbformat_minor": 2
}
