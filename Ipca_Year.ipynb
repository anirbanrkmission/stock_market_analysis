{
 "cells": [
  {
   "cell_type": "code",
   "execution_count": 1,
   "metadata": {},
   "outputs": [],
   "source": [
    "from sklearn.svm import SVR\n",
    "from sklearn.decomposition import PCA\n",
    "import numpy as np\n",
    "import pandas as pd"
   ]
  },
  {
   "cell_type": "code",
   "execution_count": 2,
   "metadata": {
    "scrolled": false
   },
   "outputs": [],
   "source": [
    "data = pd.read_csv('D:/Data-Analysis/Stock Market/CSV/Ipca_Year.csv')"
   ]
  },
  {
   "cell_type": "code",
   "execution_count": 3,
   "metadata": {},
   "outputs": [],
   "source": [
    "y = np.array(data['Close Price'])/max(data['Close Price'])"
   ]
  },
  {
   "cell_type": "code",
   "execution_count": 4,
   "metadata": {},
   "outputs": [],
   "source": [
    "trade = np.array(data['% Deli. Qty to Traded Qty'])\n",
    "for i in range(len(trade)):\n",
    "    if (trade[i]>0):\n",
    "        continue\n",
    "    else:\n",
    "        trade[i]=0\n",
    "        \n",
    "#trade\n",
    "data['% Deli. Qty to Traded Qty']=trade\n",
    "\n",
    "trade = np.array(data['Deliverable Quantity'])\n",
    "for i in range(len(trade)):\n",
    "    if (trade[i]>0):\n",
    "        continue\n",
    "    else:\n",
    "        trade[i]=0\n",
    "        \n",
    "#trade\n",
    "data['Deliverable Quantity']=trade"
   ]
  },
  {
   "cell_type": "code",
   "execution_count": 5,
   "metadata": {},
   "outputs": [],
   "source": [
    "data = np.array(data)\n",
    "data = data.transpose()\n",
    "for i in range(len(data)):\n",
    "    data[i]= data[i]/max(data[i])\n",
    "\n",
    "data = data.transpose()\n",
    "x_train, x_test, y_train, y_test = (np.array(data[:20]), np.array(data[20:]), y[:20], y[20:])"
   ]
  },
  {
   "cell_type": "code",
   "execution_count": 6,
   "metadata": {},
   "outputs": [],
   "source": [
    "pca = PCA(n_components=7)\n",
    "data = pca.fit(data).transform(data)"
   ]
  },
  {
   "cell_type": "code",
   "execution_count": 7,
   "metadata": {},
   "outputs": [
    {
     "data": {
      "text/plain": [
       "array([0.50160224, 0.20552904, 0.12694155, 0.05661301, 0.03522836,\n",
       "       0.01079801, 0.0072074 ])"
      ]
     },
     "execution_count": 7,
     "metadata": {},
     "output_type": "execute_result"
    }
   ],
   "source": [
    "pca.explained_variance_"
   ]
  },
  {
   "cell_type": "code",
   "execution_count": 8,
   "metadata": {},
   "outputs": [],
   "source": [
    "svr = SVR(gamma=0.01, C=1.0, epsilon=0.2)"
   ]
  },
  {
   "cell_type": "code",
   "execution_count": 9,
   "metadata": {},
   "outputs": [
    {
     "data": {
      "text/plain": [
       "array([[-6.04834373e-01, -1.78286761e-01, -5.85283516e-02,\n",
       "        -3.50109404e-01,  1.73291963e-01,  9.66254760e-02,\n",
       "        -1.07461194e-01],\n",
       "       [-7.26890857e-01,  2.81223985e-01, -5.42734765e-02,\n",
       "        -2.75043258e-01,  9.18358948e-02,  1.88034150e-02,\n",
       "        -3.88137544e-02],\n",
       "       [-8.16334051e-01,  4.23094133e-01, -8.24844482e-02,\n",
       "        -1.73083934e-01,  1.18157540e-01, -7.46914865e-02,\n",
       "        -1.36733091e-02],\n",
       "       [-9.45729789e-01, -1.42970320e-02,  8.66271414e-02,\n",
       "        -4.63408117e-02, -2.88789614e-02, -3.52204011e-02,\n",
       "        -6.89578215e-02],\n",
       "       [-7.94971069e-01,  5.22224378e-02,  2.41299802e-01,\n",
       "         1.23956153e-01,  3.95681024e-02,  8.57686810e-02,\n",
       "         4.32963286e-02],\n",
       "       [-4.53024045e-01, -1.13663676e-01,  5.22509695e-01,\n",
       "         4.22696616e-01,  2.56495602e-01,  2.41364379e-01,\n",
       "         2.16132519e-01],\n",
       "       [-8.71586768e-01,  2.13289531e-01, -3.61309837e-03,\n",
       "        -1.68703882e-01,  1.15467837e-02, -3.38047435e-02,\n",
       "        -5.23214617e-02],\n",
       "       [-7.35496553e-01,  2.38342614e-01,  1.49412181e-01,\n",
       "         4.78555700e-03,  9.16772730e-02,  2.94855163e-02,\n",
       "         5.29636677e-02],\n",
       "       [-9.31817706e-01,  7.84211541e-02,  1.61170597e-01,\n",
       "         3.27476365e-02, -3.73225193e-02, -4.16668279e-02,\n",
       "        -1.09142390e-02],\n",
       "       [-1.00825505e+00,  4.15877628e-02,  7.56557725e-02,\n",
       "        -3.75538001e-02, -6.54846921e-02, -7.44099977e-02,\n",
       "        -7.04262992e-02],\n",
       "       [-5.33195522e-01, -1.83464086e-01, -1.30321540e-01,\n",
       "         2.88533126e-01, -3.30046383e-01, -1.53540378e-01,\n",
       "         6.03755656e-02],\n",
       "       [ 5.95091510e-02, -6.64564936e-01, -7.67626280e-02,\n",
       "         3.04506275e-01,  2.15547586e-01, -1.37112586e-01,\n",
       "        -3.13728356e-02],\n",
       "       [ 5.34485428e-01, -4.68876725e-01, -2.74082874e-01,\n",
       "        -2.57655035e-01,  1.85447423e-01,  7.71361142e-02,\n",
       "         5.88896310e-03],\n",
       "       [ 4.03803027e-01,  7.55221703e-01, -6.17014133e-01,\n",
       "        -1.56525501e-01, -3.08446284e-02, -8.26851523e-03,\n",
       "         1.45746633e-01],\n",
       "       [ 1.14939823e-01, -3.17098530e-01, -3.13666221e-01,\n",
       "         1.34666300e-01, -9.99250924e-02, -2.94987423e-02,\n",
       "         1.88656549e-02],\n",
       "       [ 6.42671331e-01, -2.12169686e-01, -2.82160442e-01,\n",
       "        -7.85473147e-02, -3.29342667e-01,  2.41917703e-01,\n",
       "        -8.47745410e-02],\n",
       "       [ 2.41492821e-01,  4.17110674e-01, -6.03879210e-01,\n",
       "        -5.99907931e-02, -2.36393559e-01, -3.84867666e-02,\n",
       "         1.58414686e-01],\n",
       "       [ 3.58870716e-01, -1.15335848e+00, -6.92138409e-01,\n",
       "         4.13571949e-02,  3.20241024e-01, -9.99846451e-02,\n",
       "         5.11051080e-02],\n",
       "       [ 1.11894788e+00,  1.25934917e+00, -3.67957641e-01,\n",
       "         4.01488726e-01,  3.77019308e-01,  1.72325572e-03,\n",
       "        -1.39950621e-01],\n",
       "       [-5.77946218e-03,  1.07940938e-01, -4.72801397e-03,\n",
       "         2.46395603e-01, -3.53511565e-01, -1.24867832e-02,\n",
       "        -8.26505463e-03],\n",
       "       [ 4.12654904e-01, -3.21726060e-01,  2.06810850e-01,\n",
       "         4.44390521e-01, -1.40493422e-01,  3.51422135e-03,\n",
       "        -1.45820322e-01],\n",
       "       [ 5.61160686e-01, -3.52106334e-01,  6.29307589e-02,\n",
       "        -7.39522572e-02, -1.02156023e-01,  3.37523250e-02,\n",
       "        -4.65043011e-02],\n",
       "       [ 8.95729536e-01, -8.57143579e-02,  4.64596315e-01,\n",
       "        -4.22444308e-01, -2.27710309e-02, -1.00252387e-01,\n",
       "         4.27132469e-02],\n",
       "       [ 1.12771135e+00, -1.32294749e-02,  7.76526287e-01,\n",
       "        -2.59864404e-01,  5.12238942e-02, -1.36002904e-01,\n",
       "         5.77218875e-02],\n",
       "       [ 9.42659130e-01,  4.01805085e-01,  5.44252221e-01,\n",
       "         9.84752607e-02, -2.49644816e-02, -9.03998962e-02,\n",
       "        -4.82289526e-04],\n",
       "       [ 4.87274730e-01, -8.48091084e-02,  3.08821990e-01,\n",
       "         1.42647253e-02, -2.03002254e-02,  7.17180559e-02,\n",
       "        -5.95595788e-03],\n",
       "       [ 5.26004729e-01, -1.06243951e-01, -3.90031247e-02,\n",
       "        -1.98448991e-01, -1.09617144e-01,  1.64017917e-01,\n",
       "        -2.75302586e-02]])"
      ]
     },
     "execution_count": 9,
     "metadata": {},
     "output_type": "execute_result"
    }
   ],
   "source": [
    "data"
   ]
  },
  {
   "cell_type": "code",
   "execution_count": 10,
   "metadata": {},
   "outputs": [],
   "source": [
    "x_train, x_test, y_train, y_test = (np.array(data[:20]), np.array(data[20:]), y[:20], y[20:])"
   ]
  },
  {
   "cell_type": "code",
   "execution_count": 11,
   "metadata": {},
   "outputs": [
    {
     "data": {
      "text/plain": [
       "SVR(C=1.0, cache_size=200, coef0=0.0, degree=3, epsilon=0.2, gamma=0.01,\n",
       "  kernel='rbf', max_iter=-1, shrinking=True, tol=0.001, verbose=False)"
      ]
     },
     "execution_count": 11,
     "metadata": {},
     "output_type": "execute_result"
    }
   ],
   "source": [
    "svr.fit(x_train, y_train)"
   ]
  },
  {
   "cell_type": "code",
   "execution_count": 12,
   "metadata": {},
   "outputs": [
    {
     "data": {
      "text/plain": [
       "-4.573184358439543"
      ]
     },
     "execution_count": 12,
     "metadata": {},
     "output_type": "execute_result"
    }
   ],
   "source": [
    "svr.score(x_test,y_test)"
   ]
  },
  {
   "cell_type": "code",
   "execution_count": 13,
   "metadata": {},
   "outputs": [],
   "source": [
    "import matplotlib.pyplot as plt"
   ]
  },
  {
   "cell_type": "code",
   "execution_count": 14,
   "metadata": {},
   "outputs": [
    {
     "data": {
      "image/png": "[encoded data removed]",
      "text/plain": [
       "<Figure size 432x288 with 1 Axes>"
      ]
     },
     "metadata": {},
     "output_type": "display_data"
    }
   ],
   "source": [
    "plt.plot(svr.predict(x_test))\n",
    "plt.plot(y_test)\n",
    "plt.show()"
   ]
  },
  {
   "cell_type": "code",
   "execution_count": 16,
   "metadata": {},
   "outputs": [],
   "source": [
    "from sklearn.neural_network import MLPRegressor\n",
    "mlp = MLPRegressor()"
   ]
  },
  {
   "cell_type": "code",
   "execution_count": 17,
   "metadata": {},
   "outputs": [
    {
     "data": {
      "text/plain": [
       "MLPRegressor(activation='relu', alpha=0.0001, batch_size='auto', beta_1=0.9,\n",
       "       beta_2=0.999, early_stopping=False, epsilon=1e-08,\n",
       "       hidden_layer_sizes=(100,), learning_rate='constant',\n",
       "       learning_rate_init=0.001, max_iter=200, momentum=0.9,\n",
       "       nesterovs_momentum=True, power_t=0.5, random_state=None,\n",
       "       shuffle=True, solver='adam', tol=0.0001, validation_fraction=0.1,\n",
       "       verbose=False, warm_start=False)"
      ]
     },
     "execution_count": 17,
     "metadata": {},
     "output_type": "execute_result"
    }
   ],
   "source": [
    "mlp.fit(x_train, y_train)"
   ]
  },
  {
   "cell_type": "code",
   "execution_count": 20,
   "metadata": {},
   "outputs": [],
   "source": [
    "x_pred = mlp.predict(x_test)"
   ]
  },
  {
   "cell_type": "code",
   "execution_count": 19,
   "metadata": {},
   "outputs": [
    {
     "data": {
      "text/plain": [
       "array([0.49558451, 0.68833835, 0.69836269, 0.71659745, 0.5078524 ,\n",
       "       0.57057616, 0.59845339])"
      ]
     },
     "execution_count": 19,
     "metadata": {},
     "output_type": "execute_result"
    }
   ],
   "source": [
    "y_test"
   ]
  },
  {
   "cell_type": "code",
   "execution_count": 23,
   "metadata": {},
   "outputs": [
    {
     "data": {
      "image/png": "[encoded data removed]",
      "text/plain": [
       "<Figure size 432x288 with 1 Axes>"
      ]
     },
     "metadata": {},
     "output_type": "display_data"
    }
   ],
   "source": [
    "plt.plot(x_pred, \"-og\")\n",
    "plt.plot(y_test, \"-ob\")\n",
    "plt.show()"
   ]
  },
  {
   "cell_type": "code",
   "execution_count": null,
   "metadata": {},
   "outputs": [],
   "source": []
  }
 ],
 "metadata": {
  "kernelspec": {
   "display_name": "Python 3",
   "language": "python",
   "name": "python3"
  },
  "language_info": {
   "codemirror_mode": {
    "name": "ipython",
    "version": 3
   },
   "file_extension": ".py",
   "mimetype": "text/x-python",
   "name": "python",
   "nbconvert_exporter": "python",
   "pygments_lexer": "ipython3",
   "version": "3.6.5"
  }
 },
 "nbformat": 4,
 "nbformat_minor": 2
}
