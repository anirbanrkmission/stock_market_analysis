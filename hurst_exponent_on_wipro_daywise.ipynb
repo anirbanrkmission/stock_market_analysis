{
  "nbformat": 4,
  "nbformat_minor": 0,
  "metadata": {
    "colab": {
      "name": "hurst exponent on wipro daywise.ipynb",
      "version": "0.3.2",
      "provenance": [],
      "include_colab_link": true
    },
    "kernelspec": {
      "name": "python3",
      "display_name": "Python 3"
    },
    "accelerator": "GPU"
  },
  "cells": [
    {
      "cell_type": "markdown",
      "metadata": {
        "id": "view-in-github",
        "colab_type": "text"
      },
      "source": [
        "<a href=\"https://colab.research.google.com/github/approjecthub/stock_market_analysis/blob/stock_market-patch-1/hurst_exponent_on_wipro_daywise.ipynb\" target=\"_parent\"><img src=\"https://colab.research.google.com/assets/colab-badge.svg\" alt=\"Open In Colab\"/></a>"
      ]
    },
    {
      "metadata": {
        "id": "k3Km7w6RqS33",
        "colab_type": "code",
        "outputId": "7c7a00b0-e948-4086-e7fb-7252bc5cbaca",
        "colab": {
          "base_uri": "https://localhost:8080/",
          "height": 170
        }
      },
      "cell_type": "code",
      "source": [
        "!pip install hurst"
      ],
      "execution_count": 0,
      "outputs": [
        {
          "output_type": "stream",
          "text": [
            "Collecting hurst\n",
            "  Downloading https://files.pythonhosted.org/packages/02/4f/d3471ce0dca03a21d4c6640da07a6040c9cc800a937233086b6cea6a7dc2/hurst-0.0.5-py3-none-any.whl\n",
            "Requirement already satisfied: numpy>=1.10 in /usr/local/lib/python3.6/dist-packages (from hurst) (1.14.6)\n",
            "Requirement already satisfied: pandas>=0.18 in /usr/local/lib/python3.6/dist-packages (from hurst) (0.22.0)\n",
            "Requirement already satisfied: pytz>=2011k in /usr/local/lib/python3.6/dist-packages (from pandas>=0.18->hurst) (2018.9)\n",
            "Requirement already satisfied: python-dateutil>=2 in /usr/local/lib/python3.6/dist-packages (from pandas>=0.18->hurst) (2.5.3)\n",
            "Requirement already satisfied: six>=1.5 in /usr/local/lib/python3.6/dist-packages (from python-dateutil>=2->pandas>=0.18->hurst) (1.11.0)\n",
            "Installing collected packages: hurst\n",
            "Successfully installed hurst-0.0.5\n"
          ],
          "name": "stdout"
        }
      ]
    },
    {
      "metadata": {
        "id": "_plzjjBPqiz5",
        "colab_type": "code",
        "colab": {}
      },
      "cell_type": "code",
      "source": [
        "import pandas as pd\n",
        "import numpy as np\n",
        "from hurst import compute_Hc, random_walk\n",
        "import matplotlib.pyplot as plt"
      ],
      "execution_count": 0,
      "outputs": []
    },
    {
      "metadata": {
        "id": "IpvpVFBsU269",
        "colab_type": "code",
        "colab": {}
      },
      "cell_type": "code",
      "source": [
        "np.random.seed(42)"
      ],
      "execution_count": 0,
      "outputs": []
    },
    {
      "metadata": {
        "id": "NtW8wIafUgMN",
        "colab_type": "code",
        "colab": {}
      },
      "cell_type": "code",
      "source": [
        "data = pd.read_csv('https://raw.githubusercontent.com/approjecthub/stock_market_analysis/stock_market-patch-1/Wipro.csv')"
      ],
      "execution_count": 0,
      "outputs": []
    },
    {
      "metadata": {
        "id": "npZ9H4LGXaOK",
        "colab_type": "code",
        "outputId": "47c3ee8d-0829-4f01-d993-c62ff71f4f0c",
        "colab": {
          "base_uri": "https://localhost:8080/",
          "height": 306
        }
      },
      "cell_type": "code",
      "source": [
        "data.head()"
      ],
      "execution_count": 25,
      "outputs": [
        {
          "output_type": "execute_result",
          "data": {
            "text/html": [
              "<div>\n",
              "<style scoped>\n",
              "    .dataframe tbody tr th:only-of-type {\n",
              "        vertical-align: middle;\n",
              "    }\n",
              "\n",
              "    .dataframe tbody tr th {\n",
              "        vertical-align: top;\n",
              "    }\n",
              "\n",
              "    .dataframe thead th {\n",
              "        text-align: right;\n",
              "    }\n",
              "</style>\n",
              "<table border=\"1\" class=\"dataframe\">\n",
              "  <thead>\n",
              "    <tr style=\"text-align: right;\">\n",
              "      <th></th>\n",
              "      <th>Date</th>\n",
              "      <th>Open Price</th>\n",
              "      <th>High Price</th>\n",
              "      <th>Low Price</th>\n",
              "      <th>Close Price</th>\n",
              "      <th>WAP</th>\n",
              "      <th>No.of Shares</th>\n",
              "      <th>No. of Trades</th>\n",
              "      <th>Total Turnover (Rs.)</th>\n",
              "      <th>Deliverable Quantity</th>\n",
              "      <th>% Deli. Qty to Traded Qty</th>\n",
              "      <th>Spread High-Low</th>\n",
              "      <th>Spread Close-Open</th>\n",
              "    </tr>\n",
              "  </thead>\n",
              "  <tbody>\n",
              "    <tr>\n",
              "      <th>0</th>\n",
              "      <td>8-October-2018</td>\n",
              "      <td>321.50</td>\n",
              "      <td>323.15</td>\n",
              "      <td>313.2</td>\n",
              "      <td>318.35</td>\n",
              "      <td>317.589754</td>\n",
              "      <td>256858</td>\n",
              "      <td>2224</td>\n",
              "      <td>81575469.0</td>\n",
              "      <td>146036.0</td>\n",
              "      <td>56.85</td>\n",
              "      <td>9.95</td>\n",
              "      <td>-3.15</td>\n",
              "    </tr>\n",
              "    <tr>\n",
              "      <th>1</th>\n",
              "      <td>5-October-2018</td>\n",
              "      <td>326.00</td>\n",
              "      <td>327.55</td>\n",
              "      <td>320.6</td>\n",
              "      <td>325.30</td>\n",
              "      <td>325.261780</td>\n",
              "      <td>149282</td>\n",
              "      <td>2737</td>\n",
              "      <td>48555729.0</td>\n",
              "      <td>45247.0</td>\n",
              "      <td>30.31</td>\n",
              "      <td>6.95</td>\n",
              "      <td>-0.70</td>\n",
              "    </tr>\n",
              "    <tr>\n",
              "      <th>2</th>\n",
              "      <td>4-October-2018</td>\n",
              "      <td>325.00</td>\n",
              "      <td>330.65</td>\n",
              "      <td>321.6</td>\n",
              "      <td>325.70</td>\n",
              "      <td>327.683736</td>\n",
              "      <td>599278</td>\n",
              "      <td>6184</td>\n",
              "      <td>196373654.0</td>\n",
              "      <td>288555.0</td>\n",
              "      <td>48.15</td>\n",
              "      <td>9.05</td>\n",
              "      <td>0.70</td>\n",
              "    </tr>\n",
              "    <tr>\n",
              "      <th>3</th>\n",
              "      <td>3-October-2018</td>\n",
              "      <td>330.15</td>\n",
              "      <td>330.85</td>\n",
              "      <td>322.8</td>\n",
              "      <td>327.95</td>\n",
              "      <td>326.803545</td>\n",
              "      <td>257387</td>\n",
              "      <td>3163</td>\n",
              "      <td>84114984.0</td>\n",
              "      <td>117447.0</td>\n",
              "      <td>45.63</td>\n",
              "      <td>8.05</td>\n",
              "      <td>-2.20</td>\n",
              "    </tr>\n",
              "    <tr>\n",
              "      <th>4</th>\n",
              "      <td>1-October-2018</td>\n",
              "      <td>323.95</td>\n",
              "      <td>332.25</td>\n",
              "      <td>322.9</td>\n",
              "      <td>330.85</td>\n",
              "      <td>329.760854</td>\n",
              "      <td>197030</td>\n",
              "      <td>3004</td>\n",
              "      <td>64972781.0</td>\n",
              "      <td>87100.0</td>\n",
              "      <td>44.21</td>\n",
              "      <td>9.35</td>\n",
              "      <td>6.90</td>\n",
              "    </tr>\n",
              "  </tbody>\n",
              "</table>\n",
              "</div>"
            ],
            "text/plain": [
              "             Date  Open Price  High Price  Low Price  Close Price         WAP  \\\n",
              "0  8-October-2018      321.50      323.15      313.2       318.35  317.589754   \n",
              "1  5-October-2018      326.00      327.55      320.6       325.30  325.261780   \n",
              "2  4-October-2018      325.00      330.65      321.6       325.70  327.683736   \n",
              "3  3-October-2018      330.15      330.85      322.8       327.95  326.803545   \n",
              "4  1-October-2018      323.95      332.25      322.9       330.85  329.760854   \n",
              "\n",
              "   No.of Shares  No. of Trades  Total Turnover (Rs.)  Deliverable Quantity  \\\n",
              "0        256858           2224            81575469.0              146036.0   \n",
              "1        149282           2737            48555729.0               45247.0   \n",
              "2        599278           6184           196373654.0              288555.0   \n",
              "3        257387           3163            84114984.0              117447.0   \n",
              "4        197030           3004            64972781.0               87100.0   \n",
              "\n",
              "   % Deli. Qty to Traded Qty  Spread High-Low  Spread Close-Open  \n",
              "0                      56.85             9.95              -3.15  \n",
              "1                      30.31             6.95              -0.70  \n",
              "2                      48.15             9.05               0.70  \n",
              "3                      45.63             8.05              -2.20  \n",
              "4                      44.21             9.35               6.90  "
            ]
          },
          "metadata": {
            "tags": []
          },
          "execution_count": 25
        }
      ]
    },
    {
      "metadata": {
        "id": "L4KVUzdfXf68",
        "colab_type": "code",
        "outputId": "3d0a88b2-a15a-4ab2-9ad4-1af763520668",
        "colab": {
          "base_uri": "https://localhost:8080/",
          "height": 365
        }
      },
      "cell_type": "code",
      "source": [
        "plt.plot(data['Close Price'])"
      ],
      "execution_count": 0,
      "outputs": [
        {
          "output_type": "execute_result",
          "data": {
            "text/plain": [
              "[<matplotlib.lines.Line2D at 0x7f8a19ba9e48>]"
            ]
          },
          "metadata": {
            "tags": []
          },
          "execution_count": 22
        },
        {
          "output_type": "display_data",
          "data": {
            "image/png": "[encoded data removed]",
            "text/plain": [
              "<Figure size 576x396 with 1 Axes>"
            ]
          },
          "metadata": {
            "tags": []
          }
        }
      ]
    },
    {
      "metadata": {
        "id": "L2Wgv6doVMNN",
        "colab_type": "code",
        "outputId": "67a8fded-9848-41e1-afcb-d7d9a3803e21",
        "colab": {
          "base_uri": "https://localhost:8080/",
          "height": 382
        }
      },
      "cell_type": "code",
      "source": [
        "# Evaluate Hurst equation\n",
        "H, c, data = compute_Hc(data['Close Price'], kind='price', simplified=True)\n",
        "\n",
        "# Plot\n",
        "f, ax = plt.subplots()\n",
        "ax.plot(data[0], c*data[0]**H, color=\"deepskyblue\")\n",
        "ax.scatter(data[0], data[1], color=\"purple\")\n",
        "ax.set_xscale('log')\n",
        "ax.set_yscale('log')\n",
        "ax.set_xlabel('Time interval')\n",
        "ax.set_ylabel('R/S ratio')\n",
        "ax.grid(True)\n",
        "plt.show()\n",
        "\n",
        "print(\"H={:.4f}, c={:.4f}\".format(H,c))"
      ],
      "execution_count": 0,
      "outputs": [
        {
          "output_type": "display_data",
          "data": {
            "image/png": "[encoded data removed]",
            "text/plain": [
              "<Figure size 576x396 with 1 Axes>"
            ]
          },
          "metadata": {
            "tags": []
          }
        },
        {
          "output_type": "stream",
          "text": [
            "H=0.6513, c=0.8719\n"
          ],
          "name": "stdout"
        }
      ]
    },
    {
      "metadata": {
        "id": "qb6nZ7byWxrG",
        "colab_type": "text"
      },
      "cell_type": "markdown",
      "source": [
        "H>0.5, which infers that wipro daywise data is persistent which means it is predictable using time series"
      ]
    },
    {
      "metadata": {
        "id": "6G6EI1kSVe4W",
        "colab_type": "code",
        "colab": {}
      },
      "cell_type": "code",
      "source": [
        ""
      ],
      "execution_count": 0,
      "outputs": []
    }
  ]
}